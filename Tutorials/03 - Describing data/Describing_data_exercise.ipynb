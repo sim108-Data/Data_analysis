{
 "cells": [
  {
   "cell_type": "markdown",
   "metadata": {},
   "source": [
    "### In this exercise, first, you will familiarize yourself with python libraries statsmodels and SciPy that let you do statistical analysis: calculate descriptive statistics, sample the. datapoints, study relationship between variables, and perform hypothesis testing. Then, second, you will work independently on a set of exercises that will let you practice your skills.\n",
    "\n",
    "### Here we show a couple of examples of how to do common analyses, but there are many more useful statistical distributions and statistical tests. In the linked documentation, you will find complete information, and a lot more details compared to what is outlined in this notebook:\n",
    "- [statsmodels](https://www.statsmodels.org/stable/examples/index.html), [more complete documentation](https://www.statsmodels.org/stable/stats.html)\n",
    "- [SciPy](https://docs.scipy.org/doc/scipy/reference/stats.html)"
   ]
  },
  {
   "cell_type": "markdown",
   "metadata": {},
   "source": [
    "# Tutorial: How to use the libraries\n",
    "\n",
    "- You will be working with the full US 2015 census dataset (acs2015_county_data.csv, available at https://www.kaggle.com/muonneutrino/us-census-demographic-data#acs2015_county_data.csv). Here we load it. Take some time to familiarize yourself with the contents. One row represents one county."
   ]
  },
  {
   "cell_type": "code",
   "execution_count": 77,
   "metadata": {},
   "outputs": [],
   "source": [
    "import pandas as pd\n",
    "import pandas as pd\n",
    "import numpy as np\n",
    "import matplotlib.pyplot as plt\n",
    "%matplotlib inline\n",
    "import seaborn as sns\n",
    "import math\n",
    "\n",
    "#load the statistical libraries\n",
    "from statsmodels.stats import diagnostic\n",
    "from scipy import stats"
   ]
  },
  {
   "cell_type": "code",
   "execution_count": 2,
   "metadata": {},
   "outputs": [],
   "source": [
    "data_folder = './data/'\n",
    "df = pd.read_csv(data_folder + 'acs2015_county_data.csv')"
   ]
  },
  {
   "cell_type": "code",
   "execution_count": 3,
   "metadata": {},
   "outputs": [
    {
     "data": {
      "text/plain": [
       "Index(['CensusId', 'State', 'County', 'TotalPop', 'Men', 'Women', 'Hispanic',\n",
       "       'White', 'Black', 'Native', 'Asian', 'Pacific', 'Citizen', 'Income',\n",
       "       'IncomeErr', 'IncomePerCap', 'IncomePerCapErr', 'Poverty',\n",
       "       'ChildPoverty', 'Professional', 'Service', 'Office', 'Construction',\n",
       "       'Production', 'Drive', 'Carpool', 'Transit', 'Walk', 'OtherTransp',\n",
       "       'WorkAtHome', 'MeanCommute', 'Employed', 'PrivateWork', 'PublicWork',\n",
       "       'SelfEmployed', 'FamilyWork', 'Unemployment'],\n",
       "      dtype='object')"
      ]
     },
     "execution_count": 3,
     "metadata": {},
     "output_type": "execute_result"
    }
   ],
   "source": [
    "df.columns"
   ]
  },
  {
   "cell_type": "code",
   "execution_count": 4,
   "metadata": {},
   "outputs": [
    {
     "data": {
      "text/html": [
       "<div>\n",
       "<style scoped>\n",
       "    .dataframe tbody tr th:only-of-type {\n",
       "        vertical-align: middle;\n",
       "    }\n",
       "\n",
       "    .dataframe tbody tr th {\n",
       "        vertical-align: top;\n",
       "    }\n",
       "\n",
       "    .dataframe thead th {\n",
       "        text-align: right;\n",
       "    }\n",
       "</style>\n",
       "<table border=\"1\" class=\"dataframe\">\n",
       "  <thead>\n",
       "    <tr style=\"text-align: right;\">\n",
       "      <th></th>\n",
       "      <th>CensusId</th>\n",
       "      <th>State</th>\n",
       "      <th>County</th>\n",
       "      <th>TotalPop</th>\n",
       "      <th>Men</th>\n",
       "      <th>Women</th>\n",
       "      <th>Hispanic</th>\n",
       "      <th>White</th>\n",
       "      <th>Black</th>\n",
       "      <th>Native</th>\n",
       "      <th>...</th>\n",
       "      <th>Walk</th>\n",
       "      <th>OtherTransp</th>\n",
       "      <th>WorkAtHome</th>\n",
       "      <th>MeanCommute</th>\n",
       "      <th>Employed</th>\n",
       "      <th>PrivateWork</th>\n",
       "      <th>PublicWork</th>\n",
       "      <th>SelfEmployed</th>\n",
       "      <th>FamilyWork</th>\n",
       "      <th>Unemployment</th>\n",
       "    </tr>\n",
       "  </thead>\n",
       "  <tbody>\n",
       "    <tr>\n",
       "      <th>698</th>\n",
       "      <td>18003</td>\n",
       "      <td>Indiana</td>\n",
       "      <td>Allen</td>\n",
       "      <td>363453</td>\n",
       "      <td>177301</td>\n",
       "      <td>186152</td>\n",
       "      <td>7.0</td>\n",
       "      <td>75.2</td>\n",
       "      <td>11.3</td>\n",
       "      <td>0.2</td>\n",
       "      <td>...</td>\n",
       "      <td>1.3</td>\n",
       "      <td>1.1</td>\n",
       "      <td>4.0</td>\n",
       "      <td>20.8</td>\n",
       "      <td>170294</td>\n",
       "      <td>86.4</td>\n",
       "      <td>9.1</td>\n",
       "      <td>4.4</td>\n",
       "      <td>0.2</td>\n",
       "      <td>8.0</td>\n",
       "    </tr>\n",
       "    <tr>\n",
       "      <th>2221</th>\n",
       "      <td>41027</td>\n",
       "      <td>Oregon</td>\n",
       "      <td>Hood River</td>\n",
       "      <td>22749</td>\n",
       "      <td>11326</td>\n",
       "      <td>11423</td>\n",
       "      <td>30.5</td>\n",
       "      <td>64.8</td>\n",
       "      <td>0.5</td>\n",
       "      <td>0.7</td>\n",
       "      <td>...</td>\n",
       "      <td>7.3</td>\n",
       "      <td>3.7</td>\n",
       "      <td>9.3</td>\n",
       "      <td>16.2</td>\n",
       "      <td>11251</td>\n",
       "      <td>79.0</td>\n",
       "      <td>13.3</td>\n",
       "      <td>7.7</td>\n",
       "      <td>0.0</td>\n",
       "      <td>5.1</td>\n",
       "    </tr>\n",
       "    <tr>\n",
       "      <th>2917</th>\n",
       "      <td>51530</td>\n",
       "      <td>Virginia</td>\n",
       "      <td>Buena Vista city</td>\n",
       "      <td>6666</td>\n",
       "      <td>3062</td>\n",
       "      <td>3604</td>\n",
       "      <td>1.4</td>\n",
       "      <td>88.9</td>\n",
       "      <td>1.1</td>\n",
       "      <td>0.0</td>\n",
       "      <td>...</td>\n",
       "      <td>7.0</td>\n",
       "      <td>2.5</td>\n",
       "      <td>1.4</td>\n",
       "      <td>15.6</td>\n",
       "      <td>2824</td>\n",
       "      <td>82.6</td>\n",
       "      <td>15.0</td>\n",
       "      <td>2.3</td>\n",
       "      <td>0.0</td>\n",
       "      <td>7.3</td>\n",
       "    </tr>\n",
       "    <tr>\n",
       "      <th>3108</th>\n",
       "      <td>55121</td>\n",
       "      <td>Wisconsin</td>\n",
       "      <td>Trempealeau</td>\n",
       "      <td>29412</td>\n",
       "      <td>14813</td>\n",
       "      <td>14599</td>\n",
       "      <td>6.6</td>\n",
       "      <td>91.6</td>\n",
       "      <td>0.5</td>\n",
       "      <td>0.2</td>\n",
       "      <td>...</td>\n",
       "      <td>3.9</td>\n",
       "      <td>1.4</td>\n",
       "      <td>4.6</td>\n",
       "      <td>21.4</td>\n",
       "      <td>15166</td>\n",
       "      <td>78.7</td>\n",
       "      <td>12.0</td>\n",
       "      <td>9.0</td>\n",
       "      <td>0.3</td>\n",
       "      <td>3.6</td>\n",
       "    </tr>\n",
       "    <tr>\n",
       "      <th>1007</th>\n",
       "      <td>21029</td>\n",
       "      <td>Kentucky</td>\n",
       "      <td>Bullitt</td>\n",
       "      <td>76961</td>\n",
       "      <td>38049</td>\n",
       "      <td>38912</td>\n",
       "      <td>1.6</td>\n",
       "      <td>95.3</td>\n",
       "      <td>0.5</td>\n",
       "      <td>0.2</td>\n",
       "      <td>...</td>\n",
       "      <td>0.8</td>\n",
       "      <td>0.7</td>\n",
       "      <td>2.6</td>\n",
       "      <td>27.5</td>\n",
       "      <td>37079</td>\n",
       "      <td>84.6</td>\n",
       "      <td>10.9</td>\n",
       "      <td>4.4</td>\n",
       "      <td>0.1</td>\n",
       "      <td>7.6</td>\n",
       "    </tr>\n",
       "    <tr>\n",
       "      <th>2619</th>\n",
       "      <td>48193</td>\n",
       "      <td>Texas</td>\n",
       "      <td>Hamilton</td>\n",
       "      <td>8266</td>\n",
       "      <td>4040</td>\n",
       "      <td>4226</td>\n",
       "      <td>11.2</td>\n",
       "      <td>86.4</td>\n",
       "      <td>1.0</td>\n",
       "      <td>0.4</td>\n",
       "      <td>...</td>\n",
       "      <td>5.9</td>\n",
       "      <td>0.5</td>\n",
       "      <td>3.6</td>\n",
       "      <td>21.0</td>\n",
       "      <td>3279</td>\n",
       "      <td>72.9</td>\n",
       "      <td>17.8</td>\n",
       "      <td>7.5</td>\n",
       "      <td>1.9</td>\n",
       "      <td>5.9</td>\n",
       "    </tr>\n",
       "    <tr>\n",
       "      <th>2387</th>\n",
       "      <td>46053</td>\n",
       "      <td>South Dakota</td>\n",
       "      <td>Gregory</td>\n",
       "      <td>4226</td>\n",
       "      <td>2153</td>\n",
       "      <td>2073</td>\n",
       "      <td>0.8</td>\n",
       "      <td>88.4</td>\n",
       "      <td>0.0</td>\n",
       "      <td>7.1</td>\n",
       "      <td>...</td>\n",
       "      <td>6.8</td>\n",
       "      <td>1.4</td>\n",
       "      <td>9.8</td>\n",
       "      <td>14.9</td>\n",
       "      <td>2007</td>\n",
       "      <td>63.1</td>\n",
       "      <td>17.6</td>\n",
       "      <td>18.6</td>\n",
       "      <td>0.7</td>\n",
       "      <td>2.1</td>\n",
       "    </tr>\n",
       "    <tr>\n",
       "      <th>1280</th>\n",
       "      <td>26099</td>\n",
       "      <td>Michigan</td>\n",
       "      <td>Macomb</td>\n",
       "      <td>854689</td>\n",
       "      <td>415691</td>\n",
       "      <td>438998</td>\n",
       "      <td>2.4</td>\n",
       "      <td>81.4</td>\n",
       "      <td>10.2</td>\n",
       "      <td>0.3</td>\n",
       "      <td>...</td>\n",
       "      <td>0.8</td>\n",
       "      <td>0.8</td>\n",
       "      <td>2.5</td>\n",
       "      <td>27.4</td>\n",
       "      <td>401146</td>\n",
       "      <td>86.5</td>\n",
       "      <td>9.6</td>\n",
       "      <td>3.8</td>\n",
       "      <td>0.1</td>\n",
       "      <td>9.0</td>\n",
       "    </tr>\n",
       "    <tr>\n",
       "      <th>1083</th>\n",
       "      <td>21181</td>\n",
       "      <td>Kentucky</td>\n",
       "      <td>Nicholas</td>\n",
       "      <td>7075</td>\n",
       "      <td>3448</td>\n",
       "      <td>3627</td>\n",
       "      <td>0.7</td>\n",
       "      <td>96.4</td>\n",
       "      <td>1.5</td>\n",
       "      <td>0.4</td>\n",
       "      <td>...</td>\n",
       "      <td>1.6</td>\n",
       "      <td>0.2</td>\n",
       "      <td>4.1</td>\n",
       "      <td>31.4</td>\n",
       "      <td>2877</td>\n",
       "      <td>77.6</td>\n",
       "      <td>14.0</td>\n",
       "      <td>8.0</td>\n",
       "      <td>0.3</td>\n",
       "      <td>7.7</td>\n",
       "    </tr>\n",
       "    <tr>\n",
       "      <th>838</th>\n",
       "      <td>19099</td>\n",
       "      <td>Iowa</td>\n",
       "      <td>Jasper</td>\n",
       "      <td>36726</td>\n",
       "      <td>18711</td>\n",
       "      <td>18015</td>\n",
       "      <td>1.7</td>\n",
       "      <td>94.9</td>\n",
       "      <td>1.5</td>\n",
       "      <td>0.2</td>\n",
       "      <td>...</td>\n",
       "      <td>2.0</td>\n",
       "      <td>0.7</td>\n",
       "      <td>5.8</td>\n",
       "      <td>22.4</td>\n",
       "      <td>17247</td>\n",
       "      <td>80.2</td>\n",
       "      <td>13.0</td>\n",
       "      <td>6.7</td>\n",
       "      <td>0.2</td>\n",
       "      <td>5.4</td>\n",
       "    </tr>\n",
       "  </tbody>\n",
       "</table>\n",
       "<p>10 rows × 37 columns</p>\n",
       "</div>"
      ],
      "text/plain": [
       "      CensusId         State            County  TotalPop     Men   Women  \\\n",
       "698      18003       Indiana             Allen    363453  177301  186152   \n",
       "2221     41027        Oregon        Hood River     22749   11326   11423   \n",
       "2917     51530      Virginia  Buena Vista city      6666    3062    3604   \n",
       "3108     55121     Wisconsin       Trempealeau     29412   14813   14599   \n",
       "1007     21029      Kentucky           Bullitt     76961   38049   38912   \n",
       "2619     48193         Texas          Hamilton      8266    4040    4226   \n",
       "2387     46053  South Dakota           Gregory      4226    2153    2073   \n",
       "1280     26099      Michigan            Macomb    854689  415691  438998   \n",
       "1083     21181      Kentucky          Nicholas      7075    3448    3627   \n",
       "838      19099          Iowa            Jasper     36726   18711   18015   \n",
       "\n",
       "      Hispanic  White  Black  Native  ...  Walk  OtherTransp  WorkAtHome  \\\n",
       "698        7.0   75.2   11.3     0.2  ...   1.3          1.1         4.0   \n",
       "2221      30.5   64.8    0.5     0.7  ...   7.3          3.7         9.3   \n",
       "2917       1.4   88.9    1.1     0.0  ...   7.0          2.5         1.4   \n",
       "3108       6.6   91.6    0.5     0.2  ...   3.9          1.4         4.6   \n",
       "1007       1.6   95.3    0.5     0.2  ...   0.8          0.7         2.6   \n",
       "2619      11.2   86.4    1.0     0.4  ...   5.9          0.5         3.6   \n",
       "2387       0.8   88.4    0.0     7.1  ...   6.8          1.4         9.8   \n",
       "1280       2.4   81.4   10.2     0.3  ...   0.8          0.8         2.5   \n",
       "1083       0.7   96.4    1.5     0.4  ...   1.6          0.2         4.1   \n",
       "838        1.7   94.9    1.5     0.2  ...   2.0          0.7         5.8   \n",
       "\n",
       "      MeanCommute  Employed  PrivateWork  PublicWork  SelfEmployed  \\\n",
       "698          20.8    170294         86.4         9.1           4.4   \n",
       "2221         16.2     11251         79.0        13.3           7.7   \n",
       "2917         15.6      2824         82.6        15.0           2.3   \n",
       "3108         21.4     15166         78.7        12.0           9.0   \n",
       "1007         27.5     37079         84.6        10.9           4.4   \n",
       "2619         21.0      3279         72.9        17.8           7.5   \n",
       "2387         14.9      2007         63.1        17.6          18.6   \n",
       "1280         27.4    401146         86.5         9.6           3.8   \n",
       "1083         31.4      2877         77.6        14.0           8.0   \n",
       "838          22.4     17247         80.2        13.0           6.7   \n",
       "\n",
       "      FamilyWork  Unemployment  \n",
       "698          0.2           8.0  \n",
       "2221         0.0           5.1  \n",
       "2917         0.0           7.3  \n",
       "3108         0.3           3.6  \n",
       "1007         0.1           7.6  \n",
       "2619         1.9           5.9  \n",
       "2387         0.7           2.1  \n",
       "1280         0.1           9.0  \n",
       "1083         0.3           7.7  \n",
       "838          0.2           5.4  \n",
       "\n",
       "[10 rows x 37 columns]"
      ]
     },
     "execution_count": 4,
     "metadata": {},
     "output_type": "execute_result"
    }
   ],
   "source": [
    "df.sample(10)"
   ]
  },
  {
   "cell_type": "markdown",
   "metadata": {},
   "source": [
    "- We will focus first on income per capita across counties. =Revenu par habitant d'une region à l'autre"
   ]
  },
  {
   "cell_type": "code",
   "execution_count": 5,
   "metadata": {},
   "outputs": [
    {
     "data": {
      "text/plain": [
       "<AxesSubplot:>"
      ]
     },
     "execution_count": 5,
     "metadata": {},
     "output_type": "execute_result"
    },
    {
     "data": {
      "image/png": "[encoded data removed]",
      "text/plain": [
       "<Figure size 432x288 with 1 Axes>"
      ]
     },
     "metadata": {
      "needs_background": "light"
     },
     "output_type": "display_data"
    }
   ],
   "source": [
    "df['IncomePerCap'].hist(bins = 50)"
   ]
  },
  {
   "cell_type": "markdown",
   "metadata": {},
   "source": [
    "### 1. Calculating descriptive statisctics\n",
    "\n",
    "- Let's calculate basic descriptive statistics of the income per capita"
   ]
  },
  {
   "cell_type": "code",
   "execution_count": 6,
   "metadata": {},
   "outputs": [
    {
     "data": {
      "text/plain": [
       "count     3220.000000\n",
       "mean     23981.771739\n",
       "std       6204.339960\n",
       "min       5878.000000\n",
       "25%      20238.500000\n",
       "50%      23460.000000\n",
       "75%      27053.250000\n",
       "max      65600.000000\n",
       "Name: IncomePerCap, dtype: float64"
      ]
     },
     "execution_count": 6,
     "metadata": {},
     "output_type": "execute_result"
    }
   ],
   "source": [
    "df['IncomePerCap'].describe()"
   ]
  },
  {
   "cell_type": "markdown",
   "metadata": {},
   "source": [
    "#  -----------------------Ks_Test --------------------------------------\n"
   ]
  },
  {
   "cell_type": "markdown",
   "metadata": {},
   "source": [
    "- What distribution does the data come from? Here is how we can test the goodness of the fit."
   ]
  },
  {
   "cell_type": "code",
   "execution_count": 7,
   "metadata": {},
   "outputs": [
    {
     "data": {
      "text/plain": [
       "array([24974, 27317, 16824, ...,  8420,  7960,  7743], dtype=int64)"
      ]
     },
     "execution_count": 7,
     "metadata": {},
     "output_type": "execute_result"
    }
   ],
   "source": [
    "df['IncomePerCap'].values\n"
   ]
  },
  {
   "cell_type": "code",
   "execution_count": 8,
   "metadata": {},
   "outputs": [
    {
     "data": {
      "text/plain": [
       "(0.0637621121184162, 0.0009999999999998899)"
      ]
     },
     "execution_count": 8,
     "metadata": {},
     "output_type": "execute_result"
    }
   ],
   "source": [
    "# does the data come from a normal distrbution?\n",
    "diagnostic.kstest_normal(df['IncomePerCap'].values, dist = 'norm')\n",
    "\n"
   ]
  },
  {
   "cell_type": "code",
   "execution_count": 9,
   "metadata": {},
   "outputs": [],
   "source": [
    "#Returns ksstat : Kolmogorov-Smirnov test statistic with estimated mean and variance.\n",
    "# and pvalue : If the pvalue is lower than some threshold, e.g. 0.05, then we can reject the Null hypothesis that the sample comes from a normal distribution."
   ]
  },
  {
   "cell_type": "markdown",
   "metadata": {},
   "source": [
    "\n",
    "- p_value < 0.05 -> we can reject the null hypothesis that the data comes from a normal distribution! Donc nous n'avons pas une distribution normal \n"
   ]
  },
  {
   "cell_type": "code",
   "execution_count": 10,
   "metadata": {},
   "outputs": [
    {
     "data": {
      "text/plain": [
       "(0.433243770582646, 0.0009999999999998899)"
      ]
     },
     "execution_count": 10,
     "metadata": {},
     "output_type": "execute_result"
    }
   ],
   "source": [
    "#how about exponential?\n",
    "diagnostic.kstest_normal(df['IncomePerCap'].values, dist = 'exp')"
   ]
  },
  {
   "cell_type": "markdown",
   "metadata": {},
   "source": [
    "- p < 0.05 -> not exponential either!"
   ]
  },
  {
   "cell_type": "markdown",
   "metadata": {},
   "source": [
    "### 2. How to sample the data"
   ]
  },
  {
   "cell_type": "markdown",
   "metadata": {},
   "source": [
    "- Often we need to find random samples from the dataset. We can do so conveniently with pandas wrappers."
   ]
  },
  {
   "cell_type": "code",
   "execution_count": 11,
   "metadata": {},
   "outputs": [
    {
     "data": {
      "text/html": [
       "<div>\n",
       "<style scoped>\n",
       "    .dataframe tbody tr th:only-of-type {\n",
       "        vertical-align: middle;\n",
       "    }\n",
       "\n",
       "    .dataframe tbody tr th {\n",
       "        vertical-align: top;\n",
       "    }\n",
       "\n",
       "    .dataframe thead th {\n",
       "        text-align: right;\n",
       "    }\n",
       "</style>\n",
       "<table border=\"1\" class=\"dataframe\">\n",
       "  <thead>\n",
       "    <tr style=\"text-align: right;\">\n",
       "      <th></th>\n",
       "      <th>CensusId</th>\n",
       "      <th>State</th>\n",
       "      <th>County</th>\n",
       "      <th>TotalPop</th>\n",
       "      <th>Men</th>\n",
       "      <th>Women</th>\n",
       "      <th>Hispanic</th>\n",
       "      <th>White</th>\n",
       "      <th>Black</th>\n",
       "      <th>Native</th>\n",
       "      <th>...</th>\n",
       "      <th>Walk</th>\n",
       "      <th>OtherTransp</th>\n",
       "      <th>WorkAtHome</th>\n",
       "      <th>MeanCommute</th>\n",
       "      <th>Employed</th>\n",
       "      <th>PrivateWork</th>\n",
       "      <th>PublicWork</th>\n",
       "      <th>SelfEmployed</th>\n",
       "      <th>FamilyWork</th>\n",
       "      <th>Unemployment</th>\n",
       "    </tr>\n",
       "  </thead>\n",
       "  <tbody>\n",
       "    <tr>\n",
       "      <th>2861</th>\n",
       "      <td>51085</td>\n",
       "      <td>Virginia</td>\n",
       "      <td>Hanover</td>\n",
       "      <td>101340</td>\n",
       "      <td>49687</td>\n",
       "      <td>51653</td>\n",
       "      <td>2.5</td>\n",
       "      <td>84.7</td>\n",
       "      <td>9.2</td>\n",
       "      <td>0.1</td>\n",
       "      <td>...</td>\n",
       "      <td>1.6</td>\n",
       "      <td>1.5</td>\n",
       "      <td>6.2</td>\n",
       "      <td>26.0</td>\n",
       "      <td>52677</td>\n",
       "      <td>78.6</td>\n",
       "      <td>16.9</td>\n",
       "      <td>4.5</td>\n",
       "      <td>0.0</td>\n",
       "      <td>4.4</td>\n",
       "    </tr>\n",
       "    <tr>\n",
       "      <th>2623</th>\n",
       "      <td>48201</td>\n",
       "      <td>Texas</td>\n",
       "      <td>Harris</td>\n",
       "      <td>4356362</td>\n",
       "      <td>2166727</td>\n",
       "      <td>2189635</td>\n",
       "      <td>41.6</td>\n",
       "      <td>31.7</td>\n",
       "      <td>18.5</td>\n",
       "      <td>0.2</td>\n",
       "      <td>...</td>\n",
       "      <td>1.5</td>\n",
       "      <td>2.0</td>\n",
       "      <td>3.3</td>\n",
       "      <td>28.2</td>\n",
       "      <td>2081889</td>\n",
       "      <td>83.4</td>\n",
       "      <td>10.1</td>\n",
       "      <td>6.3</td>\n",
       "      <td>0.1</td>\n",
       "      <td>7.5</td>\n",
       "    </tr>\n",
       "    <tr>\n",
       "      <th>186</th>\n",
       "      <td>6001</td>\n",
       "      <td>California</td>\n",
       "      <td>Alameda</td>\n",
       "      <td>1584983</td>\n",
       "      <td>776699</td>\n",
       "      <td>808284</td>\n",
       "      <td>22.6</td>\n",
       "      <td>33.0</td>\n",
       "      <td>11.3</td>\n",
       "      <td>0.3</td>\n",
       "      <td>...</td>\n",
       "      <td>3.7</td>\n",
       "      <td>3.5</td>\n",
       "      <td>5.6</td>\n",
       "      <td>30.7</td>\n",
       "      <td>778132</td>\n",
       "      <td>78.7</td>\n",
       "      <td>13.8</td>\n",
       "      <td>7.4</td>\n",
       "      <td>0.1</td>\n",
       "      <td>8.3</td>\n",
       "    </tr>\n",
       "    <tr>\n",
       "      <th>335</th>\n",
       "      <td>12033</td>\n",
       "      <td>Florida</td>\n",
       "      <td>Escambia</td>\n",
       "      <td>306327</td>\n",
       "      <td>152196</td>\n",
       "      <td>154131</td>\n",
       "      <td>5.3</td>\n",
       "      <td>65.6</td>\n",
       "      <td>21.4</td>\n",
       "      <td>0.4</td>\n",
       "      <td>...</td>\n",
       "      <td>2.0</td>\n",
       "      <td>1.6</td>\n",
       "      <td>9.2</td>\n",
       "      <td>21.8</td>\n",
       "      <td>130402</td>\n",
       "      <td>78.2</td>\n",
       "      <td>15.6</td>\n",
       "      <td>6.0</td>\n",
       "      <td>0.1</td>\n",
       "      <td>9.4</td>\n",
       "    </tr>\n",
       "    <tr>\n",
       "      <th>204</th>\n",
       "      <td>6037</td>\n",
       "      <td>California</td>\n",
       "      <td>Los Angeles</td>\n",
       "      <td>10038388</td>\n",
       "      <td>4945351</td>\n",
       "      <td>5093037</td>\n",
       "      <td>48.2</td>\n",
       "      <td>26.9</td>\n",
       "      <td>8.0</td>\n",
       "      <td>0.2</td>\n",
       "      <td>...</td>\n",
       "      <td>2.8</td>\n",
       "      <td>2.3</td>\n",
       "      <td>5.1</td>\n",
       "      <td>30.0</td>\n",
       "      <td>4635465</td>\n",
       "      <td>79.0</td>\n",
       "      <td>11.5</td>\n",
       "      <td>9.4</td>\n",
       "      <td>0.2</td>\n",
       "      <td>10.0</td>\n",
       "    </tr>\n",
       "    <tr>\n",
       "      <th>1029</th>\n",
       "      <td>21073</td>\n",
       "      <td>Kentucky</td>\n",
       "      <td>Franklin</td>\n",
       "      <td>49778</td>\n",
       "      <td>24271</td>\n",
       "      <td>25507</td>\n",
       "      <td>2.9</td>\n",
       "      <td>82.2</td>\n",
       "      <td>10.4</td>\n",
       "      <td>0.2</td>\n",
       "      <td>...</td>\n",
       "      <td>1.8</td>\n",
       "      <td>0.6</td>\n",
       "      <td>2.5</td>\n",
       "      <td>18.2</td>\n",
       "      <td>22601</td>\n",
       "      <td>60.2</td>\n",
       "      <td>34.1</td>\n",
       "      <td>5.5</td>\n",
       "      <td>0.1</td>\n",
       "      <td>8.7</td>\n",
       "    </tr>\n",
       "    <tr>\n",
       "      <th>329</th>\n",
       "      <td>12019</td>\n",
       "      <td>Florida</td>\n",
       "      <td>Clay</td>\n",
       "      <td>197417</td>\n",
       "      <td>96931</td>\n",
       "      <td>100486</td>\n",
       "      <td>8.8</td>\n",
       "      <td>75.1</td>\n",
       "      <td>9.6</td>\n",
       "      <td>0.2</td>\n",
       "      <td>...</td>\n",
       "      <td>1.1</td>\n",
       "      <td>1.1</td>\n",
       "      <td>4.1</td>\n",
       "      <td>32.4</td>\n",
       "      <td>86374</td>\n",
       "      <td>80.5</td>\n",
       "      <td>15.8</td>\n",
       "      <td>3.6</td>\n",
       "      <td>0.1</td>\n",
       "      <td>10.7</td>\n",
       "    </tr>\n",
       "    <tr>\n",
       "      <th>3057</th>\n",
       "      <td>55021</td>\n",
       "      <td>Wisconsin</td>\n",
       "      <td>Columbia</td>\n",
       "      <td>56607</td>\n",
       "      <td>28741</td>\n",
       "      <td>27866</td>\n",
       "      <td>2.8</td>\n",
       "      <td>93.6</td>\n",
       "      <td>1.5</td>\n",
       "      <td>0.4</td>\n",
       "      <td>...</td>\n",
       "      <td>2.9</td>\n",
       "      <td>1.4</td>\n",
       "      <td>3.5</td>\n",
       "      <td>25.3</td>\n",
       "      <td>29483</td>\n",
       "      <td>79.3</td>\n",
       "      <td>14.7</td>\n",
       "      <td>5.6</td>\n",
       "      <td>0.4</td>\n",
       "      <td>5.8</td>\n",
       "    </tr>\n",
       "    <tr>\n",
       "      <th>1782</th>\n",
       "      <td>34017</td>\n",
       "      <td>New Jersey</td>\n",
       "      <td>Hudson</td>\n",
       "      <td>662619</td>\n",
       "      <td>329204</td>\n",
       "      <td>333415</td>\n",
       "      <td>42.8</td>\n",
       "      <td>29.4</td>\n",
       "      <td>11.1</td>\n",
       "      <td>0.1</td>\n",
       "      <td>...</td>\n",
       "      <td>8.3</td>\n",
       "      <td>1.5</td>\n",
       "      <td>3.0</td>\n",
       "      <td>34.9</td>\n",
       "      <td>339606</td>\n",
       "      <td>84.7</td>\n",
       "      <td>10.9</td>\n",
       "      <td>4.4</td>\n",
       "      <td>0.1</td>\n",
       "      <td>9.3</td>\n",
       "    </tr>\n",
       "    <tr>\n",
       "      <th>1220</th>\n",
       "      <td>25007</td>\n",
       "      <td>Massachusetts</td>\n",
       "      <td>Dukes</td>\n",
       "      <td>17048</td>\n",
       "      <td>8443</td>\n",
       "      <td>8605</td>\n",
       "      <td>0.8</td>\n",
       "      <td>92.1</td>\n",
       "      <td>3.1</td>\n",
       "      <td>0.8</td>\n",
       "      <td>...</td>\n",
       "      <td>4.2</td>\n",
       "      <td>3.0</td>\n",
       "      <td>8.3</td>\n",
       "      <td>14.4</td>\n",
       "      <td>8849</td>\n",
       "      <td>61.3</td>\n",
       "      <td>16.0</td>\n",
       "      <td>22.6</td>\n",
       "      <td>0.2</td>\n",
       "      <td>5.2</td>\n",
       "    </tr>\n",
       "  </tbody>\n",
       "</table>\n",
       "<p>10 rows × 37 columns</p>\n",
       "</div>"
      ],
      "text/plain": [
       "      CensusId          State       County  TotalPop      Men    Women  \\\n",
       "2861     51085       Virginia      Hanover    101340    49687    51653   \n",
       "2623     48201          Texas       Harris   4356362  2166727  2189635   \n",
       "186       6001     California      Alameda   1584983   776699   808284   \n",
       "335      12033        Florida     Escambia    306327   152196   154131   \n",
       "204       6037     California  Los Angeles  10038388  4945351  5093037   \n",
       "1029     21073       Kentucky     Franklin     49778    24271    25507   \n",
       "329      12019        Florida         Clay    197417    96931   100486   \n",
       "3057     55021      Wisconsin     Columbia     56607    28741    27866   \n",
       "1782     34017     New Jersey       Hudson    662619   329204   333415   \n",
       "1220     25007  Massachusetts        Dukes     17048     8443     8605   \n",
       "\n",
       "      Hispanic  White  Black  Native  ...  Walk  OtherTransp  WorkAtHome  \\\n",
       "2861       2.5   84.7    9.2     0.1  ...   1.6          1.5         6.2   \n",
       "2623      41.6   31.7   18.5     0.2  ...   1.5          2.0         3.3   \n",
       "186       22.6   33.0   11.3     0.3  ...   3.7          3.5         5.6   \n",
       "335        5.3   65.6   21.4     0.4  ...   2.0          1.6         9.2   \n",
       "204       48.2   26.9    8.0     0.2  ...   2.8          2.3         5.1   \n",
       "1029       2.9   82.2   10.4     0.2  ...   1.8          0.6         2.5   \n",
       "329        8.8   75.1    9.6     0.2  ...   1.1          1.1         4.1   \n",
       "3057       2.8   93.6    1.5     0.4  ...   2.9          1.4         3.5   \n",
       "1782      42.8   29.4   11.1     0.1  ...   8.3          1.5         3.0   \n",
       "1220       0.8   92.1    3.1     0.8  ...   4.2          3.0         8.3   \n",
       "\n",
       "      MeanCommute  Employed  PrivateWork  PublicWork  SelfEmployed  \\\n",
       "2861         26.0     52677         78.6        16.9           4.5   \n",
       "2623         28.2   2081889         83.4        10.1           6.3   \n",
       "186          30.7    778132         78.7        13.8           7.4   \n",
       "335          21.8    130402         78.2        15.6           6.0   \n",
       "204          30.0   4635465         79.0        11.5           9.4   \n",
       "1029         18.2     22601         60.2        34.1           5.5   \n",
       "329          32.4     86374         80.5        15.8           3.6   \n",
       "3057         25.3     29483         79.3        14.7           5.6   \n",
       "1782         34.9    339606         84.7        10.9           4.4   \n",
       "1220         14.4      8849         61.3        16.0          22.6   \n",
       "\n",
       "      FamilyWork  Unemployment  \n",
       "2861         0.0           4.4  \n",
       "2623         0.1           7.5  \n",
       "186          0.1           8.3  \n",
       "335          0.1           9.4  \n",
       "204          0.2          10.0  \n",
       "1029         0.1           8.7  \n",
       "329          0.1          10.7  \n",
       "3057         0.4           5.8  \n",
       "1782         0.1           9.3  \n",
       "1220         0.2           5.2  \n",
       "\n",
       "[10 rows x 37 columns]"
      ]
     },
     "execution_count": 11,
     "metadata": {},
     "output_type": "execute_result"
    }
   ],
   "source": [
    "#make 10 samples with replacement\n",
    "sample1_counties = df.sample(n = 10, replace = True)\n",
    "#make 10 samples without replacement\n",
    "sample1_counties = df.sample(n = 10, replace = False)\n",
    "\n",
    "#sometimes we want to sample in an unbalanced way, so that we upsample datapoints of certain characteristic,\n",
    "#and downsample the others. this can be acieved with weights parameter\n",
    "#here we sample by upsampling counties with large population On a que des pays avec beaucoup de population\n",
    "\n",
    "sample2_counties = df.sample(n = 10, replace = False, weights = df['TotalPop'])\n",
    "sample2_counties"
   ]
  },
  {
   "cell_type": "code",
   "execution_count": 12,
   "metadata": {},
   "outputs": [
    {
     "name": "stdout",
     "output_type": "stream",
     "text": [
      "75154.9\n",
      "1737086.9\n"
     ]
    }
   ],
   "source": [
    "#on avergage, the samples in the sample produce with reveighting now have higher population, as we wanted!\n",
    "print(sample1_counties['TotalPop'].mean())\n",
    "print(sample2_counties['TotalPop'].mean())"
   ]
  },
  {
   "cell_type": "markdown",
   "metadata": {},
   "source": [
    "### 3. Examining relationship between two variables"
   ]
  },
  {
   "cell_type": "markdown",
   "metadata": {},
   "source": [
    "# -----------------------------correlation ----------------------------------"
   ]
  },
  {
   "cell_type": "markdown",
   "metadata": {},
   "source": [
    "- Is income per capita of a county correlated with the unemployment? # loi normal "
   ]
  },
  {
   "cell_type": "code",
   "execution_count": 13,
   "metadata": {},
   "outputs": [
    {
     "data": {
      "text/plain": [
       "(0.2646136320394489, 9.942215354237806e-53)"
      ]
     },
     "execution_count": 13,
     "metadata": {},
     "output_type": "execute_result"
    }
   ],
   "source": [
    "stats.pearsonr(df['IncomePerCap'],df['Employed'])"
   ]
  },
  {
   "cell_type": "markdown",
   "metadata": {},
   "source": [
    "- There is a small (0.26), but significant (p < 0.05) positive correlation #pas loi normal tu utiliserai la median dans ce cas la \n",
    "\n",
    "\n"
   ]
  },
  {
   "cell_type": "code",
   "execution_count": 14,
   "metadata": {},
   "outputs": [
    {
     "data": {
      "text/plain": [
       "SpearmanrResult(correlation=0.30770631560595474, pvalue=1.415296431173735e-71)"
      ]
     },
     "execution_count": 14,
     "metadata": {},
     "output_type": "execute_result"
    }
   ],
   "source": [
    "stats.spearmanr(df['IncomePerCap'],df['Employed'])"
   ]
  },
  {
   "cell_type": "markdown",
   "metadata": {},
   "source": [
    "- Spearman rank coorrelation is also significant, and slightly higher"
   ]
  },
  {
   "cell_type": "markdown",
   "metadata": {},
   "source": [
    "### 4. Hypothesis testing"
   ]
  },
  {
   "cell_type": "markdown",
   "metadata": {},
   "source": [
    "- Is income per capita higher in New York counties compared to California counties?"
   ]
  },
  {
   "cell_type": "code",
   "execution_count": 15,
   "metadata": {},
   "outputs": [
    {
     "data": {
      "text/plain": [
       "28189.75806451613"
      ]
     },
     "execution_count": 15,
     "metadata": {},
     "output_type": "execute_result"
    }
   ],
   "source": [
    "df.loc[df['State'] == 'New York']['IncomePerCap'].mean()"
   ]
  },
  {
   "cell_type": "code",
   "execution_count": 16,
   "metadata": {},
   "outputs": [
    {
     "data": {
      "text/plain": [
       "27902.603448275862"
      ]
     },
     "execution_count": 16,
     "metadata": {},
     "output_type": "execute_result"
    }
   ],
   "source": [
    "df.loc[df['State'] == 'California']['IncomePerCap'].mean()"
   ]
  },
  {
   "cell_type": "markdown",
   "metadata": {},
   "source": [
    "- We see that there is a ~300$ gap. Quite a lot!\n",
    "- But is it significantly higher? Let's use a t-test. This is a two-sided test for the null hypothesis that the two independent samples have identical average (expected) values. "
   ]
  },
  {
   "cell_type": "code",
   "execution_count": 17,
   "metadata": {},
   "outputs": [
    {
     "data": {
      "text/plain": [
       "Ttest_indResult(statistic=0.19788117232375713, pvalue=0.8434785239169611)"
      ]
     },
     "execution_count": 17,
     "metadata": {},
     "output_type": "execute_result"
    }
   ],
   "source": [
    "stats.ttest_ind(df.loc[df['State'] == 'New York']['IncomePerCap'], df.loc[df['State'] == 'California']['IncomePerCap'])"
   ]
  },
  {
   "cell_type": "markdown",
   "metadata": {},
   "source": [
    "- p is not less than 0.05 -> we cannot reject the null hypothesis that the income is the same -> there is no significant difference\n",
    "\n",
    "H0= there is no statiscally difference between the samples->rejected donc there are different\n"
   ]
  },
  {
   "cell_type": "markdown",
   "metadata": {},
   "source": [
    "### 5. How to measure uncertainty\n",
    "- Now we see the importance of mesuring uncertainty and indicating it on data visualizations.\n",
    "- Visual inspection of 95% confidence intervals lets us see that the difference is not significant (the errorbars are overlapping) ça montre que comme les erreurs ce superpose bin on peut pas dire que l'un est plus haut que l'autre"
   ]
  },
  {
   "cell_type": "code",
   "execution_count": 18,
   "metadata": {},
   "outputs": [
    {
     "data": {
      "text/plain": [
       "(25000.0, 32000.0)"
      ]
     },
     "execution_count": 18,
     "metadata": {},
     "output_type": "execute_result"
    },
    {
     "data": {
      "image/png": "[encoded data removed]",
      "text/plain": [
       "<Figure size 432x288 with 1 Axes>"
      ]
     },
     "metadata": {
      "needs_background": "light"
     },
     "output_type": "display_data"
    }
   ],
   "source": [
    "ax = sns.barplot(x=\"State\", y=\"IncomePerCap\", data=df.loc[df['State'].isin(['New York','California'])])\n",
    "plt.ylim([25000,32000])"
   ]
  },
  {
   "cell_type": "markdown",
   "metadata": {},
   "source": [
    "# Exercise 1: Boosting the economy by incentivizing self-employment\n",
    "\n",
    "Assume the biggest priority of the local government in 2018 is to increase per-capita income. To do so, the officials plan to adopt a strategy for incentivizing self-employment through a series of campaigns, educational programs, and dedicated funds.\n",
    "\n",
    "Since it is unethical and impossible in this setting to run a controlled experiment involving citizens (e.g., fire employees and force them to self-employ), the officials have asked you, the data scientist, to establish the effect of self-employment on the economy, relying on observational data.\n",
    "\n",
    "**A)** Using suitable methods, determine and quantify the dependency between **the percentage of self-employed citizens** and per **capita income** across all 3,212 US counties. Do citizens in counties that have a higher percentage of self-employed people earn more per capita?"
   ]
  },
  {
   "cell_type": "code",
   "execution_count": 19,
   "metadata": {},
   "outputs": [
    {
     "data": {
      "text/html": [
       "<div>\n",
       "<style scoped>\n",
       "    .dataframe tbody tr th:only-of-type {\n",
       "        vertical-align: middle;\n",
       "    }\n",
       "\n",
       "    .dataframe tbody tr th {\n",
       "        vertical-align: top;\n",
       "    }\n",
       "\n",
       "    .dataframe thead th {\n",
       "        text-align: right;\n",
       "    }\n",
       "</style>\n",
       "<table border=\"1\" class=\"dataframe\">\n",
       "  <thead>\n",
       "    <tr style=\"text-align: right;\">\n",
       "      <th></th>\n",
       "      <th>CensusId</th>\n",
       "      <th>State</th>\n",
       "      <th>County</th>\n",
       "      <th>TotalPop</th>\n",
       "      <th>Men</th>\n",
       "      <th>Women</th>\n",
       "      <th>Hispanic</th>\n",
       "      <th>White</th>\n",
       "      <th>Black</th>\n",
       "      <th>Native</th>\n",
       "      <th>...</th>\n",
       "      <th>Walk</th>\n",
       "      <th>OtherTransp</th>\n",
       "      <th>WorkAtHome</th>\n",
       "      <th>MeanCommute</th>\n",
       "      <th>Employed</th>\n",
       "      <th>PrivateWork</th>\n",
       "      <th>PublicWork</th>\n",
       "      <th>SelfEmployed</th>\n",
       "      <th>FamilyWork</th>\n",
       "      <th>Unemployment</th>\n",
       "    </tr>\n",
       "  </thead>\n",
       "  <tbody>\n",
       "    <tr>\n",
       "      <th>0</th>\n",
       "      <td>1001</td>\n",
       "      <td>Alabama</td>\n",
       "      <td>Autauga</td>\n",
       "      <td>55221</td>\n",
       "      <td>26745</td>\n",
       "      <td>28476</td>\n",
       "      <td>2.6</td>\n",
       "      <td>75.8</td>\n",
       "      <td>18.5</td>\n",
       "      <td>0.4</td>\n",
       "      <td>...</td>\n",
       "      <td>0.5</td>\n",
       "      <td>1.3</td>\n",
       "      <td>1.8</td>\n",
       "      <td>26.5</td>\n",
       "      <td>23986</td>\n",
       "      <td>73.6</td>\n",
       "      <td>20.9</td>\n",
       "      <td>5.5</td>\n",
       "      <td>0.0</td>\n",
       "      <td>7.6</td>\n",
       "    </tr>\n",
       "    <tr>\n",
       "      <th>1</th>\n",
       "      <td>1003</td>\n",
       "      <td>Alabama</td>\n",
       "      <td>Baldwin</td>\n",
       "      <td>195121</td>\n",
       "      <td>95314</td>\n",
       "      <td>99807</td>\n",
       "      <td>4.5</td>\n",
       "      <td>83.1</td>\n",
       "      <td>9.5</td>\n",
       "      <td>0.6</td>\n",
       "      <td>...</td>\n",
       "      <td>1.0</td>\n",
       "      <td>1.4</td>\n",
       "      <td>3.9</td>\n",
       "      <td>26.4</td>\n",
       "      <td>85953</td>\n",
       "      <td>81.5</td>\n",
       "      <td>12.3</td>\n",
       "      <td>5.8</td>\n",
       "      <td>0.4</td>\n",
       "      <td>7.5</td>\n",
       "    </tr>\n",
       "    <tr>\n",
       "      <th>2</th>\n",
       "      <td>1005</td>\n",
       "      <td>Alabama</td>\n",
       "      <td>Barbour</td>\n",
       "      <td>26932</td>\n",
       "      <td>14497</td>\n",
       "      <td>12435</td>\n",
       "      <td>4.6</td>\n",
       "      <td>46.2</td>\n",
       "      <td>46.7</td>\n",
       "      <td>0.2</td>\n",
       "      <td>...</td>\n",
       "      <td>1.8</td>\n",
       "      <td>1.5</td>\n",
       "      <td>1.6</td>\n",
       "      <td>24.1</td>\n",
       "      <td>8597</td>\n",
       "      <td>71.8</td>\n",
       "      <td>20.8</td>\n",
       "      <td>7.3</td>\n",
       "      <td>0.1</td>\n",
       "      <td>17.6</td>\n",
       "    </tr>\n",
       "    <tr>\n",
       "      <th>3</th>\n",
       "      <td>1007</td>\n",
       "      <td>Alabama</td>\n",
       "      <td>Bibb</td>\n",
       "      <td>22604</td>\n",
       "      <td>12073</td>\n",
       "      <td>10531</td>\n",
       "      <td>2.2</td>\n",
       "      <td>74.5</td>\n",
       "      <td>21.4</td>\n",
       "      <td>0.4</td>\n",
       "      <td>...</td>\n",
       "      <td>0.6</td>\n",
       "      <td>1.5</td>\n",
       "      <td>0.7</td>\n",
       "      <td>28.8</td>\n",
       "      <td>8294</td>\n",
       "      <td>76.8</td>\n",
       "      <td>16.1</td>\n",
       "      <td>6.7</td>\n",
       "      <td>0.4</td>\n",
       "      <td>8.3</td>\n",
       "    </tr>\n",
       "    <tr>\n",
       "      <th>4</th>\n",
       "      <td>1009</td>\n",
       "      <td>Alabama</td>\n",
       "      <td>Blount</td>\n",
       "      <td>57710</td>\n",
       "      <td>28512</td>\n",
       "      <td>29198</td>\n",
       "      <td>8.6</td>\n",
       "      <td>87.9</td>\n",
       "      <td>1.5</td>\n",
       "      <td>0.3</td>\n",
       "      <td>...</td>\n",
       "      <td>0.9</td>\n",
       "      <td>0.4</td>\n",
       "      <td>2.3</td>\n",
       "      <td>34.9</td>\n",
       "      <td>22189</td>\n",
       "      <td>82.0</td>\n",
       "      <td>13.5</td>\n",
       "      <td>4.2</td>\n",
       "      <td>0.4</td>\n",
       "      <td>7.7</td>\n",
       "    </tr>\n",
       "    <tr>\n",
       "      <th>...</th>\n",
       "      <td>...</td>\n",
       "      <td>...</td>\n",
       "      <td>...</td>\n",
       "      <td>...</td>\n",
       "      <td>...</td>\n",
       "      <td>...</td>\n",
       "      <td>...</td>\n",
       "      <td>...</td>\n",
       "      <td>...</td>\n",
       "      <td>...</td>\n",
       "      <td>...</td>\n",
       "      <td>...</td>\n",
       "      <td>...</td>\n",
       "      <td>...</td>\n",
       "      <td>...</td>\n",
       "      <td>...</td>\n",
       "      <td>...</td>\n",
       "      <td>...</td>\n",
       "      <td>...</td>\n",
       "      <td>...</td>\n",
       "      <td>...</td>\n",
       "    </tr>\n",
       "    <tr>\n",
       "      <th>3215</th>\n",
       "      <td>72145</td>\n",
       "      <td>Puerto Rico</td>\n",
       "      <td>Vega Baja</td>\n",
       "      <td>56858</td>\n",
       "      <td>27379</td>\n",
       "      <td>29479</td>\n",
       "      <td>96.4</td>\n",
       "      <td>3.4</td>\n",
       "      <td>0.1</td>\n",
       "      <td>0.0</td>\n",
       "      <td>...</td>\n",
       "      <td>1.2</td>\n",
       "      <td>1.3</td>\n",
       "      <td>0.3</td>\n",
       "      <td>32.0</td>\n",
       "      <td>13660</td>\n",
       "      <td>78.3</td>\n",
       "      <td>17.6</td>\n",
       "      <td>4.1</td>\n",
       "      <td>0.0</td>\n",
       "      <td>15.2</td>\n",
       "    </tr>\n",
       "    <tr>\n",
       "      <th>3216</th>\n",
       "      <td>72147</td>\n",
       "      <td>Puerto Rico</td>\n",
       "      <td>Vieques</td>\n",
       "      <td>9130</td>\n",
       "      <td>4585</td>\n",
       "      <td>4545</td>\n",
       "      <td>96.7</td>\n",
       "      <td>2.9</td>\n",
       "      <td>0.0</td>\n",
       "      <td>0.0</td>\n",
       "      <td>...</td>\n",
       "      <td>10.8</td>\n",
       "      <td>0.0</td>\n",
       "      <td>1.4</td>\n",
       "      <td>14.0</td>\n",
       "      <td>2860</td>\n",
       "      <td>44.5</td>\n",
       "      <td>41.6</td>\n",
       "      <td>13.6</td>\n",
       "      <td>0.3</td>\n",
       "      <td>12.2</td>\n",
       "    </tr>\n",
       "    <tr>\n",
       "      <th>3217</th>\n",
       "      <td>72149</td>\n",
       "      <td>Puerto Rico</td>\n",
       "      <td>Villalba</td>\n",
       "      <td>24685</td>\n",
       "      <td>12086</td>\n",
       "      <td>12599</td>\n",
       "      <td>99.7</td>\n",
       "      <td>0.0</td>\n",
       "      <td>0.0</td>\n",
       "      <td>0.0</td>\n",
       "      <td>...</td>\n",
       "      <td>3.2</td>\n",
       "      <td>0.0</td>\n",
       "      <td>3.3</td>\n",
       "      <td>26.9</td>\n",
       "      <td>6795</td>\n",
       "      <td>59.2</td>\n",
       "      <td>27.5</td>\n",
       "      <td>13.1</td>\n",
       "      <td>0.2</td>\n",
       "      <td>25.9</td>\n",
       "    </tr>\n",
       "    <tr>\n",
       "      <th>3218</th>\n",
       "      <td>72151</td>\n",
       "      <td>Puerto Rico</td>\n",
       "      <td>Yabucoa</td>\n",
       "      <td>36279</td>\n",
       "      <td>17648</td>\n",
       "      <td>18631</td>\n",
       "      <td>99.8</td>\n",
       "      <td>0.2</td>\n",
       "      <td>0.0</td>\n",
       "      <td>0.0</td>\n",
       "      <td>...</td>\n",
       "      <td>2.3</td>\n",
       "      <td>2.3</td>\n",
       "      <td>1.5</td>\n",
       "      <td>29.5</td>\n",
       "      <td>8083</td>\n",
       "      <td>65.1</td>\n",
       "      <td>27.6</td>\n",
       "      <td>7.3</td>\n",
       "      <td>0.0</td>\n",
       "      <td>24.3</td>\n",
       "    </tr>\n",
       "    <tr>\n",
       "      <th>3219</th>\n",
       "      <td>72153</td>\n",
       "      <td>Puerto Rico</td>\n",
       "      <td>Yauco</td>\n",
       "      <td>39474</td>\n",
       "      <td>19047</td>\n",
       "      <td>20427</td>\n",
       "      <td>99.5</td>\n",
       "      <td>0.5</td>\n",
       "      <td>0.0</td>\n",
       "      <td>0.0</td>\n",
       "      <td>...</td>\n",
       "      <td>1.6</td>\n",
       "      <td>0.7</td>\n",
       "      <td>3.1</td>\n",
       "      <td>24.6</td>\n",
       "      <td>8923</td>\n",
       "      <td>68.0</td>\n",
       "      <td>27.6</td>\n",
       "      <td>4.4</td>\n",
       "      <td>0.0</td>\n",
       "      <td>27.1</td>\n",
       "    </tr>\n",
       "  </tbody>\n",
       "</table>\n",
       "<p>3220 rows × 37 columns</p>\n",
       "</div>"
      ],
      "text/plain": [
       "      CensusId        State     County  TotalPop    Men  Women  Hispanic  \\\n",
       "0         1001      Alabama    Autauga     55221  26745  28476       2.6   \n",
       "1         1003      Alabama    Baldwin    195121  95314  99807       4.5   \n",
       "2         1005      Alabama    Barbour     26932  14497  12435       4.6   \n",
       "3         1007      Alabama       Bibb     22604  12073  10531       2.2   \n",
       "4         1009      Alabama     Blount     57710  28512  29198       8.6   \n",
       "...        ...          ...        ...       ...    ...    ...       ...   \n",
       "3215     72145  Puerto Rico  Vega Baja     56858  27379  29479      96.4   \n",
       "3216     72147  Puerto Rico    Vieques      9130   4585   4545      96.7   \n",
       "3217     72149  Puerto Rico   Villalba     24685  12086  12599      99.7   \n",
       "3218     72151  Puerto Rico    Yabucoa     36279  17648  18631      99.8   \n",
       "3219     72153  Puerto Rico      Yauco     39474  19047  20427      99.5   \n",
       "\n",
       "      White  Black  Native  ...  Walk  OtherTransp  WorkAtHome  MeanCommute  \\\n",
       "0      75.8   18.5     0.4  ...   0.5          1.3         1.8         26.5   \n",
       "1      83.1    9.5     0.6  ...   1.0          1.4         3.9         26.4   \n",
       "2      46.2   46.7     0.2  ...   1.8          1.5         1.6         24.1   \n",
       "3      74.5   21.4     0.4  ...   0.6          1.5         0.7         28.8   \n",
       "4      87.9    1.5     0.3  ...   0.9          0.4         2.3         34.9   \n",
       "...     ...    ...     ...  ...   ...          ...         ...          ...   \n",
       "3215    3.4    0.1     0.0  ...   1.2          1.3         0.3         32.0   \n",
       "3216    2.9    0.0     0.0  ...  10.8          0.0         1.4         14.0   \n",
       "3217    0.0    0.0     0.0  ...   3.2          0.0         3.3         26.9   \n",
       "3218    0.2    0.0     0.0  ...   2.3          2.3         1.5         29.5   \n",
       "3219    0.5    0.0     0.0  ...   1.6          0.7         3.1         24.6   \n",
       "\n",
       "      Employed  PrivateWork  PublicWork  SelfEmployed  FamilyWork  \\\n",
       "0        23986         73.6        20.9           5.5         0.0   \n",
       "1        85953         81.5        12.3           5.8         0.4   \n",
       "2         8597         71.8        20.8           7.3         0.1   \n",
       "3         8294         76.8        16.1           6.7         0.4   \n",
       "4        22189         82.0        13.5           4.2         0.4   \n",
       "...        ...          ...         ...           ...         ...   \n",
       "3215     13660         78.3        17.6           4.1         0.0   \n",
       "3216      2860         44.5        41.6          13.6         0.3   \n",
       "3217      6795         59.2        27.5          13.1         0.2   \n",
       "3218      8083         65.1        27.6           7.3         0.0   \n",
       "3219      8923         68.0        27.6           4.4         0.0   \n",
       "\n",
       "      Unemployment  \n",
       "0              7.6  \n",
       "1              7.5  \n",
       "2             17.6  \n",
       "3              8.3  \n",
       "4              7.7  \n",
       "...            ...  \n",
       "3215          15.2  \n",
       "3216          12.2  \n",
       "3217          25.9  \n",
       "3218          24.3  \n",
       "3219          27.1  \n",
       "\n",
       "[3220 rows x 37 columns]"
      ]
     },
     "execution_count": 19,
     "metadata": {},
     "output_type": "execute_result"
    }
   ],
   "source": [
    "df\n"
   ]
  },
  {
   "cell_type": "code",
   "execution_count": 20,
   "metadata": {},
   "outputs": [],
   "source": [
    "df['percentage_SelfEmployed']=df['SelfEmployed']*100/df['TotalPop']"
   ]
  },
  {
   "cell_type": "code",
   "execution_count": 21,
   "metadata": {},
   "outputs": [
    {
     "name": "stdout",
     "output_type": "stream",
     "text": [
      "(0.08727386609551786, 7.052861196521423e-07)\n",
      "SpearmanrResult(correlation=0.056413673053189874, pvalue=0.0013623847564714516)\n"
     ]
    }
   ],
   "source": [
    "#On commence par observer les correlation entre deux\n",
    "print(stats.pearsonr(df['SelfEmployed'],df['IncomePerCap']))\n",
    "#p-value plus petit que 0.05 donc on rejet pas on peut donc pas dire qu'il y a aucun lien entre les deux \n",
    "print(stats.spearmanr(df['SelfEmployed'],df['IncomePerCap']))\n",
    "#https://towardsdatascience.com/clearly-explained-pearson-v-s-spearman-correlation-coefficient-ada2f473b8"
   ]
  },
  {
   "cell_type": "code",
   "execution_count": 22,
   "metadata": {},
   "outputs": [
    {
     "data": {
      "text/plain": [
       "'Important Inference to keep in mind: The Pearson correlation can evaluate ONLY a linear relationship between two continuous variables\\n(A relationship is linear only when a change in one variable is associated with a proportional change in the other variable)'"
      ]
     },
     "execution_count": 22,
     "metadata": {},
     "output_type": "execute_result"
    }
   ],
   "source": [
    "'''Important Inference to keep in mind: The Pearson correlation can evaluate ONLY a linear relationship between two continuous variables\n",
    "(A relationship is linear only when a change in one variable is associated with a proportional change in the other variable)'''"
   ]
  },
  {
   "cell_type": "code",
   "execution_count": 23,
   "metadata": {},
   "outputs": [
    {
     "data": {
      "text/plain": [
       "'Important Inference to keep in mind: The Spearman correlation can evaluate a monotonic relationship between two variables\\n— Continous or Ordinal and it is based on the ranked values for each variable rather than the raw data.\\nWhat is a monotonic relationship?\\nA monotonic relationship is a relationship that does one of the following:\\n(1) as the value of one variable increases, so does the value of the other variable, OR,\\n(2) as the value of one variable increases, the other variable value decreases.\\nBUT, not exactly at a constant rate whereas in a linear relationship the rate of increase/decrease is constant.\\n'"
      ]
     },
     "execution_count": 23,
     "metadata": {},
     "output_type": "execute_result"
    }
   ],
   "source": [
    "'''Important Inference to keep in mind: The Spearman correlation can evaluate a monotonic relationship between two variables\n",
    "— Continous or Ordinal and it is based on the ranked values for each variable rather than the raw data.\n",
    "What is a monotonic relationship?\n",
    "A monotonic relationship is a relationship that does one of the following:\n",
    "(1) as the value of one variable increases, so does the value of the other variable, OR,\n",
    "(2) as the value of one variable increases, the other variable value decreases.\n",
    "BUT, not exactly at a constant rate whereas in a linear relationship the rate of increase/decrease is constant.\n",
    "'''"
   ]
  },
  {
   "cell_type": "code",
   "execution_count": 24,
   "metadata": {},
   "outputs": [
    {
     "data": {
      "text/plain": [
       "'2. One more difference is that Pearson works with raw data values\\nof the variables whereas Spearman works with rank-ordered variables'"
      ]
     },
     "execution_count": 24,
     "metadata": {},
     "output_type": "execute_result"
    }
   ],
   "source": [
    "'''2. One more difference is that Pearson works with raw data values\n",
    "of the variables whereas Spearman works with rank-ordered variables'''"
   ]
  },
  {
   "cell_type": "code",
   "execution_count": 25,
   "metadata": {},
   "outputs": [
    {
     "data": {
      "text/plain": [
       "<AxesSubplot:>"
      ]
     },
     "execution_count": 25,
     "metadata": {},
     "output_type": "execute_result"
    },
    {
     "data": {
      "image/png": "[encoded data removed]",
      "text/plain": [
       "<Figure size 432x288 with 1 Axes>"
      ]
     },
     "metadata": {
      "needs_background": "light"
     },
     "output_type": "display_data"
    }
   ],
   "source": [
    "df['percentage_SelfEmployed'].hist(bins = 7 ,log=True)"
   ]
  },
  {
   "cell_type": "code",
   "execution_count": 26,
   "metadata": {},
   "outputs": [
    {
     "data": {
      "text/plain": [
       "Text(27.0, 0.5, 'Income per Capita [$]')"
      ]
     },
     "execution_count": 26,
     "metadata": {},
     "output_type": "execute_result"
    },
    {
     "data": {
      "image/png": "[encoded data removed]",
      "text/plain": [
       "<Figure size 432x432 with 3 Axes>"
      ]
     },
     "metadata": {
      "needs_background": "light"
     },
     "output_type": "display_data"
    }
   ],
   "source": [
    "import seaborn as sns\n",
    "sns.jointplot(data = df, x ='SelfEmployed', y = 'IncomePerCap' , kind=\"reg\")\n",
    "plt.xlabel(\"Percentage of Self Employed people [%]\")\n",
    "plt.ylabel(\"Income per Capita [$]\")"
   ]
  },
  {
   "cell_type": "code",
   "execution_count": 27,
   "metadata": {},
   "outputs": [],
   "source": [
    "#So for me they doesnt basically earn more money"
   ]
  },
  {
   "cell_type": "markdown",
   "metadata": {},
   "source": [
    "**B)** The pilot program will involve all counties within a limited set of three US states. Set A includes Wisconsin, Tennessee, and  Minnesota. Quantify the dependency of per-capita income on self-employment rates across all the counties in set A."
   ]
  },
  {
   "cell_type": "code",
   "execution_count": 28,
   "metadata": {},
   "outputs": [
    {
     "name": "stdout",
     "output_type": "stream",
     "text": [
      "(254, 38)\n"
     ]
    },
    {
     "data": {
      "text/html": [
       "<div>\n",
       "<style scoped>\n",
       "    .dataframe tbody tr th:only-of-type {\n",
       "        vertical-align: middle;\n",
       "    }\n",
       "\n",
       "    .dataframe tbody tr th {\n",
       "        vertical-align: top;\n",
       "    }\n",
       "\n",
       "    .dataframe thead th {\n",
       "        text-align: right;\n",
       "    }\n",
       "</style>\n",
       "<table border=\"1\" class=\"dataframe\">\n",
       "  <thead>\n",
       "    <tr style=\"text-align: right;\">\n",
       "      <th></th>\n",
       "      <th>CensusId</th>\n",
       "      <th>State</th>\n",
       "      <th>County</th>\n",
       "      <th>TotalPop</th>\n",
       "      <th>Men</th>\n",
       "      <th>Women</th>\n",
       "      <th>Hispanic</th>\n",
       "      <th>White</th>\n",
       "      <th>Black</th>\n",
       "      <th>Native</th>\n",
       "      <th>...</th>\n",
       "      <th>OtherTransp</th>\n",
       "      <th>WorkAtHome</th>\n",
       "      <th>MeanCommute</th>\n",
       "      <th>Employed</th>\n",
       "      <th>PrivateWork</th>\n",
       "      <th>PublicWork</th>\n",
       "      <th>SelfEmployed</th>\n",
       "      <th>FamilyWork</th>\n",
       "      <th>Unemployment</th>\n",
       "      <th>percentage_SelfEmployed</th>\n",
       "    </tr>\n",
       "  </thead>\n",
       "  <tbody>\n",
       "    <tr>\n",
       "      <th>1314</th>\n",
       "      <td>27001</td>\n",
       "      <td>Minnesota</td>\n",
       "      <td>Aitkin</td>\n",
       "      <td>15839</td>\n",
       "      <td>8064</td>\n",
       "      <td>7775</td>\n",
       "      <td>1.1</td>\n",
       "      <td>94.4</td>\n",
       "      <td>0.3</td>\n",
       "      <td>1.8</td>\n",
       "      <td>...</td>\n",
       "      <td>1.5</td>\n",
       "      <td>5.2</td>\n",
       "      <td>25.1</td>\n",
       "      <td>6428</td>\n",
       "      <td>75.4</td>\n",
       "      <td>15.2</td>\n",
       "      <td>9.2</td>\n",
       "      <td>0.2</td>\n",
       "      <td>7.3</td>\n",
       "      <td>0.058084</td>\n",
       "    </tr>\n",
       "    <tr>\n",
       "      <th>1315</th>\n",
       "      <td>27003</td>\n",
       "      <td>Minnesota</td>\n",
       "      <td>Anoka</td>\n",
       "      <td>338764</td>\n",
       "      <td>169586</td>\n",
       "      <td>169178</td>\n",
       "      <td>3.9</td>\n",
       "      <td>83.8</td>\n",
       "      <td>4.9</td>\n",
       "      <td>0.6</td>\n",
       "      <td>...</td>\n",
       "      <td>0.9</td>\n",
       "      <td>4.0</td>\n",
       "      <td>28.1</td>\n",
       "      <td>181190</td>\n",
       "      <td>84.7</td>\n",
       "      <td>11.0</td>\n",
       "      <td>4.2</td>\n",
       "      <td>0.1</td>\n",
       "      <td>6.2</td>\n",
       "      <td>0.001240</td>\n",
       "    </tr>\n",
       "    <tr>\n",
       "      <th>1316</th>\n",
       "      <td>27005</td>\n",
       "      <td>Minnesota</td>\n",
       "      <td>Becker</td>\n",
       "      <td>33138</td>\n",
       "      <td>16601</td>\n",
       "      <td>16537</td>\n",
       "      <td>1.8</td>\n",
       "      <td>86.8</td>\n",
       "      <td>0.5</td>\n",
       "      <td>7.0</td>\n",
       "      <td>...</td>\n",
       "      <td>1.5</td>\n",
       "      <td>6.6</td>\n",
       "      <td>22.8</td>\n",
       "      <td>15929</td>\n",
       "      <td>74.3</td>\n",
       "      <td>16.4</td>\n",
       "      <td>9.0</td>\n",
       "      <td>0.3</td>\n",
       "      <td>3.5</td>\n",
       "      <td>0.027159</td>\n",
       "    </tr>\n",
       "    <tr>\n",
       "      <th>1317</th>\n",
       "      <td>27007</td>\n",
       "      <td>Minnesota</td>\n",
       "      <td>Beltrami</td>\n",
       "      <td>45434</td>\n",
       "      <td>22740</td>\n",
       "      <td>22694</td>\n",
       "      <td>1.9</td>\n",
       "      <td>73.4</td>\n",
       "      <td>0.8</td>\n",
       "      <td>20.0</td>\n",
       "      <td>...</td>\n",
       "      <td>1.3</td>\n",
       "      <td>6.5</td>\n",
       "      <td>20.2</td>\n",
       "      <td>20579</td>\n",
       "      <td>66.8</td>\n",
       "      <td>26.9</td>\n",
       "      <td>6.2</td>\n",
       "      <td>0.1</td>\n",
       "      <td>10.6</td>\n",
       "      <td>0.013646</td>\n",
       "    </tr>\n",
       "    <tr>\n",
       "      <th>1318</th>\n",
       "      <td>27009</td>\n",
       "      <td>Minnesota</td>\n",
       "      <td>Benton</td>\n",
       "      <td>39221</td>\n",
       "      <td>19500</td>\n",
       "      <td>19721</td>\n",
       "      <td>1.9</td>\n",
       "      <td>92.7</td>\n",
       "      <td>2.3</td>\n",
       "      <td>0.3</td>\n",
       "      <td>...</td>\n",
       "      <td>1.6</td>\n",
       "      <td>4.9</td>\n",
       "      <td>23.3</td>\n",
       "      <td>20104</td>\n",
       "      <td>82.9</td>\n",
       "      <td>11.2</td>\n",
       "      <td>5.7</td>\n",
       "      <td>0.2</td>\n",
       "      <td>6.7</td>\n",
       "      <td>0.014533</td>\n",
       "    </tr>\n",
       "    <tr>\n",
       "      <th>...</th>\n",
       "      <td>...</td>\n",
       "      <td>...</td>\n",
       "      <td>...</td>\n",
       "      <td>...</td>\n",
       "      <td>...</td>\n",
       "      <td>...</td>\n",
       "      <td>...</td>\n",
       "      <td>...</td>\n",
       "      <td>...</td>\n",
       "      <td>...</td>\n",
       "      <td>...</td>\n",
       "      <td>...</td>\n",
       "      <td>...</td>\n",
       "      <td>...</td>\n",
       "      <td>...</td>\n",
       "      <td>...</td>\n",
       "      <td>...</td>\n",
       "      <td>...</td>\n",
       "      <td>...</td>\n",
       "      <td>...</td>\n",
       "      <td>...</td>\n",
       "    </tr>\n",
       "    <tr>\n",
       "      <th>3114</th>\n",
       "      <td>55133</td>\n",
       "      <td>Wisconsin</td>\n",
       "      <td>Waukesha</td>\n",
       "      <td>393873</td>\n",
       "      <td>193441</td>\n",
       "      <td>200432</td>\n",
       "      <td>4.5</td>\n",
       "      <td>89.6</td>\n",
       "      <td>1.4</td>\n",
       "      <td>0.1</td>\n",
       "      <td>...</td>\n",
       "      <td>0.9</td>\n",
       "      <td>4.2</td>\n",
       "      <td>24.0</td>\n",
       "      <td>209461</td>\n",
       "      <td>87.4</td>\n",
       "      <td>8.3</td>\n",
       "      <td>4.2</td>\n",
       "      <td>0.1</td>\n",
       "      <td>4.2</td>\n",
       "      <td>0.001066</td>\n",
       "    </tr>\n",
       "    <tr>\n",
       "      <th>3115</th>\n",
       "      <td>55135</td>\n",
       "      <td>Wisconsin</td>\n",
       "      <td>Waupaca</td>\n",
       "      <td>52125</td>\n",
       "      <td>26378</td>\n",
       "      <td>25747</td>\n",
       "      <td>2.8</td>\n",
       "      <td>95.0</td>\n",
       "      <td>0.4</td>\n",
       "      <td>0.6</td>\n",
       "      <td>...</td>\n",
       "      <td>1.8</td>\n",
       "      <td>3.7</td>\n",
       "      <td>22.4</td>\n",
       "      <td>25703</td>\n",
       "      <td>82.3</td>\n",
       "      <td>11.8</td>\n",
       "      <td>5.6</td>\n",
       "      <td>0.3</td>\n",
       "      <td>5.7</td>\n",
       "      <td>0.010743</td>\n",
       "    </tr>\n",
       "    <tr>\n",
       "      <th>3116</th>\n",
       "      <td>55137</td>\n",
       "      <td>Wisconsin</td>\n",
       "      <td>Waushara</td>\n",
       "      <td>24321</td>\n",
       "      <td>12783</td>\n",
       "      <td>11538</td>\n",
       "      <td>6.2</td>\n",
       "      <td>90.0</td>\n",
       "      <td>1.8</td>\n",
       "      <td>0.5</td>\n",
       "      <td>...</td>\n",
       "      <td>1.9</td>\n",
       "      <td>4.9</td>\n",
       "      <td>26.5</td>\n",
       "      <td>10458</td>\n",
       "      <td>76.9</td>\n",
       "      <td>14.5</td>\n",
       "      <td>8.2</td>\n",
       "      <td>0.4</td>\n",
       "      <td>7.2</td>\n",
       "      <td>0.033716</td>\n",
       "    </tr>\n",
       "    <tr>\n",
       "      <th>3117</th>\n",
       "      <td>55139</td>\n",
       "      <td>Wisconsin</td>\n",
       "      <td>Winnebago</td>\n",
       "      <td>169004</td>\n",
       "      <td>85019</td>\n",
       "      <td>83985</td>\n",
       "      <td>3.8</td>\n",
       "      <td>89.7</td>\n",
       "      <td>1.9</td>\n",
       "      <td>0.6</td>\n",
       "      <td>...</td>\n",
       "      <td>1.3</td>\n",
       "      <td>3.0</td>\n",
       "      <td>18.6</td>\n",
       "      <td>85970</td>\n",
       "      <td>84.9</td>\n",
       "      <td>11.4</td>\n",
       "      <td>3.6</td>\n",
       "      <td>0.1</td>\n",
       "      <td>4.7</td>\n",
       "      <td>0.002130</td>\n",
       "    </tr>\n",
       "    <tr>\n",
       "      <th>3118</th>\n",
       "      <td>55141</td>\n",
       "      <td>Wisconsin</td>\n",
       "      <td>Wood</td>\n",
       "      <td>74012</td>\n",
       "      <td>36594</td>\n",
       "      <td>37418</td>\n",
       "      <td>2.6</td>\n",
       "      <td>93.2</td>\n",
       "      <td>0.5</td>\n",
       "      <td>0.7</td>\n",
       "      <td>...</td>\n",
       "      <td>1.9</td>\n",
       "      <td>3.6</td>\n",
       "      <td>18.9</td>\n",
       "      <td>36445</td>\n",
       "      <td>83.5</td>\n",
       "      <td>10.8</td>\n",
       "      <td>5.5</td>\n",
       "      <td>0.2</td>\n",
       "      <td>6.6</td>\n",
       "      <td>0.007431</td>\n",
       "    </tr>\n",
       "  </tbody>\n",
       "</table>\n",
       "<p>254 rows × 38 columns</p>\n",
       "</div>"
      ],
      "text/plain": [
       "      CensusId      State     County  TotalPop     Men   Women  Hispanic  \\\n",
       "1314     27001  Minnesota     Aitkin     15839    8064    7775       1.1   \n",
       "1315     27003  Minnesota      Anoka    338764  169586  169178       3.9   \n",
       "1316     27005  Minnesota     Becker     33138   16601   16537       1.8   \n",
       "1317     27007  Minnesota   Beltrami     45434   22740   22694       1.9   \n",
       "1318     27009  Minnesota     Benton     39221   19500   19721       1.9   \n",
       "...        ...        ...        ...       ...     ...     ...       ...   \n",
       "3114     55133  Wisconsin   Waukesha    393873  193441  200432       4.5   \n",
       "3115     55135  Wisconsin    Waupaca     52125   26378   25747       2.8   \n",
       "3116     55137  Wisconsin   Waushara     24321   12783   11538       6.2   \n",
       "3117     55139  Wisconsin  Winnebago    169004   85019   83985       3.8   \n",
       "3118     55141  Wisconsin       Wood     74012   36594   37418       2.6   \n",
       "\n",
       "      White  Black  Native  ...  OtherTransp  WorkAtHome  MeanCommute  \\\n",
       "1314   94.4    0.3     1.8  ...          1.5         5.2         25.1   \n",
       "1315   83.8    4.9     0.6  ...          0.9         4.0         28.1   \n",
       "1316   86.8    0.5     7.0  ...          1.5         6.6         22.8   \n",
       "1317   73.4    0.8    20.0  ...          1.3         6.5         20.2   \n",
       "1318   92.7    2.3     0.3  ...          1.6         4.9         23.3   \n",
       "...     ...    ...     ...  ...          ...         ...          ...   \n",
       "3114   89.6    1.4     0.1  ...          0.9         4.2         24.0   \n",
       "3115   95.0    0.4     0.6  ...          1.8         3.7         22.4   \n",
       "3116   90.0    1.8     0.5  ...          1.9         4.9         26.5   \n",
       "3117   89.7    1.9     0.6  ...          1.3         3.0         18.6   \n",
       "3118   93.2    0.5     0.7  ...          1.9         3.6         18.9   \n",
       "\n",
       "      Employed  PrivateWork  PublicWork  SelfEmployed  FamilyWork  \\\n",
       "1314      6428         75.4        15.2           9.2         0.2   \n",
       "1315    181190         84.7        11.0           4.2         0.1   \n",
       "1316     15929         74.3        16.4           9.0         0.3   \n",
       "1317     20579         66.8        26.9           6.2         0.1   \n",
       "1318     20104         82.9        11.2           5.7         0.2   \n",
       "...        ...          ...         ...           ...         ...   \n",
       "3114    209461         87.4         8.3           4.2         0.1   \n",
       "3115     25703         82.3        11.8           5.6         0.3   \n",
       "3116     10458         76.9        14.5           8.2         0.4   \n",
       "3117     85970         84.9        11.4           3.6         0.1   \n",
       "3118     36445         83.5        10.8           5.5         0.2   \n",
       "\n",
       "      Unemployment  percentage_SelfEmployed  \n",
       "1314           7.3                 0.058084  \n",
       "1315           6.2                 0.001240  \n",
       "1316           3.5                 0.027159  \n",
       "1317          10.6                 0.013646  \n",
       "1318           6.7                 0.014533  \n",
       "...            ...                      ...  \n",
       "3114           4.2                 0.001066  \n",
       "3115           5.7                 0.010743  \n",
       "3116           7.2                 0.033716  \n",
       "3117           4.7                 0.002130  \n",
       "3118           6.6                 0.007431  \n",
       "\n",
       "[254 rows x 38 columns]"
      ]
     },
     "execution_count": 28,
     "metadata": {},
     "output_type": "execute_result"
    }
   ],
   "source": [
    "### your code and or answer here ###\n",
    "import re\n",
    "SetA=df.loc[df['State'].str.contains('wisconsin|tennesse|minnesota',flags=re.I,regex=True)]\n",
    "print(SetA.shape)\n",
    "SetA_per_capita_self_empl = df.query(\"State == 'Wisconsin' | \\\n",
    "                                                        State == 'Tennessee' | \\\n",
    "                                                        State == 'Minnesota' \") \n",
    "SetA_per_capita_self_empl"
   ]
  },
  {
   "cell_type": "code",
   "execution_count": 29,
   "metadata": {},
   "outputs": [
    {
     "name": "stdout",
     "output_type": "stream",
     "text": [
      "(-0.20229350736521498, 0.0011881639322139396)\n"
     ]
    }
   ],
   "source": [
    "print(stats.pearsonr(SetA['SelfEmployed'],SetA['IncomePerCap']))"
   ]
  },
  {
   "cell_type": "code",
   "execution_count": 30,
   "metadata": {},
   "outputs": [
    {
     "data": {
      "text/plain": [
       "<seaborn.axisgrid.JointGrid at 0x25ba5da5a60>"
      ]
     },
     "execution_count": 30,
     "metadata": {},
     "output_type": "execute_result"
    },
    {
     "data": {
      "image/png": "[encoded data removed]",
      "text/plain": [
       "<Figure size 432x432 with 3 Axes>"
      ]
     },
     "metadata": {
      "needs_background": "light"
     },
     "output_type": "display_data"
    }
   ],
   "source": [
    "sns.jointplot(data = SetA, x ='SelfEmployed', y ='IncomePerCap' , kind=\"reg\")"
   ]
  },
  {
   "cell_type": "markdown",
   "metadata": {},
   "source": [
    "**C)** In which \n",
    "state within set A is the observed effect of self-employment on per-capita income the strongest?"
   ]
  },
  {
   "cell_type": "code",
   "execution_count": 31,
   "metadata": {},
   "outputs": [],
   "source": [
    "# In Wisconsin, the nagative dependency is the strongest."
   ]
  },
  {
   "cell_type": "code",
   "execution_count": 32,
   "metadata": {},
   "outputs": [
    {
     "name": "stderr",
     "output_type": "stream",
     "text": [
      "C:\\Users\\41789\\anaconda3\\lib\\site-packages\\seaborn\\_decorators.py:36: FutureWarning: Pass the following variables as keyword args: x, y. From version 0.12, the only valid positional argument will be `data`, and passing other arguments without an explicit keyword will result in an error or misinterpretation.\n",
      "  warnings.warn(\n"
     ]
    },
    {
     "data": {
      "text/plain": [
       "(0.0, 22.0)"
      ]
     },
     "execution_count": 32,
     "metadata": {},
     "output_type": "execute_result"
    },
    {
     "data": {
      "image/png": "[encoded data removed]",
      "text/plain": [
       "<Figure size 448x360 with 1 Axes>"
      ]
     },
     "metadata": {
      "needs_background": "light"
     },
     "output_type": "display_data"
    }
   ],
   "source": [
    "sns.lmplot('SelfEmployed','IncomePerCap', data=SetA, hue = 'State') # hue specify which column you use to get the color! but dont works with sns.jouintplot\n",
    "plt.xlabel(\"Percentage of Self Employed people [%]\")\n",
    "plt.ylabel(\"Income per Capita [$]\")\n",
    "plt.ylim([10000,50000])\n",
    "plt.xlim([0,22])"
   ]
  },
  {
   "cell_type": "code",
   "execution_count": 33,
   "metadata": {},
   "outputs": [
    {
     "name": "stdout",
     "output_type": "stream",
     "text": [
      "(-0.32905300016378525, 0.004768134887745222)\n",
      "(-0.23836048684913147, 0.02001163195552807)\n",
      "(-0.2538551921654062, 0.01766519930091192)\n"
     ]
    }
   ],
   "source": [
    "Wisconsin_per_capita_self_empl = SetA.query(\"State == 'Wisconsin'\") \n",
    "Tennessee_per_capita_self_empl = SetA.query(\"State == 'Tennessee'\") \n",
    "Minnesota_per_capita_self_empl = SetA.query(\"State == 'Minnesota'\") \n",
    "\n",
    "print(stats.pearsonr(Wisconsin_per_capita_self_empl['SelfEmployed'],Wisconsin_per_capita_self_empl['IncomePerCap']))\n",
    "print(stats.pearsonr(Tennessee_per_capita_self_empl['SelfEmployed'],Tennessee_per_capita_self_empl['IncomePerCap']))\n",
    "print(stats.pearsonr(Minnesota_per_capita_self_empl['SelfEmployed'],Minnesota_per_capita_self_empl['IncomePerCap']))"
   ]
  },
  {
   "cell_type": "markdown",
   "metadata": {},
   "source": [
    "**D)** Set B includes New Jersey, Kansas, and Rhode Island. Repeat the analysis from steps B and C above, but now for set B. In which of the two sets A and B (if any) would you recommend incentivizing self-employment? Explain your reasoning. Hint: It is useful to add a notion of confidence to your results and explore the data visually."
   ]
  },
  {
   "cell_type": "code",
   "execution_count": 34,
   "metadata": {},
   "outputs": [],
   "source": [
    "# There is a weak negative dependency overall, moderate to strong positive when disaggregated.\n",
    "# This is a Simpson’s Paradox: the effect is reversed when the data is aggregated.\n",
    "# We would recommend in set B, not in set A (there is significant positive correlation within\n",
    "# all states separately in set B)."
   ]
  },
  {
   "cell_type": "code",
   "execution_count": 35,
   "metadata": {},
   "outputs": [
    {
     "name": "stderr",
     "output_type": "stream",
     "text": [
      "C:\\Users\\41789\\anaconda3\\lib\\site-packages\\seaborn\\_decorators.py:36: FutureWarning: Pass the following variables as keyword args: x, y. From version 0.12, the only valid positional argument will be `data`, and passing other arguments without an explicit keyword will result in an error or misinterpretation.\n",
      "  warnings.warn(\n"
     ]
    },
    {
     "data": {
      "text/plain": [
       "(0.0, 25.0)"
      ]
     },
     "execution_count": 35,
     "metadata": {},
     "output_type": "execute_result"
    },
    {
     "data": {
      "image/png": "[encoded data removed]",
      "text/plain": [
       "<Figure size 360x360 with 1 Axes>"
      ]
     },
     "metadata": {
      "needs_background": "light"
     },
     "output_type": "display_data"
    }
   ],
   "source": [
    "SetB_per_capita_self_empl = df.query(\"State == 'New Jersey' | \\\n",
    "                                                        State == 'Kansas' | \\\n",
    "                                                        State == 'Rhode Island' \") \n",
    "\n",
    "sns.lmplot('SelfEmployed','IncomePerCap', data=SetB_per_capita_self_empl)\n",
    "plt.xlabel(\"Percentage of Self Employed people [%]\")\n",
    "plt.ylabel(\"Income per Capita [$]\")\n",
    "plt.ylim([10000,60000])\n",
    "plt.xlim([0,25])"
   ]
  },
  {
   "cell_type": "code",
   "execution_count": 36,
   "metadata": {},
   "outputs": [
    {
     "name": "stdout",
     "output_type": "stream",
     "text": [
      "(-0.2322214134608569, 0.007607493042857402)\n"
     ]
    }
   ],
   "source": [
    "print(stats.pearsonr(SetB_per_capita_self_empl['SelfEmployed'],SetB_per_capita_self_empl['IncomePerCap']))"
   ]
  },
  {
   "cell_type": "code",
   "execution_count": 37,
   "metadata": {},
   "outputs": [
    {
     "name": "stderr",
     "output_type": "stream",
     "text": [
      "C:\\Users\\41789\\anaconda3\\lib\\site-packages\\seaborn\\_decorators.py:36: FutureWarning: Pass the following variables as keyword args: x, y. From version 0.12, the only valid positional argument will be `data`, and passing other arguments without an explicit keyword will result in an error or misinterpretation.\n",
      "  warnings.warn(\n"
     ]
    },
    {
     "data": {
      "text/plain": [
       "(0.0, 25.0)"
      ]
     },
     "execution_count": 37,
     "metadata": {},
     "output_type": "execute_result"
    },
    {
     "data": {
      "image/png": "[encoded data removed]",
      "text/plain": [
       "<Figure size 460.75x360 with 1 Axes>"
      ]
     },
     "metadata": {
      "needs_background": "light"
     },
     "output_type": "display_data"
    }
   ],
   "source": [
    "sns.lmplot('SelfEmployed','IncomePerCap', data=SetB_per_capita_self_empl, hue = 'State')\n",
    "plt.xlabel(\"Percentage of Self Employed people [%]\")\n",
    "\n",
    "plt.ylabel(\"Income per Capita [$]\")\n",
    "plt.ylim([10000,60000])\n",
    "plt.xlim([0,25])"
   ]
  },
  {
   "cell_type": "code",
   "execution_count": 38,
   "metadata": {},
   "outputs": [
    {
     "name": "stdout",
     "output_type": "stream",
     "text": [
      "New Jersey\n",
      "(0.48044784713362815, 0.027488944757806236)\n",
      "Kansas\n",
      "(0.2581029971443692, 0.00785335184683246)\n",
      "Rhode island\n",
      "(0.9021788382149805, 0.03618310201575917)\n"
     ]
    }
   ],
   "source": [
    "NJ_per_capita_self_empl = SetB_per_capita_self_empl.query(\"State == 'New Jersey'\") \n",
    "Kansas_per_capita_self_empl = SetB_per_capita_self_empl.query(\"State == 'Kansas'\")\n",
    "RI_per_capita_self_empl = SetB_per_capita_self_empl.query(\"State == 'Rhode Island'\") \n",
    "print('New Jersey')\n",
    "print(stats.pearsonr(NJ_per_capita_self_empl['SelfEmployed'],NJ_per_capita_self_empl['IncomePerCap']))\n",
    "print('Kansas')\n",
    "print(stats.pearsonr(Kansas_per_capita_self_empl['SelfEmployed'],Kansas_per_capita_self_empl['IncomePerCap']))\n",
    "print('Rhode island')\n",
    "print(stats.pearsonr(RI_per_capita_self_empl['SelfEmployed'],RI_per_capita_self_empl['IncomePerCap']))"
   ]
  },
  {
   "cell_type": "code",
   "execution_count": null,
   "metadata": {},
   "outputs": [],
   "source": []
  },
  {
   "cell_type": "markdown",
   "metadata": {},
   "source": [
    "# Exercise 2. Data visualization and read the stats comprehension and interpretation questions.\n",
    "\n",
    "- As part of the two homeworks and the final exam, you will be at times asked to interpret your result based on the understanding of underlying concepts. The questions below can help you practice and get a sense of how well you understand the concepts covered in the class so far. Can you answer these questions confidently?"
   ]
  },
  {
   "cell_type": "markdown",
   "metadata": {},
   "source": [
    "### Question 1. The yearly salaries (in thousands of CHF) of 7000 people are summarized in the following box plot. If the 20th percentile of the salaries is 110,000, how many people earn between 110,000 and 114,000?\n",
    "\n",
    "- a) 2100\n",
    "- b) 700\n",
    "- c) 350\n",
    "- d) 70"
   ]
  },
  {
   "cell_type": "markdown",
   "metadata": {},
   "source": [
    "<img src=\"boxplot.png\" style=\"width: 400px;\" align=\"left\"/>"
   ]
  },
  {
   "cell_type": "code",
   "execution_count": 39,
   "metadata": {},
   "outputs": [
    {
     "data": {
      "text/plain": [
       "350.0"
      ]
     },
     "execution_count": 39,
     "metadata": {},
     "output_type": "execute_result"
    }
   ],
   "source": [
    "0.05*7000"
   ]
  },
  {
   "cell_type": "markdown",
   "metadata": {},
   "source": [
    "### Question 2. What visualizations are suitable for getting insights about the distribution of a single continuous variable?\n",
    "\n",
    "- a) Barplot and histogram\n",
    "- b) Boxplot and histogram\n",
    "- c) Scatterplot and boxplot\n",
    "- d) Barplot, boxplot, and histogram"
   ]
  },
  {
   "cell_type": "code",
   "execution_count": 40,
   "metadata": {},
   "outputs": [],
   "source": [
    "### B"
   ]
  },
  {
   "cell_type": "markdown",
   "metadata": {},
   "source": [
    "### Question 3. In a new groundbreaking study, 28 out of 100 patients reported improvements after taking a new medicine. It is known that, when given a placebo, 20% of the patients report feeling better. What is the p-value assuming the null hypothesis that the probability of successful treatment in this groundbreaking study is the same as the probability of reporting feeling better under placebo, according to a one-sided binomial test? Hint: you may use the statsmodels.stats.proportion.binom_test function.\n",
    "\n",
    "- a) 0.00034\n",
    "- b) 0.0034\n",
    "- c) 0.034\n",
    "- d) 0.34"
   ]
  },
  {
   "cell_type": "code",
   "execution_count": 103,
   "metadata": {},
   "outputs": [
    {
     "ename": "ValueError",
     "evalue": "alternative not recognized\nshould be two-sided, larger or smaller",
     "output_type": "error",
     "traceback": [
      "\u001b[1;31m---------------------------------------------------------------------------\u001b[0m",
      "\u001b[1;31mValueError\u001b[0m                                Traceback (most recent call last)",
      "\u001b[1;32m<ipython-input-103-e37ae70a5379>\u001b[0m in \u001b[0;36m<module>\u001b[1;34m\u001b[0m\n\u001b[0;32m      1\u001b[0m \u001b[1;32mfrom\u001b[0m \u001b[0mstatsmodels\u001b[0m\u001b[1;33m.\u001b[0m\u001b[0mstats\u001b[0m\u001b[1;33m.\u001b[0m\u001b[0mproportion\u001b[0m \u001b[1;32mimport\u001b[0m \u001b[0mbinom_test\u001b[0m\u001b[1;33m\u001b[0m\u001b[1;33m\u001b[0m\u001b[0m\n\u001b[1;32m----> 2\u001b[1;33m \u001b[0mbinom_test\u001b[0m\u001b[1;33m(\u001b[0m\u001b[1;36m28\u001b[0m\u001b[1;33m,\u001b[0m\u001b[1;36m100\u001b[0m\u001b[1;33m,\u001b[0m\u001b[0mprop\u001b[0m \u001b[1;33m=\u001b[0m \u001b[1;36m0.2\u001b[0m\u001b[1;33m,\u001b[0m \u001b[0malternative\u001b[0m\u001b[1;33m=\u001b[0m\u001b[1;34m'one-sided'\u001b[0m\u001b[1;33m)\u001b[0m\u001b[1;33m\u001b[0m\u001b[1;33m\u001b[0m\u001b[0m\n\u001b[0m",
      "\u001b[1;32m~\\anaconda3\\lib\\site-packages\\statsmodels\\stats\\proportion.py\u001b[0m in \u001b[0;36mbinom_test\u001b[1;34m(count, nobs, prop, alternative)\u001b[0m\n\u001b[0;32m    630\u001b[0m         \u001b[0mpval\u001b[0m \u001b[1;33m=\u001b[0m \u001b[0mstats\u001b[0m\u001b[1;33m.\u001b[0m\u001b[0mbinom\u001b[0m\u001b[1;33m.\u001b[0m\u001b[0mcdf\u001b[0m\u001b[1;33m(\u001b[0m\u001b[0mcount\u001b[0m\u001b[1;33m,\u001b[0m \u001b[0mnobs\u001b[0m\u001b[1;33m,\u001b[0m \u001b[0mprop\u001b[0m\u001b[1;33m)\u001b[0m\u001b[1;33m\u001b[0m\u001b[1;33m\u001b[0m\u001b[0m\n\u001b[0;32m    631\u001b[0m     \u001b[1;32melse\u001b[0m\u001b[1;33m:\u001b[0m\u001b[1;33m\u001b[0m\u001b[1;33m\u001b[0m\u001b[0m\n\u001b[1;32m--> 632\u001b[1;33m         raise ValueError('alternative not recognized\\n'\n\u001b[0m\u001b[0;32m    633\u001b[0m                          'should be two-sided, larger or smaller')\n\u001b[0;32m    634\u001b[0m     \u001b[1;32mreturn\u001b[0m \u001b[0mpval\u001b[0m\u001b[1;33m\u001b[0m\u001b[1;33m\u001b[0m\u001b[0m\n",
      "\u001b[1;31mValueError\u001b[0m: alternative not recognized\nshould be two-sided, larger or smaller"
     ]
    }
   ],
   "source": [
    "from statsmodels.stats.proportion import binom_test\n",
    "binom_test(28,100,prop = 0.2, alternative='larger')\n"
   ]
  },
  {
   "cell_type": "code",
   "execution_count": null,
   "metadata": {},
   "outputs": [],
   "source": [
    "### your code and or answer here ###a"
   ]
  },
  {
   "cell_type": "markdown",
   "metadata": {},
   "source": [
    "### Question 4. The 95% confidence interval of the average height of 1000 people using bootstrap resampling with 10000 bootstrap samples is calculated by:\n",
    "\n",
    "- a) Sampling 1000 height values with replacement and computing the mean. This is repeated 10000 times to create a sorted list of the 10000 means. The CI is defined by the 500th and the 9500th value in sorted order.\n",
    "- b) Sampling 10000 height values without replacement and computing the mean. This is repeated 1000 times to create a sorted list of the 1000 means. The CI is defined by the 25th and the 975th value in sorted order.\n",
    "- c) Sampling 1000 height values with replacement and computing the mean. This is repeated 10000 times to create a sorted list of the 10000 means. The CI is defined by the 250th and the 9750th value in sorted order.\n",
    "- d) Sampling 1000 height values without replacement and computing the mean. This is repeated 10000 times to create a sorted list of the 10000 means. The CI is defined by the 500th and the 9500th value in sorted order.\n",
    "\n",
    "### Implement your bootstrapping function that you will use in the rest of the course. It should take an array and the number of iterations as inputs, and output 95% confidence intervals of the mean."
   ]
  },
  {
   "cell_type": "code",
   "execution_count": 101,
   "metadata": {},
   "outputs": [
    {
     "data": {
      "text/plain": [
       "([4983.771105, 5090.248245000001],\n",
       " array([5039.575 , 5058.9323, 4992.0323, 4994.9291, 5019.9586, 5048.1145,\n",
       "        5015.4769, 5010.9905, 5023.4239, 5051.2993, 5044.835 , 5049.5873,\n",
       "        4995.9712, 5041.3259, 5022.316 , 5044.7639, 5060.111 , 4996.1523,\n",
       "        5011.2073, 5061.3547, 5035.9902, 5031.2561, 5034.2429, 5045.2482,\n",
       "        4996.1475, 5043.6228, 4985.9435, 5019.4962, 5025.6063, 5034.6603,\n",
       "        5088.8358, 5068.7428, 5076.1482, 5021.457 , 4999.0213, 5090.2165,\n",
       "        5042.7643, 5049.2102, 5057.6676, 5014.3745, 5036.1856, 5012.1196,\n",
       "        5043.8273, 5048.2371, 4998.6255, 5024.1495, 5035.0727, 5012.3224,\n",
       "        5069.5585, 5051.0412, 5070.2109, 5083.7667, 5013.372 , 5037.1709,\n",
       "        5056.3071, 5050.9743, 5029.3788, 5053.3921, 5006.8883, 5048.9505,\n",
       "        4990.0895, 5055.2484, 5042.2404, 5038.351 , 5025.2245, 4978.0294,\n",
       "        5066.468 , 5041.5566, 5004.0972, 5103.4706, 5017.8674, 5017.7008,\n",
       "        5059.3508, 5060.0295, 5042.8554, 5041.2021, 5021.8448, 5067.0062,\n",
       "        5053.0828, 5065.3001, 5004.4342, 4974.7785, 5026.3843, 4998.1801,\n",
       "        5032.7438, 5068.024 , 5075.5818, 5045.9143, 5086.5947, 5023.7167,\n",
       "        5049.6992, 5066.4173, 5058.3706, 5058.5022, 5010.9158, 5060.0312,\n",
       "        5047.8124, 5011.0107, 5014.6557, 5050.9502, 5041.205 , 5008.5634,\n",
       "        5016.6924, 5029.0676, 5012.3038, 5040.5183, 5043.596 , 5031.1987,\n",
       "        5018.9648, 5031.8692, 5007.0157, 5039.1671, 5062.9863, 5022.2913,\n",
       "        5044.3755, 5049.7501, 5047.8424, 5001.1816, 4980.9137, 5023.7523,\n",
       "        5042.206 , 5035.5096, 5019.2801, 5044.1292, 5005.0383, 5064.3757,\n",
       "        5061.5076, 5035.0853, 4982.3634, 5010.8373, 5035.5219, 5058.7324,\n",
       "        4997.1986, 5048.4112, 5015.821 , 5083.8389, 5032.9913, 5066.0134,\n",
       "        5018.2529, 5023.1836, 5054.8625, 5063.2056, 5051.2827, 5033.9177,\n",
       "        5053.8139, 5081.033 , 4984.7744, 5014.9639, 5080.8943, 5041.3939,\n",
       "        5060.042 , 5010.5955, 5103.0774, 5060.2581, 5072.5259, 5071.4683,\n",
       "        4999.0181, 5029.3741, 5067.8508, 5081.51  , 5033.0571, 5003.0216,\n",
       "        4995.6175, 5088.0573, 5033.2255, 5013.8154, 4988.5322, 5018.0198,\n",
       "        5024.07  , 5015.5301, 4981.6262, 5016.262 , 5008.2946, 5064.2732,\n",
       "        5010.3466, 5085.9078, 5003.0533, 5086.3965, 4990.2324, 5107.3388,\n",
       "        5041.2216, 5059.6082, 5020.1354, 5028.6299, 5037.2774, 5021.66  ,\n",
       "        5066.4119, 5024.9279, 5070.4035, 5046.8461, 5007.6438, 5020.1143,\n",
       "        5073.6089, 5085.3041, 5013.2959, 5021.9013, 5066.2135, 5036.9516,\n",
       "        5061.1737, 5057.3735, 5052.8647, 5076.4823, 5052.6677, 5104.1766,\n",
       "        5070.6397, 5084.1127, 5011.4048, 5061.734 , 5010.4482, 5006.2599,\n",
       "        5029.6709, 5049.1752, 5078.6806, 5040.2601, 5073.3433, 5023.6958,\n",
       "        5062.1652, 5047.1852, 5042.4729, 5048.2737, 5066.3119, 5032.2917,\n",
       "        5013.9532, 5047.8172, 5060.022 , 5033.009 , 4984.5315, 5038.7847,\n",
       "        4998.9359, 5012.0257, 5010.0599, 5028.8332, 5077.5053, 5058.9256,\n",
       "        5054.6684, 5024.3158, 5051.4398, 5024.0159, 5023.82  , 5020.7003,\n",
       "        5039.8811, 5024.2671, 5031.9392, 5039.2058, 5071.1341, 5063.3537,\n",
       "        5024.0587, 4975.1894, 5083.2975, 5002.2057, 4981.5382, 5118.7711,\n",
       "        5035.1805, 5086.2842, 5083.6723, 5047.858 , 5061.1156, 5052.8649,\n",
       "        5046.7198, 5058.7702, 5071.3046, 5059.3401, 5018.7395, 5084.4882,\n",
       "        5054.0443, 5074.5839, 5069.7484, 5082.2317, 5079.3296, 5018.1959,\n",
       "        5042.0482, 5054.7236, 5022.9435, 5001.9786, 5078.4952, 5086.0554,\n",
       "        5039.9078, 5058.5139, 5006.2017, 5036.2333, 5016.7581, 5033.3569,\n",
       "        5017.1993, 5069.3306, 5054.0946, 4971.7943, 5024.9066, 5073.4142,\n",
       "        5019.6505, 4982.4869, 5024.0187, 5004.0276, 5051.4933, 5021.4989,\n",
       "        5026.3987, 5058.134 , 5055.8629, 5045.6792, 5061.2858, 5056.5764,\n",
       "        5086.2108, 5046.7698, 5016.4931, 5061.0802, 5028.8422, 5040.9501,\n",
       "        5032.0632, 5009.287 , 5080.5664, 5034.8166, 5072.7131, 5033.5782,\n",
       "        5037.0805, 5009.3428, 5059.3525, 5102.1945, 5067.5663, 5005.9572,\n",
       "        4981.3528, 5048.2794, 5023.1624, 5050.4159, 5032.6626, 4976.2374,\n",
       "        5075.6237, 5027.9538, 5003.7922, 4998.1529, 5016.206 , 5039.2236,\n",
       "        5043.8581, 5059.6481, 5017.0287, 4971.8215, 5046.4751, 5042.5257,\n",
       "        4998.4253, 5057.2408, 5034.2411, 5040.3238, 5077.459 , 5060.9446,\n",
       "        5043.3312, 5039.3483, 5046.7101, 5041.4048, 5084.4747, 4984.9948,\n",
       "        5022.1501, 5007.3361, 5114.8856, 5023.8653, 5095.5821, 5002.146 ,\n",
       "        4999.9639, 5021.891 , 5027.6338, 4982.9197, 5053.7466, 5037.5208,\n",
       "        5058.809 , 5006.4001, 5010.5612, 4983.961 , 5003.0583, 5027.7982,\n",
       "        5015.9235, 5079.8208, 5065.4572, 5013.881 , 5034.3922, 5038.2635,\n",
       "        5038.6336, 5048.9884, 5082.8433, 4994.2242, 5032.0264, 5033.0655,\n",
       "        5039.8977, 5070.2625, 4983.9611, 5011.5645, 5017.6769, 4991.0551,\n",
       "        5043.7225, 5071.9813, 5029.8567, 5045.3297, 5073.3257, 5057.7001,\n",
       "        4998.3088, 4995.0283, 5033.8526, 5027.8241, 5068.5072, 5030.2488,\n",
       "        5026.2883, 4997.8494, 5097.6318, 5074.0075, 5042.4239, 5017.1446,\n",
       "        5077.6117, 5043.8978, 5071.3389, 5055.7941, 5027.3075, 5042.681 ,\n",
       "        5040.0565, 5049.3247, 5002.4731, 5022.6054, 5066.2991, 4988.1384,\n",
       "        5060.4441, 5034.6681, 5039.6567, 5002.9101, 5033.3264, 5075.4591,\n",
       "        5024.1478, 4992.471 , 5060.6537, 5037.9036, 5041.6133, 5032.235 ,\n",
       "        4997.5308, 5069.0273, 5002.5977, 4991.0749, 5041.8018, 5064.5607,\n",
       "        5038.1046, 5012.339 , 5041.6234, 5097.3594, 5063.1311, 4991.8627,\n",
       "        5040.5219, 5072.1395, 5037.9586, 5066.5441, 5031.027 , 5033.6748,\n",
       "        5027.6561, 5027.3992, 5017.1248, 5004.4966, 5042.2911, 5011.174 ,\n",
       "        5061.3153, 5048.1341, 5046.7469, 5054.8934, 5027.4529, 5063.7664,\n",
       "        5048.3571, 5033.4885, 5045.4711, 5034.7325, 5006.7022, 5020.2021,\n",
       "        5032.9795, 5057.6196, 5051.7922, 4991.8211, 5016.486 , 5043.0135,\n",
       "        5085.3352, 5065.5935, 5054.1223, 4996.1922, 5028.3637, 5049.652 ,\n",
       "        5008.0794, 5003.2563, 4986.    , 5047.3237, 4991.3115, 5063.7791,\n",
       "        4991.3626, 5017.284 , 4988.8606, 5012.6093, 5016.0414, 5017.699 ,\n",
       "        5043.531 , 5051.2834, 5027.843 , 5069.4705, 5081.2427, 5033.8062,\n",
       "        5085.0092, 5070.2082, 5037.3381, 5038.895 , 5040.8839, 5038.6411,\n",
       "        5042.6224, 5075.176 , 5020.9682, 5099.9321, 5101.4065, 5052.5334,\n",
       "        5062.1094, 5039.8426, 5051.7061, 5041.5986, 5101.6104, 5032.3422,\n",
       "        5065.9545, 5055.2667, 5056.3475, 5069.0765, 5061.0185, 5045.6408,\n",
       "        4998.6125, 5040.3437, 5018.3885, 5052.1722, 5048.5017, 4983.785 ,\n",
       "        5045.4615, 5025.5843, 5065.2947, 5066.6769, 5056.3433, 5092.2653,\n",
       "        4962.5283, 5035.3418, 5018.3618, 5040.5391, 5009.8998, 4998.3708,\n",
       "        5017.2192, 5065.3392, 5052.6321, 5008.7607, 5039.8701, 5042.8008,\n",
       "        5125.6058, 5001.7064, 5033.9852, 5050.3956, 5055.2071, 5027.8136,\n",
       "        5013.2471, 5083.5481, 5053.6156, 5052.3165, 4994.0425, 5050.7299,\n",
       "        4991.2642, 5062.7372, 5007.5223, 5069.1984, 5054.0868, 5064.8111,\n",
       "        5075.6291, 4985.7751, 5034.8927, 5043.1841, 5052.2633, 5001.3939,\n",
       "        5062.0207, 5042.5681, 4993.1972, 5018.7943, 5063.851 , 5081.2446,\n",
       "        5034.3368, 5037.5675, 5057.4077, 5023.8455, 5035.132 , 5025.8995,\n",
       "        5040.0032, 5022.0517, 5043.182 , 5076.0749, 5070.3808, 5049.4422,\n",
       "        5064.7474, 5034.9875, 5026.4408, 4991.0386, 5003.2874, 5045.6781,\n",
       "        4998.0915, 5044.7833, 5085.0922, 5034.0799, 5065.1478, 5038.1682,\n",
       "        5044.6868, 4967.68  , 5026.2365, 5058.6609, 5087.881 , 5024.3922,\n",
       "        5032.0949, 5002.0934, 5039.6468, 5081.3399, 5011.3368, 5010.248 ,\n",
       "        4974.9107, 5031.7856, 5049.6782, 5001.6185, 5044.9309, 5017.1233,\n",
       "        5024.4147, 5006.1833, 5027.9909, 5047.1679, 5034.0631, 5028.0564,\n",
       "        5023.8225, 5045.453 , 5050.6485, 5023.8968, 5072.4418, 4984.9307,\n",
       "        5045.7385, 5060.8835, 5021.9708, 5053.7764, 5038.5063, 5026.0681,\n",
       "        4990.3974, 5044.9215, 5086.5041, 5091.7186, 5047.0718, 5002.9919,\n",
       "        5010.5998, 5052.3036, 5022.5577, 5088.4317, 5017.0088, 5059.184 ,\n",
       "        5017.2132, 5001.8913, 5045.4871, 4987.9321, 4985.0856, 5063.6188,\n",
       "        5019.5308, 5085.299 , 5028.5773, 5053.8039, 5025.5913, 5015.7797,\n",
       "        5053.3367, 5044.9131, 5027.9067, 5049.4395, 5008.5296, 5056.3771,\n",
       "        4986.4405, 5022.7666, 4998.2939, 5019.5063, 5000.672 , 5009.4684,\n",
       "        5002.49  , 5061.5503, 4983.2292, 5015.7724, 5019.5864, 5049.4254,\n",
       "        5028.439 , 5092.2296, 5002.6053, 5041.6648, 5002.897 , 4985.8821,\n",
       "        5009.5958, 5055.177 , 5047.1255, 5051.8564, 4986.0915, 5004.212 ,\n",
       "        5040.9773, 5037.8304, 5053.6451, 5028.5345, 5025.9962, 5034.4071,\n",
       "        5080.074 , 5046.0248, 5053.026 , 5035.7657, 5082.792 , 5030.8033,\n",
       "        5010.727 , 5006.1458, 5061.2502, 5076.3733, 5048.8073, 5041.287 ,\n",
       "        4991.9207, 5075.7782, 5001.5654, 5036.4942, 5072.1699, 5040.5428,\n",
       "        5007.9492, 4989.0098, 5033.2854, 5014.0197, 5041.5056, 5054.8391,\n",
       "        5034.3095, 5068.7284, 5071.7624, 5025.0675, 5031.2429, 5093.3823,\n",
       "        5022.5835, 5019.8892, 5039.537 , 5066.1824, 5009.708 , 5027.9188,\n",
       "        5039.4482, 5083.4583, 4998.9064, 5073.5934, 5060.6177, 5074.1352,\n",
       "        5028.2631, 4964.2507, 4994.3894, 4966.4242, 5065.3985, 5014.5815,\n",
       "        5009.3626, 5020.4417, 5024.8773, 5030.3892, 5062.6606, 5000.0871,\n",
       "        4988.8294, 5001.9956, 5044.7861, 5024.7573, 5027.9297, 5094.5507,\n",
       "        5028.3296, 5072.5122, 5062.4931, 5074.388 , 5021.6583, 5005.6366,\n",
       "        5045.136 , 5052.947 , 5033.8863, 5014.3196, 5085.2802, 5025.3053,\n",
       "        5029.0695, 5022.0803, 5007.454 , 5073.6952, 5078.5263, 5080.8255,\n",
       "        5060.1363, 5025.7592, 5000.7493, 5040.018 , 5090.0638, 5012.2385,\n",
       "        5066.8438, 5035.2041, 5032.7258, 5109.3495, 5023.5539, 5065.2871,\n",
       "        5040.1808, 5052.9202, 5029.4765, 5048.4801, 5004.9009, 5046.0455,\n",
       "        5046.5407, 5025.3759, 5048.5982, 5025.1255, 5044.8147, 5007.8292,\n",
       "        5027.0024, 5079.482 , 5036.8691, 5052.8527, 4973.6443, 5070.7021,\n",
       "        5065.4978, 5063.8427, 5077.8771, 4973.6801, 5076.0032, 5023.1361,\n",
       "        4990.1005, 4978.8806, 5035.0008, 5059.193 , 4988.9462, 5028.9112,\n",
       "        4994.4628, 5082.8085, 5057.5626, 5035.32  , 5026.5323, 5083.2867,\n",
       "        5073.9739, 5029.2271, 5044.5664, 5026.8215, 5006.9964, 5055.2521,\n",
       "        5059.2869, 5033.5422, 5022.4342, 5022.4683, 5041.3849, 5026.2534,\n",
       "        5048.2646, 5052.6341, 5088.2165, 5047.2544, 5001.7129, 5037.3842,\n",
       "        5079.0772, 4998.1025, 5013.418 , 4996.7465, 5048.2441, 5004.6461,\n",
       "        5051.4966, 5044.7869, 5041.8259, 5016.362 , 5068.4983, 5062.5555,\n",
       "        5058.0224, 5038.7356, 5019.5128, 5065.21  , 5076.8993, 5027.5928,\n",
       "        5075.756 , 5053.7848, 5083.3467, 5030.5691, 5052.3696, 5042.9207,\n",
       "        4978.3347, 5049.7048, 5037.0295, 5016.1617, 5060.758 , 4987.7837,\n",
       "        5001.873 , 5081.5018, 5075.4936, 5012.7384, 5040.5962, 5067.2106,\n",
       "        5009.333 , 5022.5386, 5089.5835, 5009.5785, 5042.6811, 5008.9632,\n",
       "        5009.8607, 5079.9994, 5046.2425, 5015.2435, 5020.2114, 5057.5976,\n",
       "        5091.4863, 5007.1193, 5017.3877, 5064.213 , 5005.4586, 5032.0226,\n",
       "        4993.4614, 5057.9221, 5056.5911, 5014.641 , 5044.5419, 5073.4262,\n",
       "        5055.6214, 5053.1818, 5001.5216, 5010.558 , 5023.0858, 4977.0989,\n",
       "        5019.7615, 5001.3362, 5040.1164, 5021.843 , 5041.3437, 5049.8926,\n",
       "        5048.4564, 5066.52  , 5052.6844, 5012.1327, 5053.5181, 5033.861 ,\n",
       "        5052.6195, 4999.3699, 5009.8059, 5072.4786, 5069.679 , 5022.7098,\n",
       "        5028.407 , 5032.7674, 5061.1284, 5046.9782, 5062.1805, 5040.8947,\n",
       "        5012.1718, 5018.9903, 5041.3673, 5002.8126, 5059.0524, 5065.3243,\n",
       "        5028.64  , 5042.2718, 5055.9179, 5030.5413, 5009.4913, 5026.4372,\n",
       "        5009.4438, 5005.6582, 5007.0767, 5022.0857, 5054.12  , 5053.2212,\n",
       "        4996.8699, 5043.3853, 5087.5416, 4996.2355, 5044.3051, 5025.9435,\n",
       "        5060.7173, 5031.8297, 5041.8881, 5079.6177, 5035.9794, 5005.6704,\n",
       "        5012.6659, 5088.6062, 5031.7193, 5025.1081, 5112.4793, 5033.6103,\n",
       "        5011.1601, 5037.7206, 5065.1415, 5059.0296, 5064.3571, 4995.44  ,\n",
       "        5042.2396, 5062.1094, 5054.8549, 5026.3049, 5062.2751, 5097.8424,\n",
       "        5053.3318, 5042.5573, 5026.8436, 5052.2357, 5033.8349, 5056.9826,\n",
       "        4991.9514, 5031.3273, 5088.7648, 5027.7518, 5097.4911, 5008.0062,\n",
       "        5008.4982, 5060.5477, 5049.91  , 5004.0612, 5048.4758, 5010.7066,\n",
       "        5046.7488, 5045.2682, 4999.5378, 5052.211 , 5053.2866, 5034.7979,\n",
       "        5013.538 , 5098.2991, 5019.1116, 4981.929 ]))"
      ]
     },
     "execution_count": 101,
     "metadata": {},
     "output_type": "execute_result"
    }
   ],
   "source": [
    "data=np.array(np.random.randint(0, 10000, 10000))\n",
    "def bootstrap_CI(data, nbr_draws):\n",
    "    means = np.zeros(nbr_draws)\n",
    "    data = np.array(data)\n",
    "\n",
    "    for n in range(nbr_draws):\n",
    "        indices = np.random.randint(0, len(data), len(data))\n",
    "        data_tmp = data[indices] \n",
    "        means[n] = np.nanmean(data_tmp)\n",
    "\n",
    "    return [np.nanpercentile(means, 2.5),np.nanpercentile(means, 97.5)]\n",
    "bootstrap_CI(data,1000)"
   ]
  },
  {
   "cell_type": "markdown",
   "metadata": {},
   "source": [
    "### Question 5. A study conducted at EPFL revealed a negative Spearman’s correlation between GPA and entry-level job salary. Which of the following statements is true?\n",
    "\n",
    "- a) There could be a positive Spearman’s correlation between GPA and entry-level job salary in every single department of EPFL.\n",
    "- b) Spearman correlation between GPA and entry-level job salary in every single department has to be positive.\n",
    "- c) Across all levels, as opposed to entry-level only, higher GPA scores are associated with higher job salaries.\n",
    "- d) We can infer that finishing EPFL with a higher GPA causes you to have a lower entry-level job salary."
   ]
  },
  {
   "cell_type": "code",
   "execution_count": 25,
   "metadata": {
    "collapsed": true,
    "jupyter": {
     "outputs_hidden": true
    }
   },
   "outputs": [],
   "source": [
    "### your code and or answer here ###"
   ]
  },
  {
   "cell_type": "markdown",
   "metadata": {},
   "source": [
    "### Question 6. The average number of requests per page during a day on a large website is 200, while the median is 15. \n",
    "\n",
    "- a) You can assume that the distribution is heavy-tailed\n",
    "- b) You are dealing with a left-skewed distribution\n",
    "- c) Half of the pages get more than 200 requests\n",
    "- d) None of the above"
   ]
  },
  {
   "cell_type": "code",
   "execution_count": 26,
   "metadata": {
    "collapsed": true,
    "jupyter": {
     "outputs_hidden": true
    }
   },
   "outputs": [],
   "source": [
    "### your code and or answer here ###"
   ]
  }
 ],
 "metadata": {
  "kernelspec": {
   "display_name": "Python 3",
   "language": "python",
   "name": "python3"
  },
  "language_info": {
   "codemirror_mode": {
    "name": "ipython",
    "version": 3
   },
   "file_extension": ".py",
   "mimetype": "text/x-python",
   "name": "python",
   "nbconvert_exporter": "python",
   "pygments_lexer": "ipython3",
   "version": "3.8.5"
  },
  "varInspector": {
   "cols": {
    "lenName": 16,
    "lenType": 16,
    "lenVar": 40
   },
   "kernels_config": {
    "python": {
     "delete_cmd_postfix": "",
     "delete_cmd_prefix": "del ",
     "library": "var_list.py",
     "varRefreshCmd": "print(var_dic_list())"
    },
    "r": {
     "delete_cmd_postfix": ") ",
     "delete_cmd_prefix": "rm(",
     "library": "var_list.r",
     "varRefreshCmd": "cat(var_dic_list()) "
    }
   },
   "types_to_exclude": [
    "module",
    "function",
    "builtin_function_or_method",
    "instance",
    "_Feature"
   ],
   "window_display": false
  }
 },
 "nbformat": 4,
 "nbformat_minor": 4
}
