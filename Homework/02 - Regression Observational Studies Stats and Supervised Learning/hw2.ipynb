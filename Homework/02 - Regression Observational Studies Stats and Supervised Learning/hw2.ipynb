{
 "cells": [
  {
   "cell_type": "markdown",
   "metadata": {},
   "source": [
    "# Homework 2 (HW2)\n",
    "\n",
    "---\n",
    "By the end of this homework we expect you to be able to:\n",
    "1. Preprocess data and make it amenable to statistical analysis and machine learning models;\n",
    "2. Train and test out-of-the-box machine learning models in Python;\n",
    "3. Carry out statistical hypothesis testing;\n",
    "4. Carry out simple multivariate regression analyses;\n",
    "5. Use techniques to control for covariates;\n",
    "---\n",
    "\n",
    "## Important Dates\n",
    "\n",
    "- Homework release: Fri 6 Nov 2020\n",
    "- **Homework due**: Fri 20 Nov 2020, 23:59\n",
    "- Grade release: Mon 30 Nov 2020\n",
    "\n",
    "---\n",
    "\n",
    "##  Some rules\n",
    "\n",
    "1. You are allowed to use any built-in Python library that comes with Anaconda. If you want to use an external library, you have to justify your choice.\n",
    "2. Make sure you use the data folder provided in the repository in **read-only** mode.\n",
    "3. Be sure to provide a textual description of your thought process, the assumptions you made, the solution you implemented, and explanations for your answers. A notebook that only has code cells will not suffice.\n",
    "4. For questions containing the **/Discuss:/** prefix, answer not with code, but with a textual explanation (in markdown).\n",
    "5. Back up any hypotheses and claims with data, since this is an important aspect of the course.\n",
    "6. Please write all your comments in English, and use meaningful variable names in your code. Your repo should have a single notebook (plus the required data files) in the master branch. If there are multiple notebooks present, we will **strictly** not grade anything.\n",
    "7. Also, be sure to hand in a fully-run and evaluated notebook. We will not run your notebook for you, we will grade it as is, which means that only the results contained in your evaluated code cells will be considered, and we will not see the results in unevaluated code cells. In order to check whether everything looks as intended, you can check the rendered notebook on the GitHub website once you have pushed your solution there.\n",
    "8. Make sure to print results or dataframes that confirm you have properly addressed the task.\n",
    "9. Lastly, the grading is done in the *double blind* mode, i.e., the TAs grades an anonymized version of your notebook, so make sure that your notebook **neither has your team name nor the names of the members**.\n",
    "\n",
    "## Context\n",
    "\n",
    "Publishing papers is a big part of the lives of [Ph.D. students](http://phdcomics.com/comics/archive.php?comicid=154), [post-docs](http://phdcomics.com/comics/archive.php?comicid=1744) and [professors](http://phdcomics.com/comics/archive.php?comicid=1051). \n",
    "In Computer Science, publishing happens mostly in conferences. What follows is a slight simplification of how these conferences decide which papers to accept and which papers to reject.\n",
    " \n",
    "Every year, scholars submit papers to prestigious conferences. The papers are then assigned to reviewers (usually around 3), who are other people from the same research community (respect thy neighbor!). Each reviewer weighs in on whether they believe the papers they were assigned are good or bad, and write a review, often along with a score (e.g. +3 Strong Accept, +2 Accept, +1 Weak Accept, 0 Borderline, …,  -3 Strong Reject). Then, in the end, \"special\" reviewers called, \"Area Chairs\" analyze all the reviews that were written for the same paper and decide what gets accepted and what gets rejected. Importantly, throughout this whole dance, reviewers and authors are anonymous. When you're reviewing a paper, you do not know who wrote it. And when you receive the review, you don't know who reviewed it. Because of that, we call this a double-blind reviewing process.\n",
    "\n",
    "An interesting development that has evolved in recent years is the rise of pre-prints. In previous times, researchers often exposed their research to the world only after it had been peer-reviewed and published in a conference or a journal. But recently researchers are much keener to let their ideas out into the world as soon as possible, and they publish their research before it has been approved to any conference or journal, by posting the research on so-called pre-print servers. The most common pre-print server for Computer Science, Physics, and Maths is called [arXiv](https://arxiv.org/), for Biology, an increasingly popular one is [bioRxiv](https://www.biorxiv.org/), for Psychology [psyArXiv](https://psyarxiv.com/) (they are not very creative with the names). Notice that pre-prints and peer-review are not mutually exclusive, in fact, usually, you publish your pre-print, and then you try to publish your work in a peer-reviewed setting.\n",
    "\n",
    "Overall, publishing pre-prints has many benefits. They make science more accessible and hasten the circulation of important results in the academic community. However, a big issue brought forth with pre-prints is that they often break the anonymity in the double-blind reviewing process. For instance, in machine learning, since most papers are published as pre-prints, it is often easy to figure out if the paper you are reviewing is from a famous researcher or a big company with prominent research scientists. From critics' viewpoint, knowing the authors of the papers you are reviewing can bias your reviews. If you know that a given author is famous, you'd be more inclined to take his or her word for granted. If the author is from an institution you’ve never heard about, you are more likely to doubt his or her findings.\n",
    "\n",
    "In this homework, we will take a data-driven deep dive into the world of academic publishing. Can you use your freshly acquired data-science skills to predict which papers are going to make the cut? Are your data analysis skills sharp enough to figure out whether the aforementioned concerns about pre-print issues are justified?\n",
    "\n",
    "\n",
    "## The data\n",
    "\n",
    "The data, whose source has been *\"double-blinded\"* from you, and which has been simplified a bit for the assignment, contains information about submissions to a prestigious machine learning conference called ICLR (pronounced “I-clear”). You can find the dataframe in the git repo for the homework (`./data/dataset_final.csv`). We provide a brief description of the fields you will encounter.\n",
    "\n",
    "- `year`: year the paper has been submitted to ICLR. Notice that we provide data for three years, 2018, 2019, and 2020.\n",
    "\n",
    "\n",
    "- `paper`: title of the paper.\n",
    "\n",
    "\n",
    "- `authors`: names of the authors separated by ;.\n",
    "\n",
    "\n",
    "- `ratings`: mean rating given to the paper by the reviewers.\n",
    "\n",
    "\n",
    "- `decisions`: either Accept if the paper was accepted, or Reject otherwise.\n",
    "\n",
    "\n",
    "- `institution`: institutions for each of the authors, separated by ;.\n",
    "\n",
    "\n",
    "- `csranking`: ranking of the institutions according to csrankings. The better the institution, the better the rank. Notice that, if a paper has more than 1 author, this field will contain multiple values, separated by ;. For institutions that are not in csrankings, the value will be -1.\n",
    "\n",
    "\n",
    "- `categories`: topical categories of the paper. Each number corresponds to a different category: (1) Theory, (2) Computer Vision, (3) Natural Language Processing, (4) Adversarial ML, (5) Generative Modeling, (7) Fairness, (8) Generalization, (9) Optimization, (10) Graphs, (11) Bayesian Methods, (0) Others. A paper may belong to multiple categories, separated by ;.\n",
    "\n",
    "\n",
    "- `authors_citations`: number of citations of each one of the authors, separated by ;.\n",
    "\n",
    "\n",
    "- `authors_publications`: number of publications by each one of the authors, separated by ;.\n",
    "\n",
    "\n",
    "- `authors_hindex`: h-index of each one of the authors, separated by ;. The h-index is an author-level metric that measures both the productivity and citation impact of the publications of a scientist or scholar. It is the maximum value $h$ such that the given author has published $h$ papers that have each been cited at least $h$ times.\n",
    "\n",
    "\n",
    "- `arxiv`: whether the paper was spotted in a pre-print server around the submission period.\n",
    "\n",
    "Also, notice that in this dataframe, when some piece of data was not available, -1 will be used as the value. For example, companies aren't a part of csrankings, so for people who work in big companies, the values are -1 in the field csranking.\n"
   ]
  },
  {
   "cell_type": "markdown",
   "metadata": {},
   "source": [
    "## _Step 1:_ Predicting paper ratings\n",
    "\n",
    "The first part of this homework poses a simple question: Can you predict the ratings the paper will receive given attributes related to its authors? To answer this question, we will build an ML pipeline from scratch, preprocessing the data, training a regression model, and then evaluating it.\n",
    "\n",
    "\n",
    "---\n",
    "\n",
    "### Task 1.1\n",
    "\n",
    "Some of the fields in the data are not very amenable to serve as input to traditional machine learning algorithms. Namely, we have some fields for which there are a varying number of values (e.g. papers with 3 authors will have 3 values in the `author_citations` field, papers with 5 authors will have 5).\n",
    "\n",
    "\n",
    "Your first task is to perform some feature engineering and derive unique values for each paper which you will be able to use in your ML model. \n",
    "More specifically, you must:\n",
    "\n",
    "1. Create 3 new fields in the dataframe corresponding to the median value of the number of citations per author, the number of publications per author, and the h-index per author. So for instance, for the row `authors_publications`, you will create an additional column, e.g. `authors_publications_median`, containing the median number of publications per author in each paper.\n",
    "2. Create another field entitled `reputation` capturing how famous the last author of the paper is. Notice that the last author of the paper is usually the most senior person involved in the project. This field should equal $\\log_{10}\\Big(\\frac{\\#citations}{\\#publications} + 1\\Big)$. Notice that each author in the dataset has at least 1 publication, so you don't risk dividing by 0.\n",
    "3. Create two fields called `has_top_company` and `has_top_institution`. The field `has_top_company` equals 1 if the article contains an author in the following list of companies `[\"Facebook\", \"Google\", \"Microsoft\", \"Deepmind\"]`, and 0 otherwise. The field `has_top_institution` equals 1 if the article contains an author in the top 10 institutions according to CSRankings.\n",
    "4. **Discuss:** How did you handle -1 values in item 1.1.1? Justify your approach.\n",
    "\n",
    "---"
   ]
  },
  {
   "cell_type": "code",
   "execution_count": 1,
   "metadata": {},
   "outputs": [],
   "source": [
    "import pandas as pd\n",
    "import numpy as np \n",
    "import matplotlib.pyplot as plt\n",
    "DATA_FOLDER = 'data/'\n",
    "DF = DATA_FOLDER + \"dataset_final.csv\"\n",
    "PROPRENSITY = DATA_FOLDER + 'propensity_scores.csv.gz'\n",
    "df = pd.read_csv(DF, delimiter = \",\",header = 0)\n",
    "propensity_df=pd.read_csv(PROPRENSITY,compression='gzip',sep=',',error_bad_lines=False)"
   ]
  },
  {
   "cell_type": "code",
   "execution_count": 2,
   "metadata": {},
   "outputs": [
    {
     "data": {
      "text/html": [
       "<div>\n",
       "<style scoped>\n",
       "    .dataframe tbody tr th:only-of-type {\n",
       "        vertical-align: middle;\n",
       "    }\n",
       "\n",
       "    .dataframe tbody tr th {\n",
       "        vertical-align: top;\n",
       "    }\n",
       "\n",
       "    .dataframe thead th {\n",
       "        text-align: right;\n",
       "    }\n",
       "</style>\n",
       "<table border=\"1\" class=\"dataframe\">\n",
       "  <thead>\n",
       "    <tr style=\"text-align: right;\">\n",
       "      <th></th>\n",
       "      <th>year</th>\n",
       "      <th>paper</th>\n",
       "      <th>authors</th>\n",
       "      <th>ratings</th>\n",
       "      <th>decisions</th>\n",
       "      <th>institution</th>\n",
       "      <th>csranking</th>\n",
       "      <th>categories</th>\n",
       "      <th>authors_citations</th>\n",
       "      <th>authors_publications</th>\n",
       "      <th>authors_hindex</th>\n",
       "      <th>arxiv</th>\n",
       "    </tr>\n",
       "  </thead>\n",
       "  <tbody>\n",
       "    <tr>\n",
       "      <th>0</th>\n",
       "      <td>2018</td>\n",
       "      <td>Certifying Some Distributional Robustness with...</td>\n",
       "      <td>Aman Sinha;Hongseok Namkoong;John Duchi</td>\n",
       "      <td>9.000000</td>\n",
       "      <td>Accept</td>\n",
       "      <td>Stanford University;Stanford University;Stanfo...</td>\n",
       "      <td>4;4;4</td>\n",
       "      <td>4</td>\n",
       "      <td>655;904;12908</td>\n",
       "      <td>42;19;162</td>\n",
       "      <td>8;10;42</td>\n",
       "      <td>True</td>\n",
       "    </tr>\n",
       "    <tr>\n",
       "      <th>1</th>\n",
       "      <td>2018</td>\n",
       "      <td>Parametric Information Bottleneck to Optimize ...</td>\n",
       "      <td>Thanh T. Nguyen;Jaesik Choi</td>\n",
       "      <td>4.666667</td>\n",
       "      <td>Reject</td>\n",
       "      <td>Ulsan National Institute of Science and Techno...</td>\n",
       "      <td>468;468</td>\n",
       "      <td>8</td>\n",
       "      <td>1052;727</td>\n",
       "      <td>86;88</td>\n",
       "      <td>16;15</td>\n",
       "      <td>False</td>\n",
       "    </tr>\n",
       "  </tbody>\n",
       "</table>\n",
       "</div>"
      ],
      "text/plain": [
       "   year                                              paper  \\\n",
       "0  2018  Certifying Some Distributional Robustness with...   \n",
       "1  2018  Parametric Information Bottleneck to Optimize ...   \n",
       "\n",
       "                                   authors   ratings decisions  \\\n",
       "0  Aman Sinha;Hongseok Namkoong;John Duchi  9.000000    Accept   \n",
       "1              Thanh T. Nguyen;Jaesik Choi  4.666667    Reject   \n",
       "\n",
       "                                         institution csranking categories  \\\n",
       "0  Stanford University;Stanford University;Stanfo...     4;4;4          4   \n",
       "1  Ulsan National Institute of Science and Techno...   468;468          8   \n",
       "\n",
       "  authors_citations authors_publications authors_hindex  arxiv  \n",
       "0     655;904;12908            42;19;162        8;10;42   True  \n",
       "1          1052;727                86;88          16;15  False  "
      ]
     },
     "execution_count": 2,
     "metadata": {},
     "output_type": "execute_result"
    }
   ],
   "source": [
    "df.head(2)"
   ]
  },
  {
   "cell_type": "code",
   "execution_count": 3,
   "metadata": {},
   "outputs": [],
   "source": [
    "df['authors_citations_median'] = df['authors_citations'].apply(lambda x : np.median(np.fromstring(x,dtype=int, sep=\";\")))\n",
    "df['authors_publications_median'] = df['authors_publications'].apply(lambda x : np.median(np.fromstring(x,dtype=int, sep=\";\")))\n",
    "df['authors_hindex_median'] = df['authors_hindex'].apply(lambda x : np.median(np.fromstring(x,dtype=int, sep=\";\")))"
   ]
  },
  {
   "cell_type": "code",
   "execution_count": 5,
   "metadata": {},
   "outputs": [
    {
     "data": {
      "text/plain": [
       "'Facebook|Google|Microsoft|Deepmind'"
      ]
     },
     "execution_count": 5,
     "metadata": {},
     "output_type": "execute_result"
    }
   ],
   "source": [
    "TOP_COMPANY = '|'.join([\"Facebook\", \"Google\", \"Microsoft\", \"Deepmind\"])\n",
    "TOP_COMPANY"
   ]
  },
  {
   "cell_type": "code",
   "execution_count": 251,
   "metadata": {},
   "outputs": [],
   "source": [
    "df['reputation'] = np.log10(( df['authors_citations'].apply(lambda x : (np.fromstring(x,dtype=int, sep=\";\")).take(-1))\n",
    "                          / df['authors_publications'].apply(lambda x : (np.fromstring(x,dtype=int, sep=\";\")).take(-1))\n",
    "                          )+1)"
   ]
  },
  {
   "cell_type": "code",
   "execution_count": 252,
   "metadata": {},
   "outputs": [],
   "source": [
    "## for task 1.4\n",
    "df['crazy'] = - df['ratings'] \n",
    "df.loc[df['ratings'] < 4.96,'crazy'] = 9 - df['ratings']"
   ]
  },
  {
   "cell_type": "code",
   "execution_count": 313,
   "metadata": {},
   "outputs": [],
   "source": [
    "df['has_top_company'] = df['institution'].apply(lambda x : 1 if (x.__contains__(\"Facebook\")\n",
    "                                                |x.__contains__(\"Google\") \n",
    "                                                |x.__contains__(\"Microsoft\")\n",
    "                                                |x.__contains__(\"Deepmind\"))\n",
    "                                                 else 0)\n",
    "\n",
    "\n",
    "df['csranking'] = df['csranking'].str.split(';').apply(lambda x: list(map(int,x)))\n",
    "\n",
    "def is_inbetween(x, min_ = 0, max_ = 10):\n",
    "    'Return true if values is inbetween 0 and 10, otherwise false'\n",
    "    \n",
    "    if (x >= min_) & (x <= 10):\n",
    "        return True\n",
    "    else:\n",
    "        return False\n",
    "\n",
    "df['has_top_institution'] = df['csranking'].apply(lambda x: any([is_inbetween(i) for i in x])).astype(int)\n"
   ]
  },
  {
   "cell_type": "code",
   "execution_count": 314,
   "metadata": {},
   "outputs": [
    {
     "data": {
      "text/html": [
       "<div>\n",
       "<style scoped>\n",
       "    .dataframe tbody tr th:only-of-type {\n",
       "        vertical-align: middle;\n",
       "    }\n",
       "\n",
       "    .dataframe tbody tr th {\n",
       "        vertical-align: top;\n",
       "    }\n",
       "\n",
       "    .dataframe thead th {\n",
       "        text-align: right;\n",
       "    }\n",
       "</style>\n",
       "<table border=\"1\" class=\"dataframe\">\n",
       "  <thead>\n",
       "    <tr style=\"text-align: right;\">\n",
       "      <th></th>\n",
       "      <th>year</th>\n",
       "      <th>paper</th>\n",
       "      <th>authors</th>\n",
       "      <th>ratings</th>\n",
       "      <th>decisions</th>\n",
       "      <th>institution</th>\n",
       "      <th>csranking</th>\n",
       "      <th>categories</th>\n",
       "      <th>authors_citations</th>\n",
       "      <th>authors_publications</th>\n",
       "      <th>authors_hindex</th>\n",
       "      <th>arxiv</th>\n",
       "      <th>authors_citations_median</th>\n",
       "      <th>authors_publications_median</th>\n",
       "      <th>authors_hindex_median</th>\n",
       "      <th>reputation</th>\n",
       "      <th>crazy</th>\n",
       "      <th>has_top_company</th>\n",
       "      <th>has_top_institution</th>\n",
       "    </tr>\n",
       "  </thead>\n",
       "  <tbody>\n",
       "    <tr>\n",
       "      <th>0</th>\n",
       "      <td>2018</td>\n",
       "      <td>Certifying Some Distributional Robustness with...</td>\n",
       "      <td>Aman Sinha;Hongseok Namkoong;John Duchi</td>\n",
       "      <td>9.000000</td>\n",
       "      <td>Accept</td>\n",
       "      <td>Stanford University;Stanford University;Stanfo...</td>\n",
       "      <td>[4, 4, 4]</td>\n",
       "      <td>4</td>\n",
       "      <td>655;904;12908</td>\n",
       "      <td>42;19;162</td>\n",
       "      <td>8;10;42</td>\n",
       "      <td>True</td>\n",
       "      <td>904.0</td>\n",
       "      <td>42.0</td>\n",
       "      <td>10.0</td>\n",
       "      <td>1.906761</td>\n",
       "      <td>-9.000000</td>\n",
       "      <td>0</td>\n",
       "      <td>1</td>\n",
       "    </tr>\n",
       "    <tr>\n",
       "      <th>2</th>\n",
       "      <td>2018</td>\n",
       "      <td>Towards Neural Phrase-based Machine Translation</td>\n",
       "      <td>Po-Sen Huang;Chong Wang;Sitao Huang;Dengyong Z...</td>\n",
       "      <td>6.666667</td>\n",
       "      <td>Accept</td>\n",
       "      <td>Microsoft;Google;University of Illinois, Urban...</td>\n",
       "      <td>[-1, -1, 3, -1, -1]</td>\n",
       "      <td>3;2</td>\n",
       "      <td>1718;17889;161;8800;20766</td>\n",
       "      <td>59;1045;17;78;409</td>\n",
       "      <td>17;54;7;33;63</td>\n",
       "      <td>True</td>\n",
       "      <td>8800.0</td>\n",
       "      <td>78.0</td>\n",
       "      <td>33.0</td>\n",
       "      <td>1.714100</td>\n",
       "      <td>-6.666667</td>\n",
       "      <td>1</td>\n",
       "      <td>1</td>\n",
       "    </tr>\n",
       "    <tr>\n",
       "      <th>5</th>\n",
       "      <td>2018</td>\n",
       "      <td>Countering Adversarial Images using Input Tran...</td>\n",
       "      <td>Chuan Guo;Mayank Rana;Moustapha Cisse;Laurens ...</td>\n",
       "      <td>6.333333</td>\n",
       "      <td>Accept</td>\n",
       "      <td>Cornell University;Facebook;Facebook;Facebook</td>\n",
       "      <td>[7, -1, -1, -1]</td>\n",
       "      <td>4</td>\n",
       "      <td>1313;392;2917;17805</td>\n",
       "      <td>23;5;48;93</td>\n",
       "      <td>8;2;19;32</td>\n",
       "      <td>True</td>\n",
       "      <td>2115.0</td>\n",
       "      <td>35.5</td>\n",
       "      <td>13.5</td>\n",
       "      <td>2.284322</td>\n",
       "      <td>-6.333333</td>\n",
       "      <td>1</td>\n",
       "      <td>1</td>\n",
       "    </tr>\n",
       "    <tr>\n",
       "      <th>8</th>\n",
       "      <td>2018</td>\n",
       "      <td>Minimax Curriculum Learning: Machine Teaching ...</td>\n",
       "      <td>Tianyi Zhou;Jeff Bilmes</td>\n",
       "      <td>5.666667</td>\n",
       "      <td>Accept</td>\n",
       "      <td>University of Washington;University of Washing...</td>\n",
       "      <td>[6, 6]</td>\n",
       "      <td>0</td>\n",
       "      <td>1444;13443</td>\n",
       "      <td>80;348</td>\n",
       "      <td>14;53</td>\n",
       "      <td>False</td>\n",
       "      <td>7443.5</td>\n",
       "      <td>214.0</td>\n",
       "      <td>33.5</td>\n",
       "      <td>1.598017</td>\n",
       "      <td>-5.666667</td>\n",
       "      <td>0</td>\n",
       "      <td>1</td>\n",
       "    </tr>\n",
       "    <tr>\n",
       "      <th>13</th>\n",
       "      <td>2018</td>\n",
       "      <td>Go for a Walk and Arrive at the Answer: Reason...</td>\n",
       "      <td>Rajarshi Das;Shehzaad Dhuliawala;Manzil Zaheer...</td>\n",
       "      <td>6.000000</td>\n",
       "      <td>Accept</td>\n",
       "      <td>University of Massachusetts, Amherst;Universit...</td>\n",
       "      <td>[30, 30, 1, 30, 21, 30, 1, 30]</td>\n",
       "      <td>10</td>\n",
       "      <td>4903;183;1602;1764;335;1537;68208;45557</td>\n",
       "      <td>164;14;63;25;15;75;404;434</td>\n",
       "      <td>33;3;17;10;5;21;99;96</td>\n",
       "      <td>False</td>\n",
       "      <td>1683.0</td>\n",
       "      <td>69.0</td>\n",
       "      <td>19.0</td>\n",
       "      <td>2.025183</td>\n",
       "      <td>-6.000000</td>\n",
       "      <td>0</td>\n",
       "      <td>1</td>\n",
       "    </tr>\n",
       "    <tr>\n",
       "      <th>16</th>\n",
       "      <td>2018</td>\n",
       "      <td>Simulating Action Dynamics with Neural Process...</td>\n",
       "      <td>Antoine Bosselut;Omer Levy;Ari Holtzman;Corin ...</td>\n",
       "      <td>7.666667</td>\n",
       "      <td>Accept</td>\n",
       "      <td>University of Washington;University of Washing...</td>\n",
       "      <td>[6, 6, 6, 6, 6, 6]</td>\n",
       "      <td>0</td>\n",
       "      <td>397;7449;600;139;39994;7812</td>\n",
       "      <td>20;58;18;3;374;139</td>\n",
       "      <td>8;30;10;2;97;43</td>\n",
       "      <td>False</td>\n",
       "      <td>4024.5</td>\n",
       "      <td>39.0</td>\n",
       "      <td>20.0</td>\n",
       "      <td>1.757407</td>\n",
       "      <td>-7.666667</td>\n",
       "      <td>0</td>\n",
       "      <td>1</td>\n",
       "    </tr>\n",
       "    <tr>\n",
       "      <th>18</th>\n",
       "      <td>2018</td>\n",
       "      <td>QANet: Combining Local Convolution with Global...</td>\n",
       "      <td>Adams Wei Yu;David Dohan;Minh-Thang Luong;Rui ...</td>\n",
       "      <td>6.333333</td>\n",
       "      <td>Accept</td>\n",
       "      <td>Carnegie Mellon University;Google;Google;Googl...</td>\n",
       "      <td>[1, -1, -1, -1, -1, -1, -1]</td>\n",
       "      <td>3</td>\n",
       "      <td>815;1093;3101;8364;33496;8079;48714</td>\n",
       "      <td>28;11;33;608;46;126;193</td>\n",
       "      <td>13;4;20;39;12;31;81</td>\n",
       "      <td>False</td>\n",
       "      <td>8079.0</td>\n",
       "      <td>46.0</td>\n",
       "      <td>20.0</td>\n",
       "      <td>2.403814</td>\n",
       "      <td>-6.333333</td>\n",
       "      <td>1</td>\n",
       "      <td>1</td>\n",
       "    </tr>\n",
       "    <tr>\n",
       "      <th>22</th>\n",
       "      <td>2018</td>\n",
       "      <td>Zero-Shot Visual Imitation</td>\n",
       "      <td>Deepak Pathak;Parsa Mahmoudieh;Guanghao Luo;Pu...</td>\n",
       "      <td>7.666667</td>\n",
       "      <td>Accept</td>\n",
       "      <td>University of California Berkeley;University o...</td>\n",
       "      <td>[5, 5, 5, 5, 5, 5, 5, 5, 5, 5]</td>\n",
       "      <td>6</td>\n",
       "      <td>4211;191;111;3015;369;124;27413;70210;37176;90665</td>\n",
       "      <td>40;8;1;52;34;2;26;429;193;559</td>\n",
       "      <td>14;4;1;16;8;2;14;115;77;112</td>\n",
       "      <td>False</td>\n",
       "      <td>3613.0</td>\n",
       "      <td>37.0</td>\n",
       "      <td>14.0</td>\n",
       "      <td>2.212697</td>\n",
       "      <td>-7.666667</td>\n",
       "      <td>0</td>\n",
       "      <td>1</td>\n",
       "    </tr>\n",
       "    <tr>\n",
       "      <th>26</th>\n",
       "      <td>2018</td>\n",
       "      <td>Spatially Transformed Adversarial Examples</td>\n",
       "      <td>Chaowei Xiao;Jun-Yan Zhu;Bo Li;Warren He;Mingy...</td>\n",
       "      <td>7.666667</td>\n",
       "      <td>Accept</td>\n",
       "      <td>University of Michigan;NAVER;University of Cal...</td>\n",
       "      <td>[8, -1, 5, 5, 8, 5]</td>\n",
       "      <td>4</td>\n",
       "      <td>1318;15358;2365;1204;12506;43319</td>\n",
       "      <td>30;50;80;22;264;396</td>\n",
       "      <td>12;27;23;14;38;100</td>\n",
       "      <td>False</td>\n",
       "      <td>7435.5</td>\n",
       "      <td>65.0</td>\n",
       "      <td>25.0</td>\n",
       "      <td>2.042935</td>\n",
       "      <td>-7.666667</td>\n",
       "      <td>0</td>\n",
       "      <td>1</td>\n",
       "    </tr>\n",
       "  </tbody>\n",
       "</table>\n",
       "</div>"
      ],
      "text/plain": [
       "    year                                              paper  \\\n",
       "0   2018  Certifying Some Distributional Robustness with...   \n",
       "2   2018    Towards Neural Phrase-based Machine Translation   \n",
       "5   2018  Countering Adversarial Images using Input Tran...   \n",
       "8   2018  Minimax Curriculum Learning: Machine Teaching ...   \n",
       "13  2018  Go for a Walk and Arrive at the Answer: Reason...   \n",
       "16  2018  Simulating Action Dynamics with Neural Process...   \n",
       "18  2018  QANet: Combining Local Convolution with Global...   \n",
       "22  2018                         Zero-Shot Visual Imitation   \n",
       "26  2018         Spatially Transformed Adversarial Examples   \n",
       "\n",
       "                                              authors   ratings decisions  \\\n",
       "0             Aman Sinha;Hongseok Namkoong;John Duchi  9.000000    Accept   \n",
       "2   Po-Sen Huang;Chong Wang;Sitao Huang;Dengyong Z...  6.666667    Accept   \n",
       "5   Chuan Guo;Mayank Rana;Moustapha Cisse;Laurens ...  6.333333    Accept   \n",
       "8                             Tianyi Zhou;Jeff Bilmes  5.666667    Accept   \n",
       "13  Rajarshi Das;Shehzaad Dhuliawala;Manzil Zaheer...  6.000000    Accept   \n",
       "16  Antoine Bosselut;Omer Levy;Ari Holtzman;Corin ...  7.666667    Accept   \n",
       "18  Adams Wei Yu;David Dohan;Minh-Thang Luong;Rui ...  6.333333    Accept   \n",
       "22  Deepak Pathak;Parsa Mahmoudieh;Guanghao Luo;Pu...  7.666667    Accept   \n",
       "26  Chaowei Xiao;Jun-Yan Zhu;Bo Li;Warren He;Mingy...  7.666667    Accept   \n",
       "\n",
       "                                          institution  \\\n",
       "0   Stanford University;Stanford University;Stanfo...   \n",
       "2   Microsoft;Google;University of Illinois, Urban...   \n",
       "5       Cornell University;Facebook;Facebook;Facebook   \n",
       "8   University of Washington;University of Washing...   \n",
       "13  University of Massachusetts, Amherst;Universit...   \n",
       "16  University of Washington;University of Washing...   \n",
       "18  Carnegie Mellon University;Google;Google;Googl...   \n",
       "22  University of California Berkeley;University o...   \n",
       "26  University of Michigan;NAVER;University of Cal...   \n",
       "\n",
       "                         csranking categories  \\\n",
       "0                        [4, 4, 4]          4   \n",
       "2              [-1, -1, 3, -1, -1]        3;2   \n",
       "5                  [7, -1, -1, -1]          4   \n",
       "8                           [6, 6]          0   \n",
       "13  [30, 30, 1, 30, 21, 30, 1, 30]         10   \n",
       "16              [6, 6, 6, 6, 6, 6]          0   \n",
       "18     [1, -1, -1, -1, -1, -1, -1]          3   \n",
       "22  [5, 5, 5, 5, 5, 5, 5, 5, 5, 5]          6   \n",
       "26             [8, -1, 5, 5, 8, 5]          4   \n",
       "\n",
       "                                    authors_citations  \\\n",
       "0                                       655;904;12908   \n",
       "2                           1718;17889;161;8800;20766   \n",
       "5                                 1313;392;2917;17805   \n",
       "8                                          1444;13443   \n",
       "13            4903;183;1602;1764;335;1537;68208;45557   \n",
       "16                        397;7449;600;139;39994;7812   \n",
       "18                815;1093;3101;8364;33496;8079;48714   \n",
       "22  4211;191;111;3015;369;124;27413;70210;37176;90665   \n",
       "26                   1318;15358;2365;1204;12506;43319   \n",
       "\n",
       "             authors_publications               authors_hindex  arxiv  \\\n",
       "0                       42;19;162                      8;10;42   True   \n",
       "2               59;1045;17;78;409                17;54;7;33;63   True   \n",
       "5                      23;5;48;93                    8;2;19;32   True   \n",
       "8                          80;348                        14;53  False   \n",
       "13     164;14;63;25;15;75;404;434        33;3;17;10;5;21;99;96  False   \n",
       "16             20;58;18;3;374;139              8;30;10;2;97;43  False   \n",
       "18        28;11;33;608;46;126;193          13;4;20;39;12;31;81  False   \n",
       "22  40;8;1;52;34;2;26;429;193;559  14;4;1;16;8;2;14;115;77;112  False   \n",
       "26            30;50;80;22;264;396           12;27;23;14;38;100  False   \n",
       "\n",
       "    authors_citations_median  authors_publications_median  \\\n",
       "0                      904.0                         42.0   \n",
       "2                     8800.0                         78.0   \n",
       "5                     2115.0                         35.5   \n",
       "8                     7443.5                        214.0   \n",
       "13                    1683.0                         69.0   \n",
       "16                    4024.5                         39.0   \n",
       "18                    8079.0                         46.0   \n",
       "22                    3613.0                         37.0   \n",
       "26                    7435.5                         65.0   \n",
       "\n",
       "    authors_hindex_median  reputation     crazy  has_top_company  \\\n",
       "0                    10.0    1.906761 -9.000000                0   \n",
       "2                    33.0    1.714100 -6.666667                1   \n",
       "5                    13.5    2.284322 -6.333333                1   \n",
       "8                    33.5    1.598017 -5.666667                0   \n",
       "13                   19.0    2.025183 -6.000000                0   \n",
       "16                   20.0    1.757407 -7.666667                0   \n",
       "18                   20.0    2.403814 -6.333333                1   \n",
       "22                   14.0    2.212697 -7.666667                0   \n",
       "26                   25.0    2.042935 -7.666667                0   \n",
       "\n",
       "    has_top_institution  \n",
       "0                     1  \n",
       "2                     1  \n",
       "5                     1  \n",
       "8                     1  \n",
       "13                    1  \n",
       "16                    1  \n",
       "18                    1  \n",
       "22                    1  \n",
       "26                    1  "
      ]
     },
     "execution_count": 314,
     "metadata": {},
     "output_type": "execute_result"
    }
   ],
   "source": [
    "df[df['has_top_institution']==1].head(9)"
   ]
  },
  {
   "cell_type": "markdown",
   "metadata": {},
   "source": [
    "### Task 1.2\n",
    "\n",
    "Now that you have cleaned up your data, your next task is to divide your data into a training set and a testing set. You should do this in two ways:\n",
    "\n",
    "1. First, do it randomly. Split the data into a training set (70%) and a testing set (30%). We refer to these as \"random split\" in the subsequent tasks.\n",
    "2. Second, do it longitudinally. Use the data from 2018 and 2019 for the training set, and the data from 2020 as the testing set. We refer to these as \"longitudinal split\" in the subsequent tasks.\n"
   ]
  },
  {
   "cell_type": "code",
   "execution_count": 255,
   "metadata": {},
   "outputs": [],
   "source": [
    "import numpy as np\n",
    "from sklearn.model_selection import train_test_split\n"
   ]
  },
  {
   "cell_type": "code",
   "execution_count": 256,
   "metadata": {},
   "outputs": [
    {
     "data": {
      "text/html": [
       "<div>\n",
       "<style scoped>\n",
       "    .dataframe tbody tr th:only-of-type {\n",
       "        vertical-align: middle;\n",
       "    }\n",
       "\n",
       "    .dataframe tbody tr th {\n",
       "        vertical-align: top;\n",
       "    }\n",
       "\n",
       "    .dataframe thead th {\n",
       "        text-align: right;\n",
       "    }\n",
       "</style>\n",
       "<table border=\"1\" class=\"dataframe\">\n",
       "  <thead>\n",
       "    <tr style=\"text-align: right;\">\n",
       "      <th></th>\n",
       "      <th>year</th>\n",
       "      <th>paper</th>\n",
       "      <th>authors</th>\n",
       "      <th>ratings</th>\n",
       "      <th>decisions</th>\n",
       "      <th>institution</th>\n",
       "      <th>csranking</th>\n",
       "      <th>categories</th>\n",
       "      <th>authors_citations</th>\n",
       "      <th>authors_publications</th>\n",
       "      <th>authors_hindex</th>\n",
       "      <th>arxiv</th>\n",
       "      <th>authors_citations_median</th>\n",
       "      <th>authors_publications_median</th>\n",
       "      <th>authors_hindex_median</th>\n",
       "      <th>reputation</th>\n",
       "      <th>crazy</th>\n",
       "      <th>has_top_company</th>\n",
       "      <th>has_top_institution</th>\n",
       "    </tr>\n",
       "  </thead>\n",
       "  <tbody>\n",
       "    <tr>\n",
       "      <th>3472</th>\n",
       "      <td>2020</td>\n",
       "      <td>CAT: Compression-Aware Training for bandwidth ...</td>\n",
       "      <td>Chaim Baskin;Brian Chmiel;Evgenii Zheltonozhsk...</td>\n",
       "      <td>6.000000</td>\n",
       "      <td>Reject</td>\n",
       "      <td>Technion;Intel;Technion;Intel;Technion;Technion</td>\n",
       "      <td>26;-1;26;-1;26;26</td>\n",
       "      <td>0</td>\n",
       "      <td>92;9;78;532;136;1693</td>\n",
       "      <td>14;8;10;31;16;138</td>\n",
       "      <td>5;2;4;11;6;23</td>\n",
       "      <td>True</td>\n",
       "      <td>114.0</td>\n",
       "      <td>15.0</td>\n",
       "      <td>5.5</td>\n",
       "      <td>1.122809</td>\n",
       "      <td>-6.000000</td>\n",
       "      <td>0</td>\n",
       "      <td>1</td>\n",
       "    </tr>\n",
       "    <tr>\n",
       "      <th>1240</th>\n",
       "      <td>2019</td>\n",
       "      <td>Learning to Remember More with Less Memorization</td>\n",
       "      <td>Hung Le;Truyen Tran;Svetha Venkatesh</td>\n",
       "      <td>7.333333</td>\n",
       "      <td>Accept</td>\n",
       "      <td>Deakin University;Deakin University;Deakin Uni...</td>\n",
       "      <td>478;478;478</td>\n",
       "      <td>1</td>\n",
       "      <td>730;1857;8523</td>\n",
       "      <td>49;133;561</td>\n",
       "      <td>10;24;43</td>\n",
       "      <td>False</td>\n",
       "      <td>1857.0</td>\n",
       "      <td>133.0</td>\n",
       "      <td>24.0</td>\n",
       "      <td>1.209314</td>\n",
       "      <td>-7.333333</td>\n",
       "      <td>0</td>\n",
       "      <td>1</td>\n",
       "    </tr>\n",
       "    <tr>\n",
       "      <th>1024</th>\n",
       "      <td>2019</td>\n",
       "      <td>Deterministic PAC-Bayesian generalization boun...</td>\n",
       "      <td>Vaishnavh Nagarajan;Zico Kolter</td>\n",
       "      <td>6.750000</td>\n",
       "      <td>Accept</td>\n",
       "      <td>Carnegie Mellon University;Carnegie Mellon Uni...</td>\n",
       "      <td>1;1</td>\n",
       "      <td>11;1;8</td>\n",
       "      <td>303;7460</td>\n",
       "      <td>22;104</td>\n",
       "      <td>8;34</td>\n",
       "      <td>False</td>\n",
       "      <td>3881.5</td>\n",
       "      <td>63.0</td>\n",
       "      <td>21.0</td>\n",
       "      <td>1.861718</td>\n",
       "      <td>-6.750000</td>\n",
       "      <td>0</td>\n",
       "      <td>1</td>\n",
       "    </tr>\n",
       "    <tr>\n",
       "      <th>1257</th>\n",
       "      <td>2019</td>\n",
       "      <td>SNAS: stochastic neural architecture search</td>\n",
       "      <td>Sirui Xie;Hehui Zheng;Chunxiao Liu;Liang Lin</td>\n",
       "      <td>6.666667</td>\n",
       "      <td>Accept</td>\n",
       "      <td>SenseTime Group Limited;SenseTime Group Limite...</td>\n",
       "      <td>-1;-1;-1;478</td>\n",
       "      <td>1</td>\n",
       "      <td>217;354;462;8625</td>\n",
       "      <td>7;9;48;294</td>\n",
       "      <td>2;4;10;49</td>\n",
       "      <td>False</td>\n",
       "      <td>408.0</td>\n",
       "      <td>28.5</td>\n",
       "      <td>7.0</td>\n",
       "      <td>1.481969</td>\n",
       "      <td>-6.666667</td>\n",
       "      <td>0</td>\n",
       "      <td>1</td>\n",
       "    </tr>\n",
       "    <tr>\n",
       "      <th>2581</th>\n",
       "      <td>2020</td>\n",
       "      <td>SpikeGrad: An ANN-equivalent Computation Model...</td>\n",
       "      <td>Johannes C. Thiele;Olivier Bichler;Antoine Dupret</td>\n",
       "      <td>6.000000</td>\n",
       "      <td>Accept</td>\n",
       "      <td>CEA;CEA;CEA</td>\n",
       "      <td>233;233;233</td>\n",
       "      <td>0</td>\n",
       "      <td>39;2057;560</td>\n",
       "      <td>8;69;138</td>\n",
       "      <td>3;22;12</td>\n",
       "      <td>True</td>\n",
       "      <td>560.0</td>\n",
       "      <td>69.0</td>\n",
       "      <td>12.0</td>\n",
       "      <td>0.703976</td>\n",
       "      <td>-6.000000</td>\n",
       "      <td>0</td>\n",
       "      <td>1</td>\n",
       "    </tr>\n",
       "    <tr>\n",
       "      <th>...</th>\n",
       "      <td>...</td>\n",
       "      <td>...</td>\n",
       "      <td>...</td>\n",
       "      <td>...</td>\n",
       "      <td>...</td>\n",
       "      <td>...</td>\n",
       "      <td>...</td>\n",
       "      <td>...</td>\n",
       "      <td>...</td>\n",
       "      <td>...</td>\n",
       "      <td>...</td>\n",
       "      <td>...</td>\n",
       "      <td>...</td>\n",
       "      <td>...</td>\n",
       "      <td>...</td>\n",
       "      <td>...</td>\n",
       "      <td>...</td>\n",
       "      <td>...</td>\n",
       "      <td>...</td>\n",
       "    </tr>\n",
       "    <tr>\n",
       "      <th>3664</th>\n",
       "      <td>2020</td>\n",
       "      <td>A Boolean Task Algebra for Reinforcement Learning</td>\n",
       "      <td>Geraud Nangue Tasse;Steven James;Benjamin Rosman</td>\n",
       "      <td>4.666667</td>\n",
       "      <td>Reject</td>\n",
       "      <td>University of the Witwatersrand;University of ...</td>\n",
       "      <td>481;481;233</td>\n",
       "      <td>1</td>\n",
       "      <td>1;206;454</td>\n",
       "      <td>1;62;78</td>\n",
       "      <td>1;6;12</td>\n",
       "      <td>False</td>\n",
       "      <td>206.0</td>\n",
       "      <td>62.0</td>\n",
       "      <td>6.0</td>\n",
       "      <td>0.833817</td>\n",
       "      <td>4.333333</td>\n",
       "      <td>0</td>\n",
       "      <td>1</td>\n",
       "    </tr>\n",
       "    <tr>\n",
       "      <th>593</th>\n",
       "      <td>2018</td>\n",
       "      <td>Learning Independent Features with Adversarial...</td>\n",
       "      <td>Philemon Brakel;Yoshua Bengio</td>\n",
       "      <td>4.666667</td>\n",
       "      <td>Reject</td>\n",
       "      <td>Google;University of Montreal</td>\n",
       "      <td>-1;124</td>\n",
       "      <td>4</td>\n",
       "      <td>1721;201719</td>\n",
       "      <td>21;807</td>\n",
       "      <td>16;147</td>\n",
       "      <td>True</td>\n",
       "      <td>101720.0</td>\n",
       "      <td>414.0</td>\n",
       "      <td>81.5</td>\n",
       "      <td>2.399607</td>\n",
       "      <td>4.333333</td>\n",
       "      <td>1</td>\n",
       "      <td>1</td>\n",
       "    </tr>\n",
       "    <tr>\n",
       "      <th>4081</th>\n",
       "      <td>2020</td>\n",
       "      <td>Zero-shot task adaptation by homoiconic meta-m...</td>\n",
       "      <td>Andrew K. Lampinen;James L. McClelland</td>\n",
       "      <td>3.000000</td>\n",
       "      <td>Reject</td>\n",
       "      <td>Stanford University;Stanford University</td>\n",
       "      <td>4;4</td>\n",
       "      <td>6</td>\n",
       "      <td>91;43165</td>\n",
       "      <td>22;424</td>\n",
       "      <td>5;82</td>\n",
       "      <td>True</td>\n",
       "      <td>21628.0</td>\n",
       "      <td>223.0</td>\n",
       "      <td>43.5</td>\n",
       "      <td>2.012011</td>\n",
       "      <td>6.000000</td>\n",
       "      <td>0</td>\n",
       "      <td>1</td>\n",
       "    </tr>\n",
       "    <tr>\n",
       "      <th>3481</th>\n",
       "      <td>2020</td>\n",
       "      <td>Improved Training Techniques for Online Neural...</td>\n",
       "      <td>Maha Elbayad;Laurent Besacier;Jakob Verbeek</td>\n",
       "      <td>4.000000</td>\n",
       "      <td>Reject</td>\n",
       "      <td>INRIA;University of Grenoble-Alpes;INRIA</td>\n",
       "      <td>-1;481;-1</td>\n",
       "      <td>3</td>\n",
       "      <td>60;143;8789</td>\n",
       "      <td>6;38;103</td>\n",
       "      <td>3;6;38</td>\n",
       "      <td>False</td>\n",
       "      <td>143.0</td>\n",
       "      <td>38.0</td>\n",
       "      <td>6.0</td>\n",
       "      <td>1.936162</td>\n",
       "      <td>5.000000</td>\n",
       "      <td>0</td>\n",
       "      <td>1</td>\n",
       "    </tr>\n",
       "    <tr>\n",
       "      <th>579</th>\n",
       "      <td>2018</td>\n",
       "      <td>Learning Gaussian Policies from Smoothed Actio...</td>\n",
       "      <td>Ofir Nachum;Mohammad Norouzi;George Tucker;Dal...</td>\n",
       "      <td>5.666667</td>\n",
       "      <td>Reject</td>\n",
       "      <td>Google;Google;Google;Google</td>\n",
       "      <td>-1;-1;-1;-1</td>\n",
       "      <td>0</td>\n",
       "      <td>1038;7796;2809;6071</td>\n",
       "      <td>41;125;75;247</td>\n",
       "      <td>15;30;21;41</td>\n",
       "      <td>False</td>\n",
       "      <td>4440.0</td>\n",
       "      <td>100.0</td>\n",
       "      <td>25.5</td>\n",
       "      <td>1.407883</td>\n",
       "      <td>-5.666667</td>\n",
       "      <td>1</td>\n",
       "      <td>0</td>\n",
       "    </tr>\n",
       "  </tbody>\n",
       "</table>\n",
       "<p>2979 rows × 19 columns</p>\n",
       "</div>"
      ],
      "text/plain": [
       "      year                                              paper  \\\n",
       "3472  2020  CAT: Compression-Aware Training for bandwidth ...   \n",
       "1240  2019   Learning to Remember More with Less Memorization   \n",
       "1024  2019  Deterministic PAC-Bayesian generalization boun...   \n",
       "1257  2019        SNAS: stochastic neural architecture search   \n",
       "2581  2020  SpikeGrad: An ANN-equivalent Computation Model...   \n",
       "...    ...                                                ...   \n",
       "3664  2020  A Boolean Task Algebra for Reinforcement Learning   \n",
       "593   2018  Learning Independent Features with Adversarial...   \n",
       "4081  2020  Zero-shot task adaptation by homoiconic meta-m...   \n",
       "3481  2020  Improved Training Techniques for Online Neural...   \n",
       "579   2018  Learning Gaussian Policies from Smoothed Actio...   \n",
       "\n",
       "                                                authors   ratings decisions  \\\n",
       "3472  Chaim Baskin;Brian Chmiel;Evgenii Zheltonozhsk...  6.000000    Reject   \n",
       "1240               Hung Le;Truyen Tran;Svetha Venkatesh  7.333333    Accept   \n",
       "1024                    Vaishnavh Nagarajan;Zico Kolter  6.750000    Accept   \n",
       "1257       Sirui Xie;Hehui Zheng;Chunxiao Liu;Liang Lin  6.666667    Accept   \n",
       "2581  Johannes C. Thiele;Olivier Bichler;Antoine Dupret  6.000000    Accept   \n",
       "...                                                 ...       ...       ...   \n",
       "3664   Geraud Nangue Tasse;Steven James;Benjamin Rosman  4.666667    Reject   \n",
       "593                       Philemon Brakel;Yoshua Bengio  4.666667    Reject   \n",
       "4081             Andrew K. Lampinen;James L. McClelland  3.000000    Reject   \n",
       "3481        Maha Elbayad;Laurent Besacier;Jakob Verbeek  4.000000    Reject   \n",
       "579   Ofir Nachum;Mohammad Norouzi;George Tucker;Dal...  5.666667    Reject   \n",
       "\n",
       "                                            institution          csranking  \\\n",
       "3472    Technion;Intel;Technion;Intel;Technion;Technion  26;-1;26;-1;26;26   \n",
       "1240  Deakin University;Deakin University;Deakin Uni...        478;478;478   \n",
       "1024  Carnegie Mellon University;Carnegie Mellon Uni...                1;1   \n",
       "1257  SenseTime Group Limited;SenseTime Group Limite...       -1;-1;-1;478   \n",
       "2581                                        CEA;CEA;CEA        233;233;233   \n",
       "...                                                 ...                ...   \n",
       "3664  University of the Witwatersrand;University of ...        481;481;233   \n",
       "593                       Google;University of Montreal             -1;124   \n",
       "4081            Stanford University;Stanford University                4;4   \n",
       "3481           INRIA;University of Grenoble-Alpes;INRIA          -1;481;-1   \n",
       "579                         Google;Google;Google;Google        -1;-1;-1;-1   \n",
       "\n",
       "     categories     authors_citations authors_publications authors_hindex  \\\n",
       "3472          0  92;9;78;532;136;1693    14;8;10;31;16;138  5;2;4;11;6;23   \n",
       "1240          1         730;1857;8523           49;133;561       10;24;43   \n",
       "1024     11;1;8              303;7460               22;104           8;34   \n",
       "1257          1      217;354;462;8625           7;9;48;294      2;4;10;49   \n",
       "2581          0           39;2057;560             8;69;138        3;22;12   \n",
       "...         ...                   ...                  ...            ...   \n",
       "3664          1             1;206;454              1;62;78         1;6;12   \n",
       "593           4           1721;201719               21;807         16;147   \n",
       "4081          6              91;43165               22;424           5;82   \n",
       "3481          3           60;143;8789             6;38;103         3;6;38   \n",
       "579           0   1038;7796;2809;6071        41;125;75;247    15;30;21;41   \n",
       "\n",
       "      arxiv  authors_citations_median  authors_publications_median  \\\n",
       "3472   True                     114.0                         15.0   \n",
       "1240  False                    1857.0                        133.0   \n",
       "1024  False                    3881.5                         63.0   \n",
       "1257  False                     408.0                         28.5   \n",
       "2581   True                     560.0                         69.0   \n",
       "...     ...                       ...                          ...   \n",
       "3664  False                     206.0                         62.0   \n",
       "593    True                  101720.0                        414.0   \n",
       "4081   True                   21628.0                        223.0   \n",
       "3481  False                     143.0                         38.0   \n",
       "579   False                    4440.0                        100.0   \n",
       "\n",
       "      authors_hindex_median  reputation     crazy  has_top_company  \\\n",
       "3472                    5.5    1.122809 -6.000000                0   \n",
       "1240                   24.0    1.209314 -7.333333                0   \n",
       "1024                   21.0    1.861718 -6.750000                0   \n",
       "1257                    7.0    1.481969 -6.666667                0   \n",
       "2581                   12.0    0.703976 -6.000000                0   \n",
       "...                     ...         ...       ...              ...   \n",
       "3664                    6.0    0.833817  4.333333                0   \n",
       "593                    81.5    2.399607  4.333333                1   \n",
       "4081                   43.5    2.012011  6.000000                0   \n",
       "3481                    6.0    1.936162  5.000000                0   \n",
       "579                    25.5    1.407883 -5.666667                1   \n",
       "\n",
       "      has_top_institution  \n",
       "3472                    1  \n",
       "1240                    1  \n",
       "1024                    1  \n",
       "1257                    1  \n",
       "2581                    1  \n",
       "...                   ...  \n",
       "3664                    1  \n",
       "593                     1  \n",
       "4081                    1  \n",
       "3481                    1  \n",
       "579                     0  \n",
       "\n",
       "[2979 rows x 19 columns]"
      ]
     },
     "execution_count": 256,
     "metadata": {},
     "output_type": "execute_result"
    }
   ],
   "source": [
    "df_train= df.sample(frac=0.7) # aussi possible de split les datas comme ça !\n",
    "df_train"
   ]
  },
  {
   "cell_type": "code",
   "execution_count": 257,
   "metadata": {},
   "outputs": [
    {
     "data": {
      "text/html": [
       "<div>\n",
       "<style scoped>\n",
       "    .dataframe tbody tr th:only-of-type {\n",
       "        vertical-align: middle;\n",
       "    }\n",
       "\n",
       "    .dataframe tbody tr th {\n",
       "        vertical-align: top;\n",
       "    }\n",
       "\n",
       "    .dataframe thead th {\n",
       "        text-align: right;\n",
       "    }\n",
       "</style>\n",
       "<table border=\"1\" class=\"dataframe\">\n",
       "  <thead>\n",
       "    <tr style=\"text-align: right;\">\n",
       "      <th></th>\n",
       "      <th>year</th>\n",
       "      <th>paper</th>\n",
       "      <th>authors</th>\n",
       "      <th>ratings</th>\n",
       "      <th>decisions</th>\n",
       "      <th>institution</th>\n",
       "      <th>csranking</th>\n",
       "      <th>categories</th>\n",
       "      <th>authors_citations</th>\n",
       "      <th>authors_publications</th>\n",
       "      <th>authors_hindex</th>\n",
       "      <th>arxiv</th>\n",
       "      <th>authors_citations_median</th>\n",
       "      <th>authors_publications_median</th>\n",
       "      <th>authors_hindex_median</th>\n",
       "      <th>reputation</th>\n",
       "      <th>crazy</th>\n",
       "      <th>has_top_company</th>\n",
       "      <th>has_top_institution</th>\n",
       "    </tr>\n",
       "  </thead>\n",
       "  <tbody>\n",
       "    <tr>\n",
       "      <th>0</th>\n",
       "      <td>2018</td>\n",
       "      <td>Certifying Some Distributional Robustness with...</td>\n",
       "      <td>Aman Sinha;Hongseok Namkoong;John Duchi</td>\n",
       "      <td>9.000000</td>\n",
       "      <td>Accept</td>\n",
       "      <td>Stanford University;Stanford University;Stanfo...</td>\n",
       "      <td>4;4;4</td>\n",
       "      <td>4</td>\n",
       "      <td>655;904;12908</td>\n",
       "      <td>42;19;162</td>\n",
       "      <td>8;10;42</td>\n",
       "      <td>True</td>\n",
       "      <td>904.0</td>\n",
       "      <td>42.0</td>\n",
       "      <td>10.0</td>\n",
       "      <td>1.906761</td>\n",
       "      <td>-9.000000</td>\n",
       "      <td>0</td>\n",
       "      <td>1</td>\n",
       "    </tr>\n",
       "    <tr>\n",
       "      <th>1</th>\n",
       "      <td>2018</td>\n",
       "      <td>Parametric Information Bottleneck to Optimize ...</td>\n",
       "      <td>Thanh T. Nguyen;Jaesik Choi</td>\n",
       "      <td>4.666667</td>\n",
       "      <td>Reject</td>\n",
       "      <td>Ulsan National Institute of Science and Techno...</td>\n",
       "      <td>468;468</td>\n",
       "      <td>8</td>\n",
       "      <td>1052;727</td>\n",
       "      <td>86;88</td>\n",
       "      <td>16;15</td>\n",
       "      <td>False</td>\n",
       "      <td>889.5</td>\n",
       "      <td>87.0</td>\n",
       "      <td>15.5</td>\n",
       "      <td>0.966675</td>\n",
       "      <td>4.333333</td>\n",
       "      <td>0</td>\n",
       "      <td>1</td>\n",
       "    </tr>\n",
       "    <tr>\n",
       "      <th>2</th>\n",
       "      <td>2018</td>\n",
       "      <td>Towards Neural Phrase-based Machine Translation</td>\n",
       "      <td>Po-Sen Huang;Chong Wang;Sitao Huang;Dengyong Z...</td>\n",
       "      <td>6.666667</td>\n",
       "      <td>Accept</td>\n",
       "      <td>Microsoft;Google;University of Illinois, Urban...</td>\n",
       "      <td>-1;-1;3;-1;-1</td>\n",
       "      <td>3;2</td>\n",
       "      <td>1718;17889;161;8800;20766</td>\n",
       "      <td>59;1045;17;78;409</td>\n",
       "      <td>17;54;7;33;63</td>\n",
       "      <td>True</td>\n",
       "      <td>8800.0</td>\n",
       "      <td>78.0</td>\n",
       "      <td>33.0</td>\n",
       "      <td>1.714100</td>\n",
       "      <td>-6.666667</td>\n",
       "      <td>1</td>\n",
       "      <td>1</td>\n",
       "    </tr>\n",
       "    <tr>\n",
       "      <th>3</th>\n",
       "      <td>2018</td>\n",
       "      <td>Interactive Grounded Language Acquisition and ...</td>\n",
       "      <td>Haonan Yu;Haichao Zhang;Wei Xu</td>\n",
       "      <td>6.333333</td>\n",
       "      <td>Accept</td>\n",
       "      <td>Baidu;Baidu;Baidu</td>\n",
       "      <td>-1;-1;-1</td>\n",
       "      <td>6;8</td>\n",
       "      <td>890;1382;9553</td>\n",
       "      <td>37;63;557</td>\n",
       "      <td>12;20;44</td>\n",
       "      <td>False</td>\n",
       "      <td>1382.0</td>\n",
       "      <td>63.0</td>\n",
       "      <td>20.0</td>\n",
       "      <td>1.258896</td>\n",
       "      <td>-6.333333</td>\n",
       "      <td>0</td>\n",
       "      <td>0</td>\n",
       "    </tr>\n",
       "    <tr>\n",
       "      <th>4</th>\n",
       "      <td>2018</td>\n",
       "      <td>A Boo(n) for Evaluating Architecture Performance</td>\n",
       "      <td>Ondrej Bajgar;Rudolf Kadlec;and Jan Kleindienst</td>\n",
       "      <td>4.666667</td>\n",
       "      <td>Reject</td>\n",
       "      <td>;International Business Machines;International...</td>\n",
       "      <td>-1;-1;-1</td>\n",
       "      <td>0</td>\n",
       "      <td>366;678;658</td>\n",
       "      <td>10;40;76</td>\n",
       "      <td>5;11;9</td>\n",
       "      <td>False</td>\n",
       "      <td>658.0</td>\n",
       "      <td>40.0</td>\n",
       "      <td>9.0</td>\n",
       "      <td>0.984882</td>\n",
       "      <td>4.333333</td>\n",
       "      <td>0</td>\n",
       "      <td>0</td>\n",
       "    </tr>\n",
       "    <tr>\n",
       "      <th>...</th>\n",
       "      <td>...</td>\n",
       "      <td>...</td>\n",
       "      <td>...</td>\n",
       "      <td>...</td>\n",
       "      <td>...</td>\n",
       "      <td>...</td>\n",
       "      <td>...</td>\n",
       "      <td>...</td>\n",
       "      <td>...</td>\n",
       "      <td>...</td>\n",
       "      <td>...</td>\n",
       "      <td>...</td>\n",
       "      <td>...</td>\n",
       "      <td>...</td>\n",
       "      <td>...</td>\n",
       "      <td>...</td>\n",
       "      <td>...</td>\n",
       "      <td>...</td>\n",
       "      <td>...</td>\n",
       "    </tr>\n",
       "    <tr>\n",
       "      <th>4251</th>\n",
       "      <td>2020</td>\n",
       "      <td>A Finite-Time Analysis of  Q-Learning with Neu...</td>\n",
       "      <td>Pan Xu;Quanquan Gu</td>\n",
       "      <td>5.000000</td>\n",
       "      <td>Reject</td>\n",
       "      <td>University of California, Los Angeles;Universi...</td>\n",
       "      <td>20;20</td>\n",
       "      <td>1;9</td>\n",
       "      <td>295;3895</td>\n",
       "      <td>31;174</td>\n",
       "      <td>10;34</td>\n",
       "      <td>False</td>\n",
       "      <td>2095.0</td>\n",
       "      <td>102.5</td>\n",
       "      <td>22.0</td>\n",
       "      <td>1.368938</td>\n",
       "      <td>-5.000000</td>\n",
       "      <td>0</td>\n",
       "      <td>1</td>\n",
       "    </tr>\n",
       "    <tr>\n",
       "      <th>4252</th>\n",
       "      <td>2020</td>\n",
       "      <td>SCELMo: Source Code Embeddings from Language M...</td>\n",
       "      <td>Rafael - Michael Karampatsis;Charles Sutton</td>\n",
       "      <td>4.666667</td>\n",
       "      <td>Reject</td>\n",
       "      <td>University of Edinburgh;Google</td>\n",
       "      <td>33;-1</td>\n",
       "      <td>3</td>\n",
       "      <td>0;50</td>\n",
       "      <td>1;18</td>\n",
       "      <td>0;3</td>\n",
       "      <td>False</td>\n",
       "      <td>25.0</td>\n",
       "      <td>9.5</td>\n",
       "      <td>1.5</td>\n",
       "      <td>0.577236</td>\n",
       "      <td>4.333333</td>\n",
       "      <td>1</td>\n",
       "      <td>1</td>\n",
       "    </tr>\n",
       "    <tr>\n",
       "      <th>4253</th>\n",
       "      <td>2020</td>\n",
       "      <td>GraphMix: Regularized Training of Graph Neural...</td>\n",
       "      <td>Vikas Verma;Meng Qu;Alex Lamb;Yoshua Bengio;Ju...</td>\n",
       "      <td>4.000000</td>\n",
       "      <td>Reject</td>\n",
       "      <td>;University of Montreal;University of Montreal...</td>\n",
       "      <td>-1;128;128;128;143;128</td>\n",
       "      <td>10</td>\n",
       "      <td>202;504;2136;208566;3645;346</td>\n",
       "      <td>25;40;22;807;127;94</td>\n",
       "      <td>4;5;8;147;24;8</td>\n",
       "      <td>True</td>\n",
       "      <td>1320.0</td>\n",
       "      <td>67.0</td>\n",
       "      <td>8.0</td>\n",
       "      <td>0.670325</td>\n",
       "      <td>5.000000</td>\n",
       "      <td>0</td>\n",
       "      <td>1</td>\n",
       "    </tr>\n",
       "    <tr>\n",
       "      <th>4254</th>\n",
       "      <td>2020</td>\n",
       "      <td>Neural networks with motivation</td>\n",
       "      <td>Sergey A. Shuvaev;Ngoc B. Tran;Marcus Stephens...</td>\n",
       "      <td>2.333333</td>\n",
       "      <td>Reject</td>\n",
       "      <td>Cold Spring Harbor Laboratory;Cold Spring Harb...</td>\n",
       "      <td>-1;-1;-1;-1;-1</td>\n",
       "      <td>5</td>\n",
       "      <td>16;94;563;997;1816</td>\n",
       "      <td>8;12;14;67;83</td>\n",
       "      <td>3;3;9;9;16</td>\n",
       "      <td>True</td>\n",
       "      <td>563.0</td>\n",
       "      <td>14.0</td>\n",
       "      <td>9.0</td>\n",
       "      <td>1.359447</td>\n",
       "      <td>6.666667</td>\n",
       "      <td>0</td>\n",
       "      <td>0</td>\n",
       "    </tr>\n",
       "    <tr>\n",
       "      <th>4255</th>\n",
       "      <td>2020</td>\n",
       "      <td>Measuring causal influence with back-to-back r...</td>\n",
       "      <td>Jean-Remi King;Francois Charton;Maxime Oquab;D...</td>\n",
       "      <td>4.000000</td>\n",
       "      <td>Reject</td>\n",
       "      <td>Facebook;Facebook;Facebook;Facebook</td>\n",
       "      <td>-1;-1;-1;-1</td>\n",
       "      <td>0</td>\n",
       "      <td>1273;1;2971;2483</td>\n",
       "      <td>45;14;20;46</td>\n",
       "      <td>16;1;7;19</td>\n",
       "      <td>False</td>\n",
       "      <td>1878.0</td>\n",
       "      <td>32.5</td>\n",
       "      <td>11.5</td>\n",
       "      <td>1.740191</td>\n",
       "      <td>5.000000</td>\n",
       "      <td>1</td>\n",
       "      <td>0</td>\n",
       "    </tr>\n",
       "  </tbody>\n",
       "</table>\n",
       "<p>4256 rows × 19 columns</p>\n",
       "</div>"
      ],
      "text/plain": [
       "      year                                              paper  \\\n",
       "0     2018  Certifying Some Distributional Robustness with...   \n",
       "1     2018  Parametric Information Bottleneck to Optimize ...   \n",
       "2     2018    Towards Neural Phrase-based Machine Translation   \n",
       "3     2018  Interactive Grounded Language Acquisition and ...   \n",
       "4     2018   A Boo(n) for Evaluating Architecture Performance   \n",
       "...    ...                                                ...   \n",
       "4251  2020  A Finite-Time Analysis of  Q-Learning with Neu...   \n",
       "4252  2020  SCELMo: Source Code Embeddings from Language M...   \n",
       "4253  2020  GraphMix: Regularized Training of Graph Neural...   \n",
       "4254  2020                    Neural networks with motivation   \n",
       "4255  2020  Measuring causal influence with back-to-back r...   \n",
       "\n",
       "                                                authors   ratings decisions  \\\n",
       "0               Aman Sinha;Hongseok Namkoong;John Duchi  9.000000    Accept   \n",
       "1                           Thanh T. Nguyen;Jaesik Choi  4.666667    Reject   \n",
       "2     Po-Sen Huang;Chong Wang;Sitao Huang;Dengyong Z...  6.666667    Accept   \n",
       "3                        Haonan Yu;Haichao Zhang;Wei Xu  6.333333    Accept   \n",
       "4       Ondrej Bajgar;Rudolf Kadlec;and Jan Kleindienst  4.666667    Reject   \n",
       "...                                                 ...       ...       ...   \n",
       "4251                                 Pan Xu;Quanquan Gu  5.000000    Reject   \n",
       "4252        Rafael - Michael Karampatsis;Charles Sutton  4.666667    Reject   \n",
       "4253  Vikas Verma;Meng Qu;Alex Lamb;Yoshua Bengio;Ju...  4.000000    Reject   \n",
       "4254  Sergey A. Shuvaev;Ngoc B. Tran;Marcus Stephens...  2.333333    Reject   \n",
       "4255  Jean-Remi King;Francois Charton;Maxime Oquab;D...  4.000000    Reject   \n",
       "\n",
       "                                            institution  \\\n",
       "0     Stanford University;Stanford University;Stanfo...   \n",
       "1     Ulsan National Institute of Science and Techno...   \n",
       "2     Microsoft;Google;University of Illinois, Urban...   \n",
       "3                                     Baidu;Baidu;Baidu   \n",
       "4     ;International Business Machines;International...   \n",
       "...                                                 ...   \n",
       "4251  University of California, Los Angeles;Universi...   \n",
       "4252                     University of Edinburgh;Google   \n",
       "4253  ;University of Montreal;University of Montreal...   \n",
       "4254  Cold Spring Harbor Laboratory;Cold Spring Harb...   \n",
       "4255                Facebook;Facebook;Facebook;Facebook   \n",
       "\n",
       "                   csranking categories             authors_citations  \\\n",
       "0                      4;4;4          4                 655;904;12908   \n",
       "1                    468;468          8                      1052;727   \n",
       "2              -1;-1;3;-1;-1        3;2     1718;17889;161;8800;20766   \n",
       "3                   -1;-1;-1        6;8                 890;1382;9553   \n",
       "4                   -1;-1;-1          0                   366;678;658   \n",
       "...                      ...        ...                           ...   \n",
       "4251                   20;20        1;9                      295;3895   \n",
       "4252                   33;-1          3                          0;50   \n",
       "4253  -1;128;128;128;143;128         10  202;504;2136;208566;3645;346   \n",
       "4254          -1;-1;-1;-1;-1          5            16;94;563;997;1816   \n",
       "4255             -1;-1;-1;-1          0              1273;1;2971;2483   \n",
       "\n",
       "     authors_publications  authors_hindex  arxiv  authors_citations_median  \\\n",
       "0               42;19;162         8;10;42   True                     904.0   \n",
       "1                   86;88           16;15  False                     889.5   \n",
       "2       59;1045;17;78;409   17;54;7;33;63   True                    8800.0   \n",
       "3               37;63;557        12;20;44  False                    1382.0   \n",
       "4                10;40;76          5;11;9  False                     658.0   \n",
       "...                   ...             ...    ...                       ...   \n",
       "4251               31;174           10;34  False                    2095.0   \n",
       "4252                 1;18             0;3  False                      25.0   \n",
       "4253  25;40;22;807;127;94  4;5;8;147;24;8   True                    1320.0   \n",
       "4254        8;12;14;67;83      3;3;9;9;16   True                     563.0   \n",
       "4255          45;14;20;46       16;1;7;19  False                    1878.0   \n",
       "\n",
       "      authors_publications_median  authors_hindex_median  reputation  \\\n",
       "0                            42.0                   10.0    1.906761   \n",
       "1                            87.0                   15.5    0.966675   \n",
       "2                            78.0                   33.0    1.714100   \n",
       "3                            63.0                   20.0    1.258896   \n",
       "4                            40.0                    9.0    0.984882   \n",
       "...                           ...                    ...         ...   \n",
       "4251                        102.5                   22.0    1.368938   \n",
       "4252                          9.5                    1.5    0.577236   \n",
       "4253                         67.0                    8.0    0.670325   \n",
       "4254                         14.0                    9.0    1.359447   \n",
       "4255                         32.5                   11.5    1.740191   \n",
       "\n",
       "         crazy  has_top_company  has_top_institution  \n",
       "0    -9.000000                0                    1  \n",
       "1     4.333333                0                    1  \n",
       "2    -6.666667                1                    1  \n",
       "3    -6.333333                0                    0  \n",
       "4     4.333333                0                    0  \n",
       "...        ...              ...                  ...  \n",
       "4251 -5.000000                0                    1  \n",
       "4252  4.333333                1                    1  \n",
       "4253  5.000000                0                    1  \n",
       "4254  6.666667                0                    0  \n",
       "4255  5.000000                1                    0  \n",
       "\n",
       "[4256 rows x 19 columns]"
      ]
     },
     "execution_count": 257,
     "metadata": {},
     "output_type": "execute_result"
    }
   ],
   "source": [
    "df"
   ]
  },
  {
   "cell_type": "code",
   "execution_count": 258,
   "metadata": {},
   "outputs": [],
   "source": [
    "def split_data(X,y,test_size):\n",
    "    X_train, X_test, y_train, y_test = train_test_split(X, y,test_size = test_size, random_state=42)\n",
    "    return X_train, X_test, y_train, y_test"
   ]
  },
  {
   "cell_type": "markdown",
   "metadata": {},
   "source": [
    "### Task 1.3\n",
    "\n",
    "Build a Linear Regression model (use [sklearn](https://scikit-learn.org/stable/)) that predicts the score of a paper (which is in the variable ratings in the dataframe). Train it and test it using the split you previously defined. Your model should use as features:\n",
    "- Median values for the number of author citations, publications and h-indexes, as calculated in Task 1.1.1.\n",
    "\n",
    "- `reputation` of the last author, as calculated in Task 1.1.2.\n",
    "\n",
    "For the two scenarios above (random split and longitudinal split):\n",
    "\n",
    "1. Report the model $R^2$ in each case (for the testing set).\n",
    "2. **Discuss:** Hypothesize a reason why the results are different. Additionally, interpret the $R^2$ value for the longitudinal split. How can it be negative?\n",
    "3. **From now onwards (in this task and the following ones), consider only the random split.** For a given entry $X$ your model outputs a predicted score $Y'$. The difference between the real score $Y$ and the predicted score $Y'$ is called the \"residual\". Plot the distribution of your residuals for the test set. Using this distribution, estimate what is the probability that your prediction is off by more than 2-points? Provide bootstrapped confidence intervals for your answer.\n",
    "4. **Discuss:** Identify three additional features that are already computed in your dataframe and that could boost your model's predictive performance. You are not allowed to use the variable `decisions` as an input here. Before running any experiments, discuss why each of these features might add valuable information to your model.\n",
    "5. Report the $R^2$ (for the test set) for a newly trained model with these additional features. Please note that you do not need to improve the model performance to be successful in this task!\n",
    "\n",
    "**Hint**: [Metrics!](https://scikit-learn.org/stable/modules/classes.html#sklearn-metrics-metrics)"
   ]
  },
  {
   "cell_type": "code",
   "execution_count": 259,
   "metadata": {},
   "outputs": [
    {
     "data": {
      "text/html": [
       "<div>\n",
       "<style scoped>\n",
       "    .dataframe tbody tr th:only-of-type {\n",
       "        vertical-align: middle;\n",
       "    }\n",
       "\n",
       "    .dataframe tbody tr th {\n",
       "        vertical-align: top;\n",
       "    }\n",
       "\n",
       "    .dataframe thead th {\n",
       "        text-align: right;\n",
       "    }\n",
       "</style>\n",
       "<table border=\"1\" class=\"dataframe\">\n",
       "  <thead>\n",
       "    <tr style=\"text-align: right;\">\n",
       "      <th></th>\n",
       "      <th>authors_citations_median</th>\n",
       "      <th>authors_publications_median</th>\n",
       "      <th>authors_hindex_median</th>\n",
       "      <th>reputation</th>\n",
       "    </tr>\n",
       "  </thead>\n",
       "  <tbody>\n",
       "    <tr>\n",
       "      <th>0</th>\n",
       "      <td>904.0</td>\n",
       "      <td>42.0</td>\n",
       "      <td>10.0</td>\n",
       "      <td>1.906761</td>\n",
       "    </tr>\n",
       "    <tr>\n",
       "      <th>1</th>\n",
       "      <td>889.5</td>\n",
       "      <td>87.0</td>\n",
       "      <td>15.5</td>\n",
       "      <td>0.966675</td>\n",
       "    </tr>\n",
       "    <tr>\n",
       "      <th>2</th>\n",
       "      <td>8800.0</td>\n",
       "      <td>78.0</td>\n",
       "      <td>33.0</td>\n",
       "      <td>1.714100</td>\n",
       "    </tr>\n",
       "    <tr>\n",
       "      <th>3</th>\n",
       "      <td>1382.0</td>\n",
       "      <td>63.0</td>\n",
       "      <td>20.0</td>\n",
       "      <td>1.258896</td>\n",
       "    </tr>\n",
       "    <tr>\n",
       "      <th>4</th>\n",
       "      <td>658.0</td>\n",
       "      <td>40.0</td>\n",
       "      <td>9.0</td>\n",
       "      <td>0.984882</td>\n",
       "    </tr>\n",
       "    <tr>\n",
       "      <th>...</th>\n",
       "      <td>...</td>\n",
       "      <td>...</td>\n",
       "      <td>...</td>\n",
       "      <td>...</td>\n",
       "    </tr>\n",
       "    <tr>\n",
       "      <th>4251</th>\n",
       "      <td>2095.0</td>\n",
       "      <td>102.5</td>\n",
       "      <td>22.0</td>\n",
       "      <td>1.368938</td>\n",
       "    </tr>\n",
       "    <tr>\n",
       "      <th>4252</th>\n",
       "      <td>25.0</td>\n",
       "      <td>9.5</td>\n",
       "      <td>1.5</td>\n",
       "      <td>0.577236</td>\n",
       "    </tr>\n",
       "    <tr>\n",
       "      <th>4253</th>\n",
       "      <td>1320.0</td>\n",
       "      <td>67.0</td>\n",
       "      <td>8.0</td>\n",
       "      <td>0.670325</td>\n",
       "    </tr>\n",
       "    <tr>\n",
       "      <th>4254</th>\n",
       "      <td>563.0</td>\n",
       "      <td>14.0</td>\n",
       "      <td>9.0</td>\n",
       "      <td>1.359447</td>\n",
       "    </tr>\n",
       "    <tr>\n",
       "      <th>4255</th>\n",
       "      <td>1878.0</td>\n",
       "      <td>32.5</td>\n",
       "      <td>11.5</td>\n",
       "      <td>1.740191</td>\n",
       "    </tr>\n",
       "  </tbody>\n",
       "</table>\n",
       "<p>4256 rows × 4 columns</p>\n",
       "</div>"
      ],
      "text/plain": [
       "      authors_citations_median  authors_publications_median  \\\n",
       "0                        904.0                         42.0   \n",
       "1                        889.5                         87.0   \n",
       "2                       8800.0                         78.0   \n",
       "3                       1382.0                         63.0   \n",
       "4                        658.0                         40.0   \n",
       "...                        ...                          ...   \n",
       "4251                    2095.0                        102.5   \n",
       "4252                      25.0                          9.5   \n",
       "4253                    1320.0                         67.0   \n",
       "4254                     563.0                         14.0   \n",
       "4255                    1878.0                         32.5   \n",
       "\n",
       "      authors_hindex_median  reputation  \n",
       "0                      10.0    1.906761  \n",
       "1                      15.5    0.966675  \n",
       "2                      33.0    1.714100  \n",
       "3                      20.0    1.258896  \n",
       "4                       9.0    0.984882  \n",
       "...                     ...         ...  \n",
       "4251                   22.0    1.368938  \n",
       "4252                    1.5    0.577236  \n",
       "4253                    8.0    0.670325  \n",
       "4254                    9.0    1.359447  \n",
       "4255                   11.5    1.740191  \n",
       "\n",
       "[4256 rows x 4 columns]"
      ]
     },
     "execution_count": 259,
     "metadata": {},
     "output_type": "execute_result"
    }
   ],
   "source": [
    "df[df.columns[12:16]]"
   ]
  },
  {
   "cell_type": "code",
   "execution_count": 260,
   "metadata": {},
   "outputs": [
    {
     "data": {
      "text/html": [
       "<div>\n",
       "<style scoped>\n",
       "    .dataframe tbody tr th:only-of-type {\n",
       "        vertical-align: middle;\n",
       "    }\n",
       "\n",
       "    .dataframe tbody tr th {\n",
       "        vertical-align: top;\n",
       "    }\n",
       "\n",
       "    .dataframe thead th {\n",
       "        text-align: right;\n",
       "    }\n",
       "</style>\n",
       "<table border=\"1\" class=\"dataframe\">\n",
       "  <thead>\n",
       "    <tr style=\"text-align: right;\">\n",
       "      <th></th>\n",
       "      <th>authors_citations_median</th>\n",
       "      <th>authors_publications_median</th>\n",
       "      <th>authors_hindex_median</th>\n",
       "      <th>reputation</th>\n",
       "    </tr>\n",
       "  </thead>\n",
       "  <tbody>\n",
       "    <tr>\n",
       "      <th>1091</th>\n",
       "      <td>277.0</td>\n",
       "      <td>29.0</td>\n",
       "      <td>7.0</td>\n",
       "      <td>1.052388</td>\n",
       "    </tr>\n",
       "    <tr>\n",
       "      <th>382</th>\n",
       "      <td>328.5</td>\n",
       "      <td>23.5</td>\n",
       "      <td>6.5</td>\n",
       "      <td>1.584183</td>\n",
       "    </tr>\n",
       "    <tr>\n",
       "      <th>2743</th>\n",
       "      <td>56.0</td>\n",
       "      <td>14.0</td>\n",
       "      <td>4.0</td>\n",
       "      <td>1.388913</td>\n",
       "    </tr>\n",
       "    <tr>\n",
       "      <th>3150</th>\n",
       "      <td>1224.0</td>\n",
       "      <td>27.0</td>\n",
       "      <td>13.0</td>\n",
       "      <td>2.124628</td>\n",
       "    </tr>\n",
       "    <tr>\n",
       "      <th>2230</th>\n",
       "      <td>103.5</td>\n",
       "      <td>12.5</td>\n",
       "      <td>3.0</td>\n",
       "      <td>1.014478</td>\n",
       "    </tr>\n",
       "    <tr>\n",
       "      <th>...</th>\n",
       "      <td>...</td>\n",
       "      <td>...</td>\n",
       "      <td>...</td>\n",
       "      <td>...</td>\n",
       "    </tr>\n",
       "    <tr>\n",
       "      <th>3444</th>\n",
       "      <td>613.5</td>\n",
       "      <td>59.5</td>\n",
       "      <td>11.0</td>\n",
       "      <td>1.176986</td>\n",
       "    </tr>\n",
       "    <tr>\n",
       "      <th>466</th>\n",
       "      <td>64.0</td>\n",
       "      <td>19.0</td>\n",
       "      <td>4.0</td>\n",
       "      <td>0.640324</td>\n",
       "    </tr>\n",
       "    <tr>\n",
       "      <th>3092</th>\n",
       "      <td>1510.5</td>\n",
       "      <td>100.5</td>\n",
       "      <td>19.0</td>\n",
       "      <td>1.376997</td>\n",
       "    </tr>\n",
       "    <tr>\n",
       "      <th>3772</th>\n",
       "      <td>1173.5</td>\n",
       "      <td>60.5</td>\n",
       "      <td>18.0</td>\n",
       "      <td>1.151484</td>\n",
       "    </tr>\n",
       "    <tr>\n",
       "      <th>860</th>\n",
       "      <td>651.5</td>\n",
       "      <td>24.5</td>\n",
       "      <td>10.0</td>\n",
       "      <td>1.487004</td>\n",
       "    </tr>\n",
       "  </tbody>\n",
       "</table>\n",
       "<p>2979 rows × 4 columns</p>\n",
       "</div>"
      ],
      "text/plain": [
       "      authors_citations_median  authors_publications_median  \\\n",
       "1091                     277.0                         29.0   \n",
       "382                      328.5                         23.5   \n",
       "2743                      56.0                         14.0   \n",
       "3150                    1224.0                         27.0   \n",
       "2230                     103.5                         12.5   \n",
       "...                        ...                          ...   \n",
       "3444                     613.5                         59.5   \n",
       "466                       64.0                         19.0   \n",
       "3092                    1510.5                        100.5   \n",
       "3772                    1173.5                         60.5   \n",
       "860                      651.5                         24.5   \n",
       "\n",
       "      authors_hindex_median  reputation  \n",
       "1091                    7.0    1.052388  \n",
       "382                     6.5    1.584183  \n",
       "2743                    4.0    1.388913  \n",
       "3150                   13.0    2.124628  \n",
       "2230                    3.0    1.014478  \n",
       "...                     ...         ...  \n",
       "3444                   11.0    1.176986  \n",
       "466                     4.0    0.640324  \n",
       "3092                   19.0    1.376997  \n",
       "3772                   18.0    1.151484  \n",
       "860                    10.0    1.487004  \n",
       "\n",
       "[2979 rows x 4 columns]"
      ]
     },
     "execution_count": 260,
     "metadata": {},
     "output_type": "execute_result"
    }
   ],
   "source": [
    "\n",
    "X = df[df.columns[12:16]]\n",
    "y = df['ratings']\n",
    "X_train, X_test, y_train, y_test = split_data(X,y,0.3)\n",
    "X_train"
   ]
  },
  {
   "cell_type": "markdown",
   "metadata": {},
   "source": [
    "### Task 1.4\n",
    "\n",
    "Experiment with training a different regressor, a [Gradient Boosting Regressor](https://scikit-learn.org/stable/modules/ensemble.html?highlight=xgboost#gradient-boosting). This regressor is analogous to the Gradient Boosting Classifier that you have seen in class. This model performs extremely well for a variety of tasks and is often used in machine learning competitions for tabular data (e.g., on [Kaggle](www.kaggle.com)). You must:\n",
    "\n",
    "1. Train a Gradient Boosting Regressor without specifying any parameters, e.g. `GradientBoostingRegressor().fit(X, y)`, and report its $R^2$ on the testing set. Your model should again use as features:\n",
    "    - Median values for the number of author citations, publications and h-indexes as calculated in Task 1.1.1.\n",
    "    - `reputation` of the last author, as calculated in Task 1.1.2.\n",
    "2. Create an additional feature called $crazy$, which is derived as follows. If the score  of the paper, $ratings$, is bigger than 4.96, then $crazy = 9 - ratings$, otherwise, $crazy = - ratings$. Train a Gradient Boosting Regressor to predict paper scores using only $crazy$ as a feature. Additionally, train a Linear Regression model to predict paper scores using only $crazy$ as a feature. Report the $R^2$ in the testing set.\n",
    "3. **Discuss:** Why does the Gradient Boosting Regressor perform so much better?"
   ]
  },
  {
   "cell_type": "code",
   "execution_count": 262,
   "metadata": {},
   "outputs": [
    {
     "data": {
      "text/plain": [
       "0.11823779844494087"
      ]
     },
     "execution_count": 262,
     "metadata": {},
     "output_type": "execute_result"
    }
   ],
   "source": [
    "from sklearn.ensemble import GradientBoostingRegressor\n",
    "import sklearn.metrics as metrics\n",
    "\n",
    "est = GradientBoostingRegressor().fit(X_train, y_train)\n",
    "pred = est.predict(X_test)\n",
    "R2 = metrics.r2_score(y_test,pred) #get the r2 score can be other score like F1 or accurancy\n",
    "R2\n"
   ]
  },
  {
   "cell_type": "code",
   "execution_count": 266,
   "metadata": {},
   "outputs": [
    {
     "data": {
      "text/plain": [
       "0.9999578690184099"
      ]
     },
     "execution_count": 266,
     "metadata": {},
     "output_type": "execute_result"
    }
   ],
   "source": [
    "\n",
    "X = df['crazy']\n",
    "y = df['ratings']\n",
    "X_train_crazy, X_test_crazy, y_train_crazy, y_test_crazy = split_data(X,y,0.3)\n",
    "X_train_crazy = np.array(X_train_crazy).reshape(-1,1)\n",
    "X_test_crazy = np.array(X_test_crazy).reshape(-1,1)\n",
    "est = GradientBoostingRegressor().fit(X_train_crazy, y_train_crazy)\n",
    "pred = est.predict(X_test_crazy)\n",
    "R2 = metrics.r2_score(y_test_crazy,pred) #get the r2 score can be other score like F1 or accurancy\n",
    "R2"
   ]
  },
  {
   "cell_type": "markdown",
   "metadata": {},
   "source": [
    "### Task 1.5\n",
    "\n",
    "Complex models often have several hyper-parameters. \n",
    "To obtain the best results, it is common-place to use a cross-validation set-up in your training data to find the best hyper-parameters, and then use it for the test set.\n",
    "\n",
    "\n",
    "1. Write modular code (i.e., a function) to divide your training data into $N$ folds and perform cross-validation.\n",
    "2.  Experiment tuning two hyper-parameters of the Gradient Boosting Regressor: `n_estimators` and `learning_rate`.\n",
    "For each possible combination of the two hyper-parameters (see below for the range of values that you should try for each hyper-parameter), train your model in a cross-validation setup with $N$=20. Report the mean $R^2$ along with the 90% CI for the 18 scenarios. Notice that you can calculate the 90% CI in a bootstrap-like fashion.\n",
    "    - `n_estimators`$ \\in  \\{ 50, 75, 100, 150, 200, 250\\}$\n",
    "    - `learning_rate`$ \\in  \\{ 0.1, 0.05, 0.01\\}$.\n",
    "3. With the best hyper-parameters obtained, train your model with the entire training set and report the $R^2$ on the testing set.\n",
    "4. **Discuss:** Why don't we tune the hyper-parameters in the testing set instead of doing cross-validation in the training set?"
   ]
  },
  {
   "cell_type": "code",
   "execution_count": 270,
   "metadata": {},
   "outputs": [
    {
     "data": {
      "text/plain": [
       "GridSearchCV(cv=20, estimator=GradientBoostingRegressor(),\n",
       "             param_grid={'learning_rate': [0.1, 0.05, 0.01],\n",
       "                         'n_estimators': [50, 75, 100, 150, 200, 250]},\n",
       "             scoring='r2')"
      ]
     },
     "execution_count": 270,
     "metadata": {},
     "output_type": "execute_result"
    }
   ],
   "source": [
    "from sklearn.model_selection import train_test_split\n",
    "from sklearn.model_selection import GridSearchCV\n",
    "from sklearn.model_selection import cross_validate\n",
    "est = GradientBoostingRegressor()\n",
    "parameters = {'n_estimators' : [50,75,100,150,200,250] ,\n",
    "              'learning_rate' : [0.1,0.05,0.01]}\n",
    "y = df['ratings']\n",
    "X = df[df.columns[12:16]]\n",
    "X_train, X_test, y_train, y_test = train_test_split(X, y,test_size = .3)\n",
    "cross_vl = GridSearchCV(est , parameters , cv = 20 , scoring='r2')\n",
    "cross_vl.fit(X_train,y_train)"
   ]
  },
  {
   "cell_type": "code",
   "execution_count": 271,
   "metadata": {},
   "outputs": [
    {
     "data": {
      "text/plain": [
       "{'learning_rate': 0.01, 'n_estimators': 250}"
      ]
     },
     "execution_count": 271,
     "metadata": {},
     "output_type": "execute_result"
    }
   ],
   "source": [
    "cross_vl.best_params_"
   ]
  },
  {
   "cell_type": "code",
   "execution_count": 272,
   "metadata": {},
   "outputs": [
    {
     "data": {
      "text/plain": [
       "17"
      ]
     },
     "execution_count": 272,
     "metadata": {},
     "output_type": "execute_result"
    }
   ],
   "source": [
    "cross_vl.best_index_"
   ]
  },
  {
   "cell_type": "code",
   "execution_count": 273,
   "metadata": {},
   "outputs": [
    {
     "data": {
      "text/plain": [
       "{'mean_fit_time': array([0.18099768, 0.31537557, 0.391766  , 0.55538856, 0.75131768,\n",
       "        0.81514863, 0.15161382, 0.22109814, 0.3013965 , 0.44803984,\n",
       "        0.60597171, 0.80263959, 0.17590358, 0.24534286, 0.29999384,\n",
       "        0.45683823, 0.65159149, 0.89251627]),\n",
       " 'std_fit_time': array([0.01315091, 0.03035754, 0.01947791, 0.02410665, 0.04532374,\n",
       "        0.04883308, 0.00406219, 0.00720091, 0.00874075, 0.02267238,\n",
       "        0.05027948, 0.06432291, 0.00652138, 0.00947848, 0.01218116,\n",
       "        0.01642855, 0.03631737, 0.09449635]),\n",
       " 'mean_score_time': array([0.00260308, 0.00324841, 0.00303935, 0.00304083, 0.00343602,\n",
       "        0.00279193, 0.00234921, 0.00209639, 0.00214908, 0.00243777,\n",
       "        0.00249368, 0.00270045, 0.00269612, 0.00239644, 0.00220171,\n",
       "        0.00244013, 0.0029449 , 0.00349485]),\n",
       " 'std_score_time': array([0.00065784, 0.00054163, 0.00097756, 0.00058871, 0.00086861,\n",
       "        0.0006816 , 0.00057929, 0.00030489, 0.00035432, 0.00049372,\n",
       "        0.00049262, 0.00045472, 0.0007134 , 0.00048567, 0.00040146,\n",
       "        0.00049185, 0.00059316, 0.00067   ]),\n",
       " 'param_learning_rate': masked_array(data=[0.1, 0.1, 0.1, 0.1, 0.1, 0.1, 0.05, 0.05, 0.05, 0.05,\n",
       "                    0.05, 0.05, 0.01, 0.01, 0.01, 0.01, 0.01, 0.01],\n",
       "              mask=[False, False, False, False, False, False, False, False,\n",
       "                    False, False, False, False, False, False, False, False,\n",
       "                    False, False],\n",
       "        fill_value='?',\n",
       "             dtype=object),\n",
       " 'param_n_estimators': masked_array(data=[50, 75, 100, 150, 200, 250, 50, 75, 100, 150, 200, 250,\n",
       "                    50, 75, 100, 150, 200, 250],\n",
       "              mask=[False, False, False, False, False, False, False, False,\n",
       "                    False, False, False, False, False, False, False, False,\n",
       "                    False, False],\n",
       "        fill_value='?',\n",
       "             dtype=object),\n",
       " 'params': [{'learning_rate': 0.1, 'n_estimators': 50},\n",
       "  {'learning_rate': 0.1, 'n_estimators': 75},\n",
       "  {'learning_rate': 0.1, 'n_estimators': 100},\n",
       "  {'learning_rate': 0.1, 'n_estimators': 150},\n",
       "  {'learning_rate': 0.1, 'n_estimators': 200},\n",
       "  {'learning_rate': 0.1, 'n_estimators': 250},\n",
       "  {'learning_rate': 0.05, 'n_estimators': 50},\n",
       "  {'learning_rate': 0.05, 'n_estimators': 75},\n",
       "  {'learning_rate': 0.05, 'n_estimators': 100},\n",
       "  {'learning_rate': 0.05, 'n_estimators': 150},\n",
       "  {'learning_rate': 0.05, 'n_estimators': 200},\n",
       "  {'learning_rate': 0.05, 'n_estimators': 250},\n",
       "  {'learning_rate': 0.01, 'n_estimators': 50},\n",
       "  {'learning_rate': 0.01, 'n_estimators': 75},\n",
       "  {'learning_rate': 0.01, 'n_estimators': 100},\n",
       "  {'learning_rate': 0.01, 'n_estimators': 150},\n",
       "  {'learning_rate': 0.01, 'n_estimators': 200},\n",
       "  {'learning_rate': 0.01, 'n_estimators': 250}],\n",
       " 'split0_test_score': array([0.1231314 , 0.12255585, 0.11554419, 0.11747422, 0.10869728,\n",
       "        0.10088279, 0.12698507, 0.1310398 , 0.12463712, 0.12972115,\n",
       "        0.13661853, 0.13783689, 0.06463116, 0.08131429, 0.09189648,\n",
       "        0.10719587, 0.11854764, 0.12424335]),\n",
       " 'split1_test_score': array([0.07513258, 0.0681146 , 0.07298478, 0.03726069, 0.02457156,\n",
       "        0.01539586, 0.09298095, 0.09456684, 0.08903628, 0.0868057 ,\n",
       "        0.0786627 , 0.07233962, 0.05174431, 0.06607707, 0.07555612,\n",
       "        0.08872902, 0.09461131, 0.09501617]),\n",
       " 'split2_test_score': array([0.07828327, 0.08072096, 0.07659559, 0.06342023, 0.04767085,\n",
       "        0.0305848 , 0.08474704, 0.07990486, 0.08253941, 0.07682235,\n",
       "        0.07700051, 0.0713257 , 0.05414947, 0.06692941, 0.07482406,\n",
       "        0.08173642, 0.08280688, 0.08478275]),\n",
       " 'split3_test_score': array([0.10178942, 0.10655508, 0.11322539, 0.10653437, 0.0953341 ,\n",
       "        0.08661188, 0.10377899, 0.10698149, 0.10506797, 0.10948967,\n",
       "        0.10864205, 0.1086513 , 0.0572595 , 0.07216444, 0.08252765,\n",
       "        0.0922317 , 0.10097117, 0.10199928]),\n",
       " 'split4_test_score': array([0.05202893, 0.05528678, 0.05309541, 0.03850515, 0.02458122,\n",
       "        0.00529125, 0.04768031, 0.05296042, 0.05317958, 0.0517669 ,\n",
       "        0.05112408, 0.05037911, 0.02101451, 0.03059554, 0.03596185,\n",
       "        0.04283582, 0.04764125, 0.04809109]),\n",
       " 'split5_test_score': array([0.0858953 , 0.07854976, 0.0690761 , 0.0585757 , 0.02992294,\n",
       "        0.02913287, 0.08737239, 0.08787913, 0.08137803, 0.08797821,\n",
       "        0.07572466, 0.06246784, 0.0420811 , 0.05357425, 0.06383538,\n",
       "        0.07837836, 0.0840644 , 0.08674652]),\n",
       " 'split6_test_score': array([ 0.06447905,  0.05591638,  0.04449341,  0.0290184 ,  0.00837325,\n",
       "        -0.00835397,  0.07097739,  0.06254666,  0.05605146,  0.04473686,\n",
       "         0.0364424 ,  0.02296203,  0.05626419,  0.06524209,  0.06896822,\n",
       "         0.07103539,  0.06967931,  0.06873136]),\n",
       " 'split7_test_score': array([0.15429032, 0.15899127, 0.16168744, 0.14284219, 0.1355947 ,\n",
       "        0.12915629, 0.15504282, 0.15853344, 0.1598884 , 0.15856746,\n",
       "        0.15666201, 0.1523827 , 0.08075759, 0.10044371, 0.1157266 ,\n",
       "        0.13557088, 0.14782443, 0.15386128]),\n",
       " 'split8_test_score': array([0.08023339, 0.08121816, 0.07974846, 0.06340046, 0.05747707,\n",
       "        0.04371899, 0.05638553, 0.05865124, 0.05803373, 0.06452672,\n",
       "        0.06589876, 0.06127049, 0.0345765 , 0.04977267, 0.05521513,\n",
       "        0.06269871, 0.06420289, 0.06235728]),\n",
       " 'split9_test_score': array([0.13681493, 0.14028449, 0.14656086, 0.14500544, 0.1518609 ,\n",
       "        0.14630348, 0.14528355, 0.14805732, 0.14712809, 0.14522557,\n",
       "        0.14395413, 0.15150031, 0.08300354, 0.10206451, 0.11648349,\n",
       "        0.13372842, 0.14155884, 0.1443942 ]),\n",
       " 'split10_test_score': array([0.10005609, 0.09223294, 0.07904522, 0.04479984, 0.0329667 ,\n",
       "        0.03344512, 0.10820157, 0.1020677 , 0.09747039, 0.08953591,\n",
       "        0.08046604, 0.06637377, 0.06974443, 0.0839807 , 0.09395289,\n",
       "        0.10667906, 0.11200237, 0.11383263]),\n",
       " 'split11_test_score': array([0.1036475 , 0.11042494, 0.11255249, 0.11349793, 0.1199295 ,\n",
       "        0.10588116, 0.09372586, 0.10074275, 0.10396558, 0.10431023,\n",
       "        0.1051224 , 0.10860642, 0.04100461, 0.05637656, 0.06693761,\n",
       "        0.08131404, 0.08845285, 0.09170763]),\n",
       " 'split12_test_score': array([ 0.01998489,  0.00354514,  0.00217969,  0.00736079, -0.00460022,\n",
       "        -0.01002563,  0.02286656,  0.02124376,  0.02228915,  0.02388276,\n",
       "         0.01891686,  0.01527458,  0.02779005,  0.02940072,  0.02878227,\n",
       "         0.02727633,  0.02489501,  0.02321022]),\n",
       " 'split13_test_score': array([ 0.01410579,  0.01093636,  0.00745126, -0.00386157, -0.00149343,\n",
       "        -0.00650374,  0.01490257,  0.01600407,  0.01293404,  0.00668073,\n",
       "         0.01048143,  0.01172951,  0.01073536,  0.01649394,  0.01851318,\n",
       "         0.02072945,  0.0185613 ,  0.01587458]),\n",
       " 'split14_test_score': array([0.09790453, 0.10252447, 0.10684627, 0.11195099, 0.09909656,\n",
       "        0.08188804, 0.10853328, 0.10874384, 0.10676927, 0.11538401,\n",
       "        0.11582757, 0.11408785, 0.06492407, 0.0816686 , 0.09246501,\n",
       "        0.10336987, 0.10975605, 0.10994964]),\n",
       " 'split15_test_score': array([0.04452956, 0.04794472, 0.04622177, 0.04374931, 0.04030985,\n",
       "        0.04004217, 0.05030305, 0.04997807, 0.04762622, 0.0466698 ,\n",
       "        0.04518553, 0.04098522, 0.02889409, 0.03690178, 0.04224406,\n",
       "        0.04742802, 0.04992423, 0.0506296 ]),\n",
       " 'split16_test_score': array([0.16547267, 0.15816382, 0.15502864, 0.14369767, 0.1365206 ,\n",
       "        0.11988534, 0.15953029, 0.16523874, 0.16569535, 0.16199047,\n",
       "        0.15066535, 0.13941157, 0.0727986 , 0.09976053, 0.11675108,\n",
       "        0.14158781, 0.15290017, 0.15963799]),\n",
       " 'split17_test_score': array([0.07282445, 0.07547693, 0.06659554, 0.05089067, 0.0336735 ,\n",
       "        0.03562421, 0.07678529, 0.07383781, 0.07476147, 0.07238476,\n",
       "        0.0739505 , 0.071279  , 0.04337966, 0.05827308, 0.0659484 ,\n",
       "        0.07340559, 0.0764928 , 0.0772493 ]),\n",
       " 'split18_test_score': array([0.07389355, 0.06459429, 0.0670252 , 0.05187385, 0.03874432,\n",
       "        0.01799209, 0.08794817, 0.08405092, 0.08197167, 0.07061305,\n",
       "        0.07116317, 0.06677247, 0.05571856, 0.07046723, 0.07906467,\n",
       "        0.0858447 , 0.08797193, 0.08876383]),\n",
       " 'split19_test_score': array([0.11260979, 0.11757471, 0.12335755, 0.11211597, 0.10701549,\n",
       "        0.1063008 , 0.09454865, 0.09397826, 0.10383922, 0.11284408,\n",
       "        0.10897817, 0.10306366, 0.05609313, 0.06954664, 0.07899595,\n",
       "        0.08748232, 0.09402047, 0.09631081]),\n",
       " 'mean_test_score': array([0.08785537, 0.08658058, 0.08496576, 0.07390561, 0.06431234,\n",
       "        0.05516269, 0.08942896, 0.08985036, 0.08871312, 0.08799682,\n",
       "        0.08557434, 0.081435  , 0.05082822, 0.06455239, 0.07323251,\n",
       "        0.08346289, 0.08834426, 0.08986948]),\n",
       " 'std_test_score': array([0.03864872, 0.0411489 , 0.04315141, 0.04496113, 0.04849894,\n",
       "        0.04846817, 0.03847676, 0.03979042, 0.04016974, 0.04147719,\n",
       "        0.04121271, 0.04257362, 0.01909966, 0.02336747, 0.02713172,\n",
       "        0.03240913, 0.03594967, 0.03802421]),\n",
       " 'rank_test_score': array([ 7,  8, 10, 13, 16, 17,  3,  2,  4,  6,  9, 12, 18, 15, 14, 11,  5,\n",
       "         1])}"
      ]
     },
     "execution_count": 273,
     "metadata": {},
     "output_type": "execute_result"
    }
   ],
   "source": [
    "cross_vl.cv_results_"
   ]
  },
  {
   "cell_type": "code",
   "execution_count": 268,
   "metadata": {},
   "outputs": [
    {
     "data": {
      "text/plain": [
       "array([0.09376653, 0.08793676, 0.08128261, 0.06845365, 0.05365106,\n",
       "       0.03939912, 0.09753827, 0.09636483, 0.09529208, 0.08882359,\n",
       "       0.08309165, 0.07732915, 0.05884747, 0.07337457, 0.08272786,\n",
       "       0.09257139, 0.09639948, 0.09669139])"
      ]
     },
     "execution_count": 268,
     "metadata": {},
     "output_type": "execute_result"
    }
   ],
   "source": [
    "cross_vl.cv_results_['mean_test_score']"
   ]
  },
  {
   "cell_type": "code",
   "execution_count": 77,
   "metadata": {},
   "outputs": [
    {
     "data": {
      "text/plain": [
       "1"
      ]
     },
     "execution_count": 77,
     "metadata": {},
     "output_type": "execute_result"
    }
   ],
   "source": [
    "cross_vl.cv_results_['rank_test_score'][cross_vl.best_index_]"
   ]
  },
  {
   "cell_type": "code",
   "execution_count": 78,
   "metadata": {},
   "outputs": [
    {
     "data": {
      "text/plain": [
       "{'learning_rate': 0.05, 'n_estimators': 50}"
      ]
     },
     "execution_count": 78,
     "metadata": {},
     "output_type": "execute_result"
    }
   ],
   "source": [
    "cross_vl.cv_results_['params'][cross_vl.best_index_]"
   ]
  },
  {
   "cell_type": "code",
   "execution_count": 79,
   "metadata": {},
   "outputs": [
    {
     "data": {
      "text/plain": [
       "0.09753827147942182"
      ]
     },
     "execution_count": 79,
     "metadata": {},
     "output_type": "execute_result"
    }
   ],
   "source": [
    "cross_vl.cv_results_['mean_test_score'][cross_vl.best_index_]"
   ]
  },
  {
   "cell_type": "code",
   "execution_count": 80,
   "metadata": {},
   "outputs": [
    {
     "name": "stdout",
     "output_type": "stream",
     "text": [
      "Our best R2 is equal to :  9.75 % with the parameter {'learning_rate': 0.05, 'n_estimators': 50}\n"
     ]
    }
   ],
   "source": [
    "print('Our best R2 is equal to : ',round(cross_vl.cv_results_['mean_test_score'][cross_vl.best_index_]*100,2),'% with the parameter',cross_vl.cv_results_['params'][cross_vl.best_index_])"
   ]
  },
  {
   "cell_type": "markdown",
   "metadata": {},
   "source": [
    "## _Step 2:_ What influences papers getting accepted?\n",
    "\n",
    "Time to change hats!\n",
    "\n",
    "If before we were interested in creating an accurate regressor, now we are interested in understanding what increases the chance of papers getting accepted. \n",
    "\n",
    "Typically, in that scenario, simpler models with a clear statistical interpretation (e.g. logistic regression) yield more interesting insights.\n",
    "\n",
    "For the analysis in this and the next step, you should use [statsmodels](https://www.statsmodels.org/) (for the regressions) and [scipy](https://www.scipy.org/) (for the statistical hypothesis testing).\n"
   ]
  },
  {
   "cell_type": "markdown",
   "metadata": {},
   "source": [
    "### Task 2.1\n",
    "\n",
    "Let's warm up with some visualizations and some hypothesis testing!\n",
    "\n",
    "1. Plot the distributions of 1) ratings of papers that got accepted in 2020, 2) ratings of papers that got rejected in 2020.\n",
    "2. Select a statistical test to compare whether the mean for ratings of papers that got accepted in 2020 is significantly higher.\n",
    "3. **Discuss:** Justify why the statistical test you selected is appropriate. Interpret the test-related statistic and its p-value: concretely, what do they mean?"
   ]
  },
  {
   "cell_type": "code",
   "execution_count": 84,
   "metadata": {},
   "outputs": [],
   "source": [
    "import seaborn as sns\n",
    "from scipy import stats"
   ]
  },
  {
   "cell_type": "code",
   "execution_count": 187,
   "metadata": {},
   "outputs": [
    {
     "data": {
      "image/png": "[encoded data removed]",
      "text/plain": [
       "<Figure size 720x360 with 2 Axes>"
      ]
     },
     "metadata": {
      "needs_background": "light"
     },
     "output_type": "display_data"
    }
   ],
   "source": [
    "paper2020 = df.loc[df['year']==2020]\n",
    "g = sns.FacetGrid(paper2020, col='decisions',margin_titles=True, height=5)\n",
    "g.map(plt.hist, 'ratings')\n",
    "plt.suptitle('Paper 2020')\n",
    "plt.show()"
   ]
  },
  {
   "cell_type": "code",
   "execution_count": 86,
   "metadata": {},
   "outputs": [],
   "source": [
    "accept2020 = df.loc[(df['decisions']=='Accept')&(df['year']==2020)]\n",
    "reject2020 = df.loc[(df['decisions']=='Reject')&(df['year']==2020)]  "
   ]
  },
  {
   "cell_type": "code",
   "execution_count": 281,
   "metadata": {},
   "outputs": [],
   "source": [
    "set2 = reject2020['ratings']"
   ]
  },
  {
   "cell_type": "code",
   "execution_count": 282,
   "metadata": {},
   "outputs": [
    {
     "data": {
      "text/plain": [
       "3.683274771609272"
      ]
     },
     "execution_count": 282,
     "metadata": {},
     "output_type": "execute_result"
    }
   ],
   "source": [
    "set2.mean()"
   ]
  },
  {
   "cell_type": "code",
   "execution_count": 283,
   "metadata": {},
   "outputs": [
    {
     "data": {
      "text/plain": [
       "6.138632750397448"
      ]
     },
     "execution_count": 283,
     "metadata": {},
     "output_type": "execute_result"
    }
   ],
   "source": [
    "set1 = accept2020['ratings']\n",
    "set1.mean()"
   ]
  },
  {
   "cell_type": "code",
   "execution_count": 284,
   "metadata": {},
   "outputs": [
    {
     "name": "stdout",
     "output_type": "stream",
     "text": [
      "sample:        mean = 6.1386, variance = 0.6497, skew = -0.3754, kurtosis = 0.6991\n"
     ]
    }
   ],
   "source": [
    "n1, (smin1, smax1), sm1, sv1, ss1, sk1 = stats.describe(set1)\n",
    "n2, (smin2, smax2), sm2, sv2, ss2, sk2 = stats.describe(set2)\n",
    "sstr = '%-14s mean = %6.4f, variance = %6.4f, skew = %6.4f, kurtosis = %6.4f'\n",
    "print(sstr % ('sample:', sm1, sv1, ss1, sk1))"
   ]
  },
  {
   "cell_type": "code",
   "execution_count": 285,
   "metadata": {},
   "outputs": [
    {
     "name": "stdout",
     "output_type": "stream",
     "text": [
      "sample:        mean = 3.6833, variance = 1.5206, skew = -0.0948, kurtosis = -0.4669\n"
     ]
    }
   ],
   "source": [
    "print(sstr % ('sample:', sm2, sv2, ss2, sk2))"
   ]
  },
  {
   "cell_type": "code",
   "execution_count": 286,
   "metadata": {},
   "outputs": [
    {
     "data": {
      "text/plain": [
       "2.3405172702400407"
      ]
     },
     "execution_count": 286,
     "metadata": {},
     "output_type": "execute_result"
    }
   ],
   "source": [
    "sv2/sv1 #<4 ----> donc variance are equal"
   ]
  },
  {
   "cell_type": "code",
   "execution_count": 287,
   "metadata": {},
   "outputs": [
    {
     "name": "stdout",
     "output_type": "stream",
     "text": [
      "t-statistic = 45.798 pvalue = 0.0000\n"
     ]
    }
   ],
   "source": [
    "print('t-statistic = %6.3f pvalue = %6.4f' %  stats.ttest_ind(set1,set2, equal_var=True))"
   ]
  },
  {
   "cell_type": "markdown",
   "metadata": {},
   "source": [
    "The two hypotheses for this particular two sample t-test are as follows:\n",
    "\n",
    "H0: µ1 = µ2 (the two population means are equal)\n",
    "\n",
    "HA: µ1 ≠µ2 (the two population means are not equal)\n",
    "\n",
    "So as we have pvalue < 0.05 we acce H0"
   ]
  },
  {
   "cell_type": "markdown",
   "metadata": {},
   "source": [
    "### Task 2.2\n",
    "\n",
    "We will now carry out a logistic regression modeling the binary variable `decisions` as a function of the continuous variable `ratings` and an intercept. \n",
    "\n",
    "Recall that a logistic regression is a model in the form:\n",
    "\n",
    "$$\n",
    "\\log \\Big( \\frac{p}{1-p} \\Big) = b_0 + b_1x_1 + b_2x_2 + \\ldots\n",
    "$$\n",
    "\n",
    "Where $p$ is the probability of the dependent variable (here, `decisions`) being equals to 1. \n",
    "Note that $\\frac{p}{1-p}$ represents the odds of the variable, and thus, on the left-hand side we have the log-odds of the variable.\n",
    "This can be also written as:\n",
    "\n",
    "$$\n",
    "\\Big( \\frac{p}{1-p} \\Big) = e^{b_0 + b_1 x_1 + b_2 x_2 + \\ldots} =  e^{b_0} e^{b_1 x_1} e^{b_2 x_2} \\ldots\n",
    "$$\n",
    "\n",
    "Given a linear variable, say $x_1$, if we increase the value associated with this variable by a single unit, and keep everything constant, we have:\n",
    "\n",
    "$$\n",
    " e^{b_1(x_1+1)} =  e^{b_1 x_1 + b_1} = e^{b_1 x_1}e^{b_1}  \n",
    "$$\n",
    "\n",
    "This means that we multiply the odds of the outcome variable by $e^{b_1}$. Thus, let's say that $x_1$ is the average rating, and $\\beta_1$ is the associated coefficient. Also, let's assume that $\\beta_1$ equals 2. In that case, increasing the score of the paper by 1 unit is equivalent to multiplying both sides of the previous equation by $e^{b_1}$. The original equation for our model becomes:\n",
    "\n",
    "$$\n",
    "\\Big( \\frac{p}{1-p} \\Big) = e^{b_0} e^{b_1 x_1} \n",
    "$$\n",
    "$$\n",
    "\\Big( \\frac{p}{1-p} \\Big) e^{b_1}  = e^{b_0} e^{b_1 x_1} e^{b_1}\n",
    "$$\n",
    "\n",
    "Since $b_1=2$, we have that this is the same as multiplying the odds of the variable by $e^2\\approx7$. \n",
    "So for example, if a paper with a score 5 had $p=0.05$ of being approved, its odds would be $0.05/0.95\\approx0.052$. According to our model, an increase in 1-rating point would mean that the new odds would be $0.052*7\\approx0.36$. Using the odds formula  ($\\frac{p}{1-p}$), this suggests that this paper would have a chance of $0.56$ of being accepted.\n",
    "\n",
    "---\n",
    "\n",
    "This is the theory. Now, let's find out what the real world looks like.\n",
    "\n",
    "\n",
    "1. Fit a logistic regression model to our data considering as the training set all papers submitted in 2020. Your model should predict a binary variable related to decisions (which equals true if the paper was accepted and false otherwise) as a function of the paper ratings and an intercept. In mathematical notation:\n",
    "$$\n",
    "d = b_0 + r b_1\n",
    "$$\n",
    "Where $d$ is the binary variable corresponding to a decision, $r$ is a numeric variable corresponding to the rating a paper has received and $b$ are coefficients.\n",
    "Notice that here we have no testing set!\n",
    "Report the summary of your model. \n",
    "2. **Discuss:** Interpreting the coefficients of your model, calculate the probability that a paper with a score 7 will be accepted.\n"
   ]
  },
  {
   "cell_type": "code",
   "execution_count": 235,
   "metadata": {},
   "outputs": [
    {
     "data": {
      "text/html": [
       "<div>\n",
       "<style scoped>\n",
       "    .dataframe tbody tr th:only-of-type {\n",
       "        vertical-align: middle;\n",
       "    }\n",
       "\n",
       "    .dataframe tbody tr th {\n",
       "        vertical-align: top;\n",
       "    }\n",
       "\n",
       "    .dataframe thead th {\n",
       "        text-align: right;\n",
       "    }\n",
       "</style>\n",
       "<table border=\"1\" class=\"dataframe\">\n",
       "  <thead>\n",
       "    <tr style=\"text-align: right;\">\n",
       "      <th></th>\n",
       "      <th>year</th>\n",
       "      <th>paper</th>\n",
       "      <th>authors</th>\n",
       "      <th>ratings</th>\n",
       "      <th>decisions</th>\n",
       "      <th>institution</th>\n",
       "      <th>csranking</th>\n",
       "      <th>categories</th>\n",
       "      <th>authors_citations</th>\n",
       "      <th>authors_publications</th>\n",
       "      <th>authors_hindex</th>\n",
       "      <th>arxiv</th>\n",
       "      <th>authors_citations_median</th>\n",
       "      <th>authors_publications_median</th>\n",
       "      <th>authors_hindex_median</th>\n",
       "      <th>reputation</th>\n",
       "      <th>crazy</th>\n",
       "      <th>has_top_company</th>\n",
       "      <th>has_top_institution</th>\n",
       "    </tr>\n",
       "  </thead>\n",
       "  <tbody>\n",
       "    <tr>\n",
       "      <th>3401</th>\n",
       "      <td>2020</td>\n",
       "      <td>On the Dynamics and Convergence of Weight Norm...</td>\n",
       "      <td>Yonatan Dukler;Quanquan Gu;Guido Montufar</td>\n",
       "      <td>-0.27377</td>\n",
       "      <td>0</td>\n",
       "      <td>University of California, Los Angeles;Universi...</td>\n",
       "      <td>20;20;20</td>\n",
       "      <td>1</td>\n",
       "      <td>9;3895;1193</td>\n",
       "      <td>6;174;60</td>\n",
       "      <td>1;34;14</td>\n",
       "      <td>False</td>\n",
       "      <td>1193.0</td>\n",
       "      <td>60.0</td>\n",
       "      <td>14.0</td>\n",
       "      <td>1.3198</td>\n",
       "      <td>5.0</td>\n",
       "      <td>0</td>\n",
       "      <td>1</td>\n",
       "    </tr>\n",
       "  </tbody>\n",
       "</table>\n",
       "</div>"
      ],
      "text/plain": [
       "      year                                              paper  \\\n",
       "3401  2020  On the Dynamics and Convergence of Weight Norm...   \n",
       "\n",
       "                                        authors  ratings  decisions  \\\n",
       "3401  Yonatan Dukler;Quanquan Gu;Guido Montufar -0.27377          0   \n",
       "\n",
       "                                            institution csranking categories  \\\n",
       "3401  University of California, Los Angeles;Universi...  20;20;20          1   \n",
       "\n",
       "     authors_citations authors_publications authors_hindex  arxiv  \\\n",
       "3401       9;3895;1193             6;174;60        1;34;14  False   \n",
       "\n",
       "      authors_citations_median  authors_publications_median  \\\n",
       "3401                    1193.0                         60.0   \n",
       "\n",
       "      authors_hindex_median  reputation  crazy  has_top_company  \\\n",
       "3401                   14.0      1.3198    5.0                0   \n",
       "\n",
       "      has_top_institution  \n",
       "3401                    1  "
      ]
     },
     "execution_count": 235,
     "metadata": {},
     "output_type": "execute_result"
    }
   ],
   "source": [
    "paper2020.sample(1)\n"
   ]
  },
  {
   "cell_type": "code",
   "execution_count": 245,
   "metadata": {},
   "outputs": [
    {
     "name": "stderr",
     "output_type": "stream",
     "text": [
      "<ipython-input-245-e32ca63e170a>:2: SettingWithCopyWarning: \n",
      "A value is trying to be set on a copy of a slice from a DataFrame.\n",
      "Try using .loc[row_indexer,col_indexer] = value instead\n",
      "\n",
      "See the caveats in the documentation: https://pandas.pydata.org/pandas-docs/stable/user_guide/indexing.html#returning-a-view-versus-a-copy\n",
      "  paper2020['decisions'] = paper2020['decisions'].apply(lambda x : 1 if x=='Accept' else 0)\n"
     ]
    }
   ],
   "source": [
    "paper2020 = df.loc[df['year']==2020]\n",
    "paper2020['decisions'] = paper2020['decisions'].apply(lambda x : 1 if x=='Accept' else 0)"
   ]
  },
  {
   "cell_type": "code",
   "execution_count": 238,
   "metadata": {},
   "outputs": [
    {
     "data": {
      "text/html": [
       "<div>\n",
       "<style scoped>\n",
       "    .dataframe tbody tr th:only-of-type {\n",
       "        vertical-align: middle;\n",
       "    }\n",
       "\n",
       "    .dataframe tbody tr th {\n",
       "        vertical-align: top;\n",
       "    }\n",
       "\n",
       "    .dataframe thead th {\n",
       "        text-align: right;\n",
       "    }\n",
       "</style>\n",
       "<table border=\"1\" class=\"dataframe\">\n",
       "  <thead>\n",
       "    <tr style=\"text-align: right;\">\n",
       "      <th></th>\n",
       "      <th>year</th>\n",
       "      <th>paper</th>\n",
       "      <th>authors</th>\n",
       "      <th>ratings</th>\n",
       "      <th>decisions</th>\n",
       "      <th>institution</th>\n",
       "      <th>csranking</th>\n",
       "      <th>categories</th>\n",
       "      <th>authors_citations</th>\n",
       "      <th>authors_publications</th>\n",
       "      <th>authors_hindex</th>\n",
       "      <th>arxiv</th>\n",
       "      <th>authors_citations_median</th>\n",
       "      <th>authors_publications_median</th>\n",
       "      <th>authors_hindex_median</th>\n",
       "      <th>reputation</th>\n",
       "      <th>crazy</th>\n",
       "      <th>has_top_company</th>\n",
       "      <th>has_top_institution</th>\n",
       "    </tr>\n",
       "  </thead>\n",
       "  <tbody>\n",
       "    <tr>\n",
       "      <th>3215</th>\n",
       "      <td>2020</td>\n",
       "      <td>SAFE-DNN: A Deep Neural Network with Spike Ass...</td>\n",
       "      <td>Xueyuan She;Priyabrata Saha;Daehyun Kim;Yun Lo...</td>\n",
       "      <td>-0.273770</td>\n",
       "      <td>0</td>\n",
       "      <td>Georgia Institute of Technology;Georgia Instit...</td>\n",
       "      <td>13;13;13;13;13</td>\n",
       "      <td>0</td>\n",
       "      <td>32;26;285;571;314</td>\n",
       "      <td>8;15;72;102;90</td>\n",
       "      <td>3;3;8;12;8</td>\n",
       "      <td>False</td>\n",
       "      <td>285.0</td>\n",
       "      <td>72.0</td>\n",
       "      <td>8.0</td>\n",
       "      <td>-1.190636</td>\n",
       "      <td>5.0</td>\n",
       "      <td>0</td>\n",
       "      <td>1</td>\n",
       "    </tr>\n",
       "    <tr>\n",
       "      <th>3181</th>\n",
       "      <td>2020</td>\n",
       "      <td>Retrieving Signals in the Frequency Domain wit...</td>\n",
       "      <td>Chiheb Trabelsi;Olexa Bilaniuk;Ousmane Dia;Yin...</td>\n",
       "      <td>0.354264</td>\n",
       "      <td>0</td>\n",
       "      <td>Polytechnique Montreal;University of Montreal;...</td>\n",
       "      <td>390;128;-1;-1;128;128;-1;-1</td>\n",
       "      <td>0</td>\n",
       "      <td>286;281;5;18;763;693;389;8489</td>\n",
       "      <td>11;14;8;21;37;28;32;120</td>\n",
       "      <td>4;7;1;3;18;10;10;33</td>\n",
       "      <td>False</td>\n",
       "      <td>337.5</td>\n",
       "      <td>24.5</td>\n",
       "      <td>8.5</td>\n",
       "      <td>0.990237</td>\n",
       "      <td>-5.0</td>\n",
       "      <td>0</td>\n",
       "      <td>1</td>\n",
       "    </tr>\n",
       "    <tr>\n",
       "      <th>3588</th>\n",
       "      <td>2020</td>\n",
       "      <td>Graph Warp Module: an Auxiliary Module for Boo...</td>\n",
       "      <td>Katsuhiko Ishiguro;Shin-ichi Maeda;Masanori Ko...</td>\n",
       "      <td>0.354264</td>\n",
       "      <td>0</td>\n",
       "      <td>Preferred Networks, Inc.;Preferred Networks, I...</td>\n",
       "      <td>-1;-1;-1</td>\n",
       "      <td>8</td>\n",
       "      <td>628;2028;2498</td>\n",
       "      <td>73;99;35</td>\n",
       "      <td>14;21;12</td>\n",
       "      <td>True</td>\n",
       "      <td>2028.0</td>\n",
       "      <td>73.0</td>\n",
       "      <td>14.0</td>\n",
       "      <td>0.997114</td>\n",
       "      <td>-5.0</td>\n",
       "      <td>0</td>\n",
       "      <td>0</td>\n",
       "    </tr>\n",
       "  </tbody>\n",
       "</table>\n",
       "</div>"
      ],
      "text/plain": [
       "      year                                              paper  \\\n",
       "3215  2020  SAFE-DNN: A Deep Neural Network with Spike Ass...   \n",
       "3181  2020  Retrieving Signals in the Frequency Domain wit...   \n",
       "3588  2020  Graph Warp Module: an Auxiliary Module for Boo...   \n",
       "\n",
       "                                                authors   ratings  decisions  \\\n",
       "3215  Xueyuan She;Priyabrata Saha;Daehyun Kim;Yun Lo... -0.273770          0   \n",
       "3181  Chiheb Trabelsi;Olexa Bilaniuk;Ousmane Dia;Yin...  0.354264          0   \n",
       "3588  Katsuhiko Ishiguro;Shin-ichi Maeda;Masanori Ko...  0.354264          0   \n",
       "\n",
       "                                            institution  \\\n",
       "3215  Georgia Institute of Technology;Georgia Instit...   \n",
       "3181  Polytechnique Montreal;University of Montreal;...   \n",
       "3588  Preferred Networks, Inc.;Preferred Networks, I...   \n",
       "\n",
       "                        csranking categories              authors_citations  \\\n",
       "3215               13;13;13;13;13          0              32;26;285;571;314   \n",
       "3181  390;128;-1;-1;128;128;-1;-1          0  286;281;5;18;763;693;389;8489   \n",
       "3588                     -1;-1;-1          8                  628;2028;2498   \n",
       "\n",
       "         authors_publications       authors_hindex  arxiv  \\\n",
       "3215           8;15;72;102;90           3;3;8;12;8  False   \n",
       "3181  11;14;8;21;37;28;32;120  4;7;1;3;18;10;10;33  False   \n",
       "3588                 73;99;35             14;21;12   True   \n",
       "\n",
       "      authors_citations_median  authors_publications_median  \\\n",
       "3215                     285.0                         72.0   \n",
       "3181                     337.5                         24.5   \n",
       "3588                    2028.0                         73.0   \n",
       "\n",
       "      authors_hindex_median  reputation  crazy  has_top_company  \\\n",
       "3215                    8.0   -1.190636    5.0                0   \n",
       "3181                    8.5    0.990237   -5.0                0   \n",
       "3588                   14.0    0.997114   -5.0                0   \n",
       "\n",
       "      has_top_institution  \n",
       "3215                    1  \n",
       "3181                    1  \n",
       "3588                    0  "
      ]
     },
     "execution_count": 238,
     "metadata": {},
     "output_type": "execute_result"
    }
   ],
   "source": [
    "paper2020.sample(3)"
   ]
  },
  {
   "cell_type": "markdown",
   "metadata": {},
   "source": [
    "## Statsmodels"
   ]
  },
  {
   "cell_type": "code",
   "execution_count": 242,
   "metadata": {},
   "outputs": [],
   "source": [
    "import statsmodels.api as sm\n",
    "import statsmodels.formula.api as smf\n"
   ]
  },
  {
   "cell_type": "code",
   "execution_count": 246,
   "metadata": {},
   "outputs": [
    {
     "name": "stdout",
     "output_type": "stream",
     "text": [
      "Optimization terminated successfully.\n",
      "         Current function value: 0.251882\n",
      "         Iterations 8\n",
      "                           Logit Regression Results                           \n",
      "==============================================================================\n",
      "Dep. Variable:              decisions   No. Observations:                 2052\n",
      "Model:                          Logit   Df Residuals:                     2050\n",
      "Method:                           MLE   Df Model:                            1\n",
      "Date:                Tue, 17 Nov 2020   Pseudo R-squ.:                  0.5913\n",
      "Time:                        16:01:08   Log-Likelihood:                -516.86\n",
      "converged:                       True   LL-Null:                       -1264.6\n",
      "Covariance Type:            nonrobust   LLR p-value:                     0.000\n",
      "==============================================================================\n",
      "                 coef    std err          z      P>|z|      [0.025      0.975]\n",
      "------------------------------------------------------------------------------\n",
      "Intercept    -12.8811      0.597    -21.574      0.000     -14.051     -11.711\n",
      "ratings        2.3672      0.110     21.438      0.000       2.151       2.584\n",
      "==============================================================================\n"
     ]
    }
   ],
   "source": [
    "mod = smf.logit(formula='decisions ~ ratings' , data = paper2020)\n",
    "res= mod.fit()\n",
    "print(res.summary())"
   ]
  },
  {
   "cell_type": "markdown",
   "metadata": {},
   "source": [
    "### Sklearn"
   ]
  },
  {
   "cell_type": "code",
   "execution_count": 288,
   "metadata": {},
   "outputs": [],
   "source": [
    "from sklearn.linear_model import LinearRegression, LogisticRegression, Ridge\n",
    "log_reg = LogisticRegression(fit_intercept=True)  # create the model\n",
    "paper2020 = df.loc[df['year']==2020]\n",
    "#X_train = paper2020.drop(['decisions','paper','authors','institution','csranking','authors_hindex','authors_citations','authors_publications'],axis=1)\n",
    "X_train = paper2020[['ratings']]\n",
    "y_train = paper2020['decisions'].apply(lambda x : 1 if x=='Accept' else 0)"
   ]
  },
  {
   "cell_type": "code",
   "execution_count": 289,
   "metadata": {},
   "outputs": [
    {
     "data": {
      "text/plain": [
       "LogisticRegression()"
      ]
     },
     "execution_count": 289,
     "metadata": {},
     "output_type": "execute_result"
    }
   ],
   "source": [
    "log_reg.fit(X_train, y_train)  # train it"
   ]
  },
  {
   "cell_type": "code",
   "execution_count": 290,
   "metadata": {},
   "outputs": [
    {
     "name": "stdout",
     "output_type": "stream",
     "text": [
      "2.3391165899082815 * ratings + \n",
      "-12.730478459704877\n"
     ]
    }
   ],
   "source": [
    "for f in range(0,len(X_train.columns)):\n",
    "    print(\"{0} * {1} + \".format(log_reg.coef_[0][f], X_train.columns[f]))\n",
    "print(log_reg.intercept_[0])"
   ]
  },
  {
   "cell_type": "markdown",
   "metadata": {},
   "source": [
    "### Task 2.3\n",
    "\n",
    "Our model is not so interesting since the only independent variable (that is, our model' feature or predictor) is something blatantly associated with paper acceptance. Let's go further! \n",
    "\n",
    "1. Run a logistic regression with the binary decision as the dependent variable (the outcome) and using as independent variables (the features): ratings, the reputation of the last author, and whether the paper was on arxiv or not. That is, in [patsy-style formula](https://patsy.readthedocs.io/en/latest/formulas.html): `decisions ~ ratings + reputation + arxiv` (variable names do not need to be exactly these). Consider all papers submitted in 2020 as your training data.\n",
    "Notice that reputation was calculated in Task 1.1. \n",
    "2. **Discuss:** Unlike `ratings` and `reputation`, the variable `arxiv` is binary. Following the same logic as we did for continuous variables in the text of Task 2.2, interpret the meaning of this coefficient. What happens to the odds ratio if the paper was seen in arxiv? Is this effect statistically significant?"
   ]
  },
  {
   "cell_type": "markdown",
   "metadata": {},
   "source": [
    " ## Statmodel"
   ]
  },
  {
   "cell_type": "code",
   "execution_count": 223,
   "metadata": {},
   "outputs": [],
   "source": [
    "paper2020 = df.loc[df['year']==2020]"
   ]
  },
  {
   "cell_type": "code",
   "execution_count": 224,
   "metadata": {},
   "outputs": [
    {
     "name": "stderr",
     "output_type": "stream",
     "text": [
      "<ipython-input-224-26335df3789a>:1: SettingWithCopyWarning: \n",
      "A value is trying to be set on a copy of a slice from a DataFrame.\n",
      "Try using .loc[row_indexer,col_indexer] = value instead\n",
      "\n",
      "See the caveats in the documentation: https://pandas.pydata.org/pandas-docs/stable/user_guide/indexing.html#returning-a-view-versus-a-copy\n",
      "  paper2020['decisions'] = paper2020['decisions'].apply(lambda x : 1 if x=='Accept'\n"
     ]
    }
   ],
   "source": [
    "paper2020['decisions'] = paper2020['decisions'].apply(lambda x : 1 if x=='Accept'\n",
    "                                                 else 0)"
   ]
  },
  {
   "cell_type": "code",
   "execution_count": 225,
   "metadata": {},
   "outputs": [
    {
     "name": "stdout",
     "output_type": "stream",
     "text": [
      "Optimization terminated successfully.\n",
      "         Current function value: 0.250440\n",
      "         Iterations 8\n",
      "                           Logit Regression Results                           \n",
      "==============================================================================\n",
      "Dep. Variable:              decisions   No. Observations:                 2052\n",
      "Model:                          Logit   Df Residuals:                     2048\n",
      "Method:                           MLE   Df Model:                            3\n",
      "Date:                Tue, 17 Nov 2020   Pseudo R-squ.:                  0.5936\n",
      "Time:                        15:51:20   Log-Likelihood:                -513.90\n",
      "converged:                       True   LL-Null:                       -1264.6\n",
      "Covariance Type:            nonrobust   LLR p-value:                     0.000\n",
      "=================================================================================\n",
      "                    coef    std err          z      P>|z|      [0.025      0.975]\n",
      "---------------------------------------------------------------------------------\n",
      "Intercept       -13.2261      0.634    -20.873      0.000     -14.468     -11.984\n",
      "arxiv[T.True]     0.2890      0.167      1.727      0.084      -0.039       0.617\n",
      "ratings           2.3541      0.111     21.296      0.000       2.137       2.571\n",
      "reputation        0.2267      0.148      1.533      0.125      -0.063       0.517\n",
      "=================================================================================\n"
     ]
    }
   ],
   "source": [
    "mod = smf.logit(formula='decisions ~ ratings + reputation + arxiv' , data =paper2020)\n",
    "res= mod.fit()\n",
    "print(res.summary())"
   ]
  },
  {
   "cell_type": "markdown",
   "metadata": {},
   "source": [
    "## SKlearn"
   ]
  },
  {
   "cell_type": "code",
   "execution_count": 164,
   "metadata": {},
   "outputs": [
    {
     "data": {
      "text/plain": [
       "LogisticRegression()"
      ]
     },
     "execution_count": 164,
     "metadata": {},
     "output_type": "execute_result"
    }
   ],
   "source": [
    "from sklearn.linear_model import LinearRegression, LogisticRegression, Ridge\n",
    "log_reg = LogisticRegression()\n",
    "X_train = paper2020[['ratings','arxiv','reputation']]\n",
    "y_train = paper2020['decisions'].apply(lambda x : 1 if x=='Accept'\n",
    "                                                 else 0)\n",
    "log_reg.fit(X_train, y_train)"
   ]
  },
  {
   "cell_type": "code",
   "execution_count": 165,
   "metadata": {},
   "outputs": [
    {
     "data": {
      "text/plain": [
       "2.326095073953047"
      ]
     },
     "execution_count": 165,
     "metadata": {},
     "output_type": "execute_result"
    }
   ],
   "source": [
    "log_reg.coef_[0][0]"
   ]
  },
  {
   "cell_type": "code",
   "execution_count": 166,
   "metadata": {},
   "outputs": [
    {
     "name": "stdout",
     "output_type": "stream",
     "text": [
      "2.326095073953047 * ratings + \n",
      "0.2814665530259435 * arxiv + \n",
      "0.22254585322636183 * reputation + \n",
      "-13.067313325364816\n"
     ]
    }
   ],
   "source": [
    "\n",
    "for f in range(0,len(X_train.columns)):\n",
    "    print(\"{0} * {1} + \".format(log_reg.coef_[0][f], X_train.columns[f]))\n",
    "print(log_reg.intercept_[0])"
   ]
  },
  {
   "cell_type": "markdown",
   "metadata": {},
   "source": [
    "### Task 2.4\n",
    "\n",
    "Let's finally move on to the question that you have been dying to answer: Do pre-prints favor top institutions? \n",
    "\n",
    "In order to (try to) answer that question, you must fit yet another logistic regression.\n",
    "\n",
    "Your regression should have the paper decision as the dependent variable, and `ratings`, `reputation`, and `arxiv` as independent variables just like in task 2.3. Yet, here, include also as independent variables the binary variable `has_top_institution`, which equals 1 if the paper has an author in a top-10 institution; and the interaction variable `arxiv:has_top_institution`, which equals one only if the paper is from a top-10 institution **and** if it appeared on arxiv before the submission deadline. In patsy-style formula your model should look something like: \n",
    "\n",
    "`decisions_bool ~ ratings + reputation + arxiv + has_top_institution + arxiv:has_top_institution`\n",
    "\n",
    "\n",
    "1. Fit this model and estimate the effect of posting on arxiv for a top institution. Again, consider only papers submitted in the 2020 edition.\n",
    "2. **Discuss:** Interpreting the p-values, discuss: is this evidence that arxiv breaks double-blind submissions?"
   ]
  },
  {
   "cell_type": "code",
   "execution_count": 317,
   "metadata": {},
   "outputs": [],
   "source": [
    "paper2020_ = df.loc[df['year']==2020].copy()"
   ]
  },
  {
   "cell_type": "code",
   "execution_count": 318,
   "metadata": {},
   "outputs": [
    {
     "data": {
      "text/plain": [
       "2204    0\n",
       "2205    0\n",
       "2206    0\n",
       "2207    0\n",
       "2208    0\n",
       "       ..\n",
       "4251    0\n",
       "4252    0\n",
       "4253    0\n",
       "4254    0\n",
       "4255    0\n",
       "Name: has_top_institution, Length: 2052, dtype: int32"
      ]
     },
     "execution_count": 318,
     "metadata": {},
     "output_type": "execute_result"
    }
   ],
   "source": [
    "paper2020_['has_top_institution']"
   ]
  },
  {
   "cell_type": "code",
   "execution_count": 319,
   "metadata": {},
   "outputs": [],
   "source": [
    "paper2020_['decisions'] = paper2020_['decisions'].apply(lambda x : 1 if x=='Accept'\n",
    "                                                 else 0)"
   ]
  },
  {
   "cell_type": "code",
   "execution_count": 320,
   "metadata": {},
   "outputs": [
    {
     "name": "stdout",
     "output_type": "stream",
     "text": [
      "Optimization terminated successfully.\n",
      "         Current function value: 0.247320\n",
      "         Iterations 8\n",
      "                           Logit Regression Results                           \n",
      "==============================================================================\n",
      "Dep. Variable:              decisions   No. Observations:                 2052\n",
      "Model:                          Logit   Df Residuals:                     2046\n",
      "Method:                           MLE   Df Model:                            5\n",
      "Date:                Tue, 17 Nov 2020   Pseudo R-squ.:                  0.5987\n",
      "Time:                        17:28:46   Log-Likelihood:                -507.50\n",
      "converged:                       True   LL-Null:                       -1264.6\n",
      "Covariance Type:            nonrobust   LLR p-value:                     0.000\n",
      "====================================================================================================\n",
      "                                       coef    std err          z      P>|z|      [0.025      0.975]\n",
      "----------------------------------------------------------------------------------------------------\n",
      "Intercept                          -13.3940      0.647    -20.717      0.000     -14.661     -12.127\n",
      "C(arxiv)[T.True]                     0.1061      0.200      0.529      0.597      -0.287       0.499\n",
      "C(has_top_institution)[T.1]          0.4373        nan        nan        nan         nan         nan\n",
      "ratings                              2.3834      0.113     21.171      0.000       2.163       2.604\n",
      "reputation                           0.1605      0.150      1.072      0.284      -0.133       0.454\n",
      "arxiv[False]:has_top_institution    -0.0710        nan        nan        nan         nan         nan\n",
      "arxiv[True]:has_top_institution      0.5083        nan        nan        nan         nan         nan\n",
      "====================================================================================================\n"
     ]
    }
   ],
   "source": [
    "mod = smf.logit(formula='decisions ~ ratings + reputation + C(arxiv) + C(has_top_institution) + arxiv:has_top_institution' , data =paper2020_)\n",
    "res= mod.fit()\n",
    "print(res.summary())"
   ]
  },
  {
   "cell_type": "markdown",
   "metadata": {},
   "source": [
    "## Step 3: Matching\n",
    "\n",
    "Okay, so let's change hats one last time.\n",
    "\n",
    "As you have all seen in class, a particularly powerful way of disentangling causal effects from observational data is through matching: making sure we are not comparing apples to oranges.\n",
    "\n",
    "\n",
    "### Task 3.1\n",
    "\n",
    "One of the ways to do matching is called \"Propensity Score Matching.\" There, we calculate a *propensity score* for each subject which represents the propensity to receive a \"treatment.\" Then, we match subjects who received and did not receive the treatment, but that had similar propensity scores (that is, even though some received the treatment and some did not, they had similar chances to receive it).\n",
    "\n",
    "In our specific case, we can further attempt to study the impact of pre-prints by considering publishing to arxiv as our \"treatment\".\n",
    "\n",
    "In that context, the first step to perform propensity score matching is to create a classifier that predicts whether a paper was published on arxiv or not.\n",
    "\n",
    "1. We have trained this classifier for you (don't get spoiled!). You may load the pandas dataframe entitled `propensity_scores.csv.gz` from the github repo. \n",
    "Notice that we will be using only the articles published in 2020. \n",
    "Create a new dataframe that is a merged version of this new dataframe with the dataframe you have been working on so far. Remember to keep only the papers published in 2020!\n",
    "2. **Discuss:** In which way is this classifier (that is a classifier trained to estimate propensity scores) different from the regressor that you trained in Step 1?\n",
    "\n",
    "**Hint:** For this classifier we don't need a training set and a testing set!\n"
   ]
  },
  {
   "cell_type": "code",
   "execution_count": 325,
   "metadata": {},
   "outputs": [
    {
     "data": {
      "text/plain": [
       "0       0.360486\n",
       "1       0.567842\n",
       "2       0.334322\n",
       "3       0.402644\n",
       "4       0.334322\n",
       "          ...   \n",
       "2047    0.306323\n",
       "2048    0.219910\n",
       "2049    0.208421\n",
       "2050    0.213840\n",
       "2051    0.304699\n",
       "Name: propensity_score, Length: 2052, dtype: float64"
      ]
     },
     "execution_count": 325,
     "metadata": {},
     "output_type": "execute_result"
    }
   ],
   "source": [
    "propensity_df['propensity_score']"
   ]
  },
  {
   "cell_type": "code",
   "execution_count": 326,
   "metadata": {},
   "outputs": [],
   "source": [
    "paper2020_with_propensity = paper2020.merge(propensity_df,\n",
    "                                           on = 'paper')"
   ]
  },
  {
   "cell_type": "code",
   "execution_count": 327,
   "metadata": {},
   "outputs": [
    {
     "data": {
      "text/html": [
       "<div>\n",
       "<style scoped>\n",
       "    .dataframe tbody tr th:only-of-type {\n",
       "        vertical-align: middle;\n",
       "    }\n",
       "\n",
       "    .dataframe tbody tr th {\n",
       "        vertical-align: top;\n",
       "    }\n",
       "\n",
       "    .dataframe thead th {\n",
       "        text-align: right;\n",
       "    }\n",
       "</style>\n",
       "<table border=\"1\" class=\"dataframe\">\n",
       "  <thead>\n",
       "    <tr style=\"text-align: right;\">\n",
       "      <th></th>\n",
       "      <th>year</th>\n",
       "      <th>paper</th>\n",
       "      <th>authors</th>\n",
       "      <th>ratings</th>\n",
       "      <th>decisions</th>\n",
       "      <th>institution</th>\n",
       "      <th>csranking</th>\n",
       "      <th>categories</th>\n",
       "      <th>authors_citations</th>\n",
       "      <th>authors_publications</th>\n",
       "      <th>authors_hindex</th>\n",
       "      <th>arxiv</th>\n",
       "      <th>authors_citations_median</th>\n",
       "      <th>authors_publications_median</th>\n",
       "      <th>authors_hindex_median</th>\n",
       "      <th>reputation</th>\n",
       "      <th>crazy</th>\n",
       "      <th>has_top_company</th>\n",
       "      <th>has_top_institution</th>\n",
       "      <th>propensity_score</th>\n",
       "    </tr>\n",
       "  </thead>\n",
       "  <tbody>\n",
       "    <tr>\n",
       "      <th>0</th>\n",
       "      <td>2020</td>\n",
       "      <td>Pitfalls of In-Domain Uncertainty Estimation a...</td>\n",
       "      <td>Arsenii Ashukha;Alexander Lyzhov;Dmitry Molcha...</td>\n",
       "      <td>6.666667</td>\n",
       "      <td>Accept</td>\n",
       "      <td>Samsung;Skolkovo Institute of Science and Tech...</td>\n",
       "      <td>-1;-1;-1;481</td>\n",
       "      <td>0</td>\n",
       "      <td>488;12;481;2097</td>\n",
       "      <td>14;2;17;124</td>\n",
       "      <td>8;1;7;16</td>\n",
       "      <td>False</td>\n",
       "      <td>484.5</td>\n",
       "      <td>15.5</td>\n",
       "      <td>7.5</td>\n",
       "      <td>1.253127</td>\n",
       "      <td>-6.666667</td>\n",
       "      <td>0</td>\n",
       "      <td>1</td>\n",
       "      <td>0.360486</td>\n",
       "    </tr>\n",
       "    <tr>\n",
       "      <th>1</th>\n",
       "      <td>2020</td>\n",
       "      <td>An Inductive Bias for Distances: Neural Nets t...</td>\n",
       "      <td>Silviu Pitis;Harris Chan;Kiarash Jamali;Jimmy Ba</td>\n",
       "      <td>6.750000</td>\n",
       "      <td>Accept</td>\n",
       "      <td>Department of Computer Science, University of ...</td>\n",
       "      <td>18;18;18;18</td>\n",
       "      <td>1;10</td>\n",
       "      <td>15;23;3;52924</td>\n",
       "      <td>9;13;3;56</td>\n",
       "      <td>2;3;1;22</td>\n",
       "      <td>False</td>\n",
       "      <td>19.0</td>\n",
       "      <td>11.0</td>\n",
       "      <td>2.5</td>\n",
       "      <td>2.975924</td>\n",
       "      <td>-6.750000</td>\n",
       "      <td>0</td>\n",
       "      <td>1</td>\n",
       "      <td>0.567842</td>\n",
       "    </tr>\n",
       "  </tbody>\n",
       "</table>\n",
       "</div>"
      ],
      "text/plain": [
       "   year                                              paper  \\\n",
       "0  2020  Pitfalls of In-Domain Uncertainty Estimation a...   \n",
       "1  2020  An Inductive Bias for Distances: Neural Nets t...   \n",
       "\n",
       "                                             authors   ratings decisions  \\\n",
       "0  Arsenii Ashukha;Alexander Lyzhov;Dmitry Molcha...  6.666667    Accept   \n",
       "1   Silviu Pitis;Harris Chan;Kiarash Jamali;Jimmy Ba  6.750000    Accept   \n",
       "\n",
       "                                         institution     csranking categories  \\\n",
       "0  Samsung;Skolkovo Institute of Science and Tech...  -1;-1;-1;481          0   \n",
       "1  Department of Computer Science, University of ...   18;18;18;18       1;10   \n",
       "\n",
       "  authors_citations authors_publications authors_hindex  arxiv  \\\n",
       "0   488;12;481;2097          14;2;17;124       8;1;7;16  False   \n",
       "1     15;23;3;52924            9;13;3;56       2;3;1;22  False   \n",
       "\n",
       "   authors_citations_median  authors_publications_median  \\\n",
       "0                     484.5                         15.5   \n",
       "1                      19.0                         11.0   \n",
       "\n",
       "   authors_hindex_median  reputation     crazy  has_top_company  \\\n",
       "0                    7.5    1.253127 -6.666667                0   \n",
       "1                    2.5    2.975924 -6.750000                0   \n",
       "\n",
       "   has_top_institution  propensity_score  \n",
       "0                    1          0.360486  \n",
       "1                    1          0.567842  "
      ]
     },
     "execution_count": 327,
     "metadata": {},
     "output_type": "execute_result"
    }
   ],
   "source": [
    "paper2020_with_propensity.head(2)"
   ]
  },
  {
   "cell_type": "markdown",
   "metadata": {},
   "source": [
    "This classifier is different because he is based on residual ??\n",
    "Tree vs classifier ?\n",
    "Je pense que la différence est qu'on n'utilise pas de training et test set dans le deuxieme car on va utiliser des cluster pour regrouper les data tandis que le premier on utilisait des tree ?\n"
   ]
  },
  {
   "cell_type": "markdown",
   "metadata": {},
   "source": [
    "### Task 3.2\n",
    "\n",
    "Now is time to match users! You will be implementing a technique called *caliper matching*. \n",
    "\n",
    "Create pairs of users as follows. For each treated subject (here a paper that was submitted to arxiv), find a non-treated subject (a paper that was not submitted to arxiv) with similar propensity score. Namely, if the propensity score of the treated unit is $p_t$, you must find a non-treated unit $p_c$ with propensity score $|p_{c} - p_t| < \\epsilon$. If there is no such a non-treated unit, you may ignore the treated unit and move forward with the matching. Notice that your output must be a 1-to-1 matching. So each paper can only be matched once.\n",
    "\n",
    "1. Perform this matching procedure using $\\epsilon = 0.05$.\n",
    "2. Report how many pairs did you manage to match? How many didn't you?"
   ]
  },
  {
   "cell_type": "code",
   "execution_count": 328,
   "metadata": {},
   "outputs": [],
   "source": [
    "import networkx as nx\n"
   ]
  },
  {
   "cell_type": "code",
   "execution_count": 329,
   "metadata": {},
   "outputs": [],
   "source": [
    "def get_estimation(ptreat, pcontr):\n",
    "    ''' Return the estimator of the similarity between propensity score '''\n",
    "    return np.abs(pcontr-ptreat)"
   ]
  },
  {
   "cell_type": "code",
   "execution_count": 330,
   "metadata": {},
   "outputs": [],
   "source": [
    "def get_similarity(propensity_score1, propensity_score2):\n",
    "    '''Calculate similarity for instances with given propensity scores'''\n",
    "    return 1-np.abs(propensity_score1-propensity_score2)"
   ]
  },
  {
   "cell_type": "code",
   "execution_count": 335,
   "metadata": {},
   "outputs": [],
   "source": [
    "# Separate the treatment and control groups\n",
    "treatment_df = paper2020_with_propensity.loc[paper2020_with_propensity['arxiv']==True]\n",
    "control_df = paper2020_with_propensity.loc[paper2020_with_propensity['arxiv']==False]\n",
    "\n",
    "# Create an empty undirected graph\n",
    "G = nx.Graph()\n",
    "a=0\n",
    "# Loop through all the pairs of instances control 1 prepare to link all the treatment \n",
    "for treatment_id, treatment_row in treatment_df.iterrows():\n",
    "    for control_id, control_row in control_df.iterrows():\n",
    "            # Calculate the similarity \n",
    "            estimator = get_estimation(treatment_row['propensity_score'],\n",
    "                                      control_row['propensity_score'])\n",
    "            if estimator < 0.05:\n",
    "                # Add an edge between the two instances weighted by the similarity between them\n",
    "                G.add_weighted_edges_from([(treatment_id, control_id, -estimator)])\n",
    "                a=a+1\n",
    "                "
   ]
  },
  {
   "cell_type": "code",
   "execution_count": 336,
   "metadata": {},
   "outputs": [
    {
     "data": {
      "text/plain": [
       "268046"
      ]
     },
     "execution_count": 336,
     "metadata": {},
     "output_type": "execute_result"
    }
   ],
   "source": [
    "a"
   ]
  },
  {
   "cell_type": "code",
   "execution_count": null,
   "metadata": {},
   "outputs": [],
   "source": [
    "# Generate and return the maximum weight matching on the generated graph"
   ]
  },
  {
   "cell_type": "code",
   "execution_count": 337,
   "metadata": {},
   "outputs": [
    {
     "data": {
      "text/plain": [
       "{(2, 4),\n",
       " (18, 935),\n",
       " (121, 148),\n",
       " (224, 269),\n",
       " (458, 70),\n",
       " (507, 1591),\n",
       " (580, 101),\n",
       " (600, 1673),\n",
       " (673, 454),\n",
       " (859, 683),\n",
       " (1015, 1359),\n",
       " (1024, 682),\n",
       " (1033, 1961),\n",
       " (1049, 1021),\n",
       " (1424, 1586),\n",
       " (1500, 1583),\n",
       " (1617, 851),\n",
       " (1691, 1612),\n",
       " (1746, 661),\n",
       " (1916, 1253)}"
      ]
     },
     "execution_count": 337,
     "metadata": {},
     "output_type": "execute_result"
    }
   ],
   "source": [
    "matching = nx.max_weight_matching(G)\n",
    "matching"
   ]
  },
  {
   "cell_type": "code",
   "execution_count": 338,
   "metadata": {},
   "outputs": [
    {
     "data": {
      "text/plain": [
       "20"
      ]
     },
     "execution_count": 338,
     "metadata": {},
     "output_type": "execute_result"
    }
   ],
   "source": [
    "len(matching)"
   ]
  },
  {
   "cell_type": "code",
   "execution_count": 47,
   "metadata": {},
   "outputs": [
    {
     "name": "stdout",
     "output_type": "stream",
     "text": [
      "We have  590  pairs on 1462\n"
     ]
    }
   ],
   "source": [
    "print('We have ',len(matching),' pairs on',len(control_df))"
   ]
  },
  {
   "cell_type": "markdown",
   "metadata": {},
   "source": [
    "treatment_id=6\n",
    "matched_id=[1,5,7,8]\n",
    "if treatment_id not in matched_id:\n",
    "    print('ok')\n",
    "    \n",
    "matched_id.append(6)\n",
    "\n",
    "treatment_id=6\n",
    "if treatment_id not in matched_id:\n",
    "    print('ok')\n"
   ]
  },
  {
   "cell_type": "markdown",
   "metadata": {
    "pycharm": {
     "name": "#%% md\n"
    }
   },
   "source": [
    "### Task 3.3\n",
    "\n",
    "Let's evaluate your matching! There are more rigorous ways to do it, but we'll go the easy path.\n",
    "\n",
    "\n",
    "1. Using one or several appropriate plot types, visualize the distributions of the variables reputation and ratings, for treated and non-treated subjects that you matched.\n",
    "2. Visualize the distributions of these variables for all papers from 2020 that appeared on arxiv, and all papers that did not (including those you did not manage to match).\n",
    "3. **Discuss:** According to your visual analysis (no statistical tests needed here), did the matching do a good job at balancing covariates?"
   ]
  },
  {
   "cell_type": "code",
   "execution_count": 339,
   "metadata": {
    "pycharm": {
     "name": "#%%\n"
    }
   },
   "outputs": [],
   "source": [
    "balanced_df_all = paper2020_with_propensity.iloc[[subj_id for t in matching for subj_id in t]]"
   ]
  },
  {
   "cell_type": "code",
   "execution_count": 340,
   "metadata": {},
   "outputs": [
    {
     "data": {
      "text/html": [
       "<div>\n",
       "<style scoped>\n",
       "    .dataframe tbody tr th:only-of-type {\n",
       "        vertical-align: middle;\n",
       "    }\n",
       "\n",
       "    .dataframe tbody tr th {\n",
       "        vertical-align: top;\n",
       "    }\n",
       "\n",
       "    .dataframe thead th {\n",
       "        text-align: right;\n",
       "    }\n",
       "</style>\n",
       "<table border=\"1\" class=\"dataframe\">\n",
       "  <thead>\n",
       "    <tr style=\"text-align: right;\">\n",
       "      <th></th>\n",
       "      <th>year</th>\n",
       "      <th>ratings</th>\n",
       "      <th>authors_citations_median</th>\n",
       "      <th>authors_publications_median</th>\n",
       "      <th>authors_hindex_median</th>\n",
       "      <th>reputation</th>\n",
       "      <th>crazy</th>\n",
       "      <th>has_top_company</th>\n",
       "      <th>has_top_institution</th>\n",
       "      <th>propensity_score</th>\n",
       "    </tr>\n",
       "  </thead>\n",
       "  <tbody>\n",
       "    <tr>\n",
       "      <th>count</th>\n",
       "      <td>40.0</td>\n",
       "      <td>40.000000</td>\n",
       "      <td>40.000000</td>\n",
       "      <td>40.000000</td>\n",
       "      <td>40.000000</td>\n",
       "      <td>40.000000</td>\n",
       "      <td>40.000000</td>\n",
       "      <td>40.000000</td>\n",
       "      <td>40.000000</td>\n",
       "      <td>40.000000</td>\n",
       "    </tr>\n",
       "    <tr>\n",
       "      <th>mean</th>\n",
       "      <td>2020.0</td>\n",
       "      <td>4.800000</td>\n",
       "      <td>2726.437500</td>\n",
       "      <td>49.487500</td>\n",
       "      <td>13.050000</td>\n",
       "      <td>1.486144</td>\n",
       "      <td>-0.750000</td>\n",
       "      <td>0.050000</td>\n",
       "      <td>0.925000</td>\n",
       "      <td>0.319950</td>\n",
       "    </tr>\n",
       "    <tr>\n",
       "      <th>std</th>\n",
       "      <td>0.0</td>\n",
       "      <td>1.282803</td>\n",
       "      <td>5338.841179</td>\n",
       "      <td>52.950568</td>\n",
       "      <td>13.511059</td>\n",
       "      <td>0.651057</td>\n",
       "      <td>5.595964</td>\n",
       "      <td>0.220721</td>\n",
       "      <td>0.266747</td>\n",
       "      <td>0.086538</td>\n",
       "    </tr>\n",
       "    <tr>\n",
       "      <th>min</th>\n",
       "      <td>2020.0</td>\n",
       "      <td>1.666667</td>\n",
       "      <td>1.000000</td>\n",
       "      <td>2.000000</td>\n",
       "      <td>1.000000</td>\n",
       "      <td>0.248886</td>\n",
       "      <td>-7.333333</td>\n",
       "      <td>0.000000</td>\n",
       "      <td>0.000000</td>\n",
       "      <td>0.126457</td>\n",
       "    </tr>\n",
       "    <tr>\n",
       "      <th>25%</th>\n",
       "      <td>2020.0</td>\n",
       "      <td>4.000000</td>\n",
       "      <td>109.625000</td>\n",
       "      <td>16.750000</td>\n",
       "      <td>4.000000</td>\n",
       "      <td>0.966454</td>\n",
       "      <td>-5.750000</td>\n",
       "      <td>0.000000</td>\n",
       "      <td>1.000000</td>\n",
       "      <td>0.245244</td>\n",
       "    </tr>\n",
       "    <tr>\n",
       "      <th>50%</th>\n",
       "      <td>2020.0</td>\n",
       "      <td>5.000000</td>\n",
       "      <td>375.000000</td>\n",
       "      <td>30.500000</td>\n",
       "      <td>8.000000</td>\n",
       "      <td>1.620260</td>\n",
       "      <td>-5.000000</td>\n",
       "      <td>0.000000</td>\n",
       "      <td>1.000000</td>\n",
       "      <td>0.357249</td>\n",
       "    </tr>\n",
       "    <tr>\n",
       "      <th>75%</th>\n",
       "      <td>2020.0</td>\n",
       "      <td>5.750000</td>\n",
       "      <td>1353.250000</td>\n",
       "      <td>55.500000</td>\n",
       "      <td>17.125000</td>\n",
       "      <td>1.912496</td>\n",
       "      <td>5.000000</td>\n",
       "      <td>0.000000</td>\n",
       "      <td>1.000000</td>\n",
       "      <td>0.380701</td>\n",
       "    </tr>\n",
       "    <tr>\n",
       "      <th>max</th>\n",
       "      <td>2020.0</td>\n",
       "      <td>7.333333</td>\n",
       "      <td>21383.000000</td>\n",
       "      <td>198.000000</td>\n",
       "      <td>52.500000</td>\n",
       "      <td>2.414047</td>\n",
       "      <td>7.333333</td>\n",
       "      <td>1.000000</td>\n",
       "      <td>1.000000</td>\n",
       "      <td>0.456448</td>\n",
       "    </tr>\n",
       "  </tbody>\n",
       "</table>\n",
       "</div>"
      ],
      "text/plain": [
       "         year    ratings  authors_citations_median  \\\n",
       "count    40.0  40.000000                 40.000000   \n",
       "mean   2020.0   4.800000               2726.437500   \n",
       "std       0.0   1.282803               5338.841179   \n",
       "min    2020.0   1.666667                  1.000000   \n",
       "25%    2020.0   4.000000                109.625000   \n",
       "50%    2020.0   5.000000                375.000000   \n",
       "75%    2020.0   5.750000               1353.250000   \n",
       "max    2020.0   7.333333              21383.000000   \n",
       "\n",
       "       authors_publications_median  authors_hindex_median  reputation  \\\n",
       "count                    40.000000              40.000000   40.000000   \n",
       "mean                     49.487500              13.050000    1.486144   \n",
       "std                      52.950568              13.511059    0.651057   \n",
       "min                       2.000000               1.000000    0.248886   \n",
       "25%                      16.750000               4.000000    0.966454   \n",
       "50%                      30.500000               8.000000    1.620260   \n",
       "75%                      55.500000              17.125000    1.912496   \n",
       "max                     198.000000              52.500000    2.414047   \n",
       "\n",
       "           crazy  has_top_company  has_top_institution  propensity_score  \n",
       "count  40.000000        40.000000            40.000000         40.000000  \n",
       "mean   -0.750000         0.050000             0.925000          0.319950  \n",
       "std     5.595964         0.220721             0.266747          0.086538  \n",
       "min    -7.333333         0.000000             0.000000          0.126457  \n",
       "25%    -5.750000         0.000000             1.000000          0.245244  \n",
       "50%    -5.000000         0.000000             1.000000          0.357249  \n",
       "75%     5.000000         0.000000             1.000000          0.380701  \n",
       "max     7.333333         1.000000             1.000000          0.456448  "
      ]
     },
     "execution_count": 340,
     "metadata": {},
     "output_type": "execute_result"
    }
   ],
   "source": [
    "balanced_df_all.describe()"
   ]
  },
  {
   "cell_type": "markdown",
   "metadata": {},
   "source": [
    "## With Matching"
   ]
  },
  {
   "cell_type": "code",
   "execution_count": 341,
   "metadata": {},
   "outputs": [
    {
     "data": {
      "image/png": "[encoded data removed]",
      "text/plain": [
       "<Figure size 720x360 with 2 Axes>"
      ]
     },
     "metadata": {
      "needs_background": "light"
     },
     "output_type": "display_data"
    }
   ],
   "source": [
    "\n",
    "g = sns.FacetGrid(balanced_df_all, col='arxiv',margin_titles=True, height=5)\n",
    "g.map(plt.hist, 'reputation')\n",
    "plt.suptitle('Reputation')\n",
    "plt.show()"
   ]
  },
  {
   "cell_type": "code",
   "execution_count": 342,
   "metadata": {
    "jupyter": {
     "source_hidden": true
    }
   },
   "outputs": [
    {
     "data": {
      "image/png": "[encoded data removed]",
      "text/plain": [
       "<Figure size 720x360 with 2 Axes>"
      ]
     },
     "metadata": {
      "needs_background": "light"
     },
     "output_type": "display_data"
    }
   ],
   "source": [
    "g = sns.FacetGrid(balanced_df_all, col='arxiv',margin_titles=True, height=5)\n",
    "g.map(plt.hist, 'ratings')\n",
    "plt.suptitle('Ratings')\n",
    "plt.show()"
   ]
  },
  {
   "cell_type": "markdown",
   "metadata": {},
   "source": [
    "## Without Matching For both arvix = True and arvix = False"
   ]
  },
  {
   "cell_type": "code",
   "execution_count": 343,
   "metadata": {
    "jupyter": {
     "source_hidden": true
    }
   },
   "outputs": [
    {
     "data": {
      "image/png": "[encoded data removed]",
      "text/plain": [
       "<Figure size 720x360 with 2 Axes>"
      ]
     },
     "metadata": {
      "needs_background": "light"
     },
     "output_type": "display_data"
    }
   ],
   "source": [
    "g = sns.FacetGrid(paper2020_with_propensity, col='arxiv',margin_titles=True, height=5)\n",
    "g.map(plt.hist, 'reputation')\n",
    "plt.suptitle('Paper 2020 -> Reputation')\n",
    "plt.show()"
   ]
  },
  {
   "cell_type": "code",
   "execution_count": 344,
   "metadata": {
    "jupyter": {
     "source_hidden": true
    }
   },
   "outputs": [
    {
     "data": {
      "image/png": "[encoded data removed]",
      "text/plain": [
       "<Figure size 720x360 with 2 Axes>"
      ]
     },
     "metadata": {
      "needs_background": "light"
     },
     "output_type": "display_data"
    }
   ],
   "source": [
    "g = sns.FacetGrid(paper2020_with_propensity, col='arxiv',margin_titles=True, height=5)\n",
    "g.map(plt.hist, 'ratings')\n",
    "plt.suptitle('Paper 2020 -> Reputation')\n",
    "plt.show()"
   ]
  },
  {
   "cell_type": "markdown",
   "metadata": {
    "pycharm": {
     "name": "#%% md\n"
    }
   },
   "source": [
    "### Task 3.4\n",
    "\n",
    "Finally, it's time to estimate the treatment effect. Given that we have pairs of matched samples, one that received treatment and one that did not, and that they have associated outcomes $y_{treat}$ and $y_{\\neg treat}$. We can calculate the average treatment effect as:\n",
    "\n",
    "$$\n",
    "ATE = \\frac{1}{N} \\sum_i^N  y_{treat}^{(i)} - y_{\\neg treat}^{(i)}\n",
    "$$\n",
    "\n",
    "Notice that here the outcome is a simple binary variable which equals 1 if the paper has been accepted and equals 0 if the paper has been rejected, and $N$ is the total number of matched samples in our analysis.\n",
    "\n",
    "According to your matched sample, estimate the treatment effect of publishing a paper on arxiv. \n",
    "### Report the 95% CI through bootstrapping.????\n"
   ]
  },
  {
   "cell_type": "code",
   "execution_count": 346,
   "metadata": {},
   "outputs": [
    {
     "data": {
      "text/plain": [
       "{(2, 4),\n",
       " (18, 935),\n",
       " (121, 148),\n",
       " (224, 269),\n",
       " (458, 70),\n",
       " (507, 1591),\n",
       " (580, 101),\n",
       " (600, 1673),\n",
       " (673, 454),\n",
       " (859, 683),\n",
       " (1015, 1359),\n",
       " (1024, 682),\n",
       " (1033, 1961),\n",
       " (1049, 1021),\n",
       " (1424, 1586),\n",
       " (1500, 1583),\n",
       " (1617, 851),\n",
       " (1691, 1612),\n",
       " (1746, 661),\n",
       " (1916, 1253)}"
      ]
     },
     "execution_count": 346,
     "metadata": {},
     "output_type": "execute_result"
    }
   ],
   "source": [
    "matching"
   ]
  },
  {
   "cell_type": "code",
   "execution_count": 347,
   "metadata": {
    "pycharm": {
     "name": "#%%\n"
    }
   },
   "outputs": [],
   "source": [
    "matching_df_treat = balanced_df_all.loc[balanced_df_all['arxiv']==True].reset_index(drop=True)\n",
    "matching_df_control = balanced_df_all.loc[balanced_df_all['arxiv']==False].reset_index(drop=True)\n",
    "matching_df_treat['y_treat_treat'] = matching_df_treat['decisions'].apply(lambda x : 1 if x == 'Accept' else 0)\n",
    "matching_df_control['y_treat_control'] = matching_df_control['decisions'].apply(lambda x : 1 if x == 'Accept' else 0)"
   ]
  },
  {
   "cell_type": "code",
   "execution_count": null,
   "metadata": {},
   "outputs": [],
   "source": []
  },
  {
   "cell_type": "code",
   "execution_count": 348,
   "metadata": {},
   "outputs": [],
   "source": [
    "ATE = (matching_df_treat ['y_treat_treat'] - matching_df_control['y_treat_control']).sum(\n",
    "    axis=0)/ matching_df_control['y_treat_control'].shape[0]"
   ]
  },
  {
   "cell_type": "code",
   "execution_count": 349,
   "metadata": {},
   "outputs": [
    {
     "name": "stdout",
     "output_type": "stream",
     "text": [
      "Ate = 0.1\n"
     ]
    }
   ],
   "source": [
    "print('Ate =', ATE)"
   ]
  },
  {
   "cell_type": "markdown",
   "metadata": {
    "pycharm": {
     "name": "#%% md\n"
    }
   },
   "source": [
    "### Task 3.5\n",
    "\n",
    "Wait, but what about prestigious institutions? \n",
    "\n",
    "1.  To understand what is going on there, repeat tasks 3.2 to 3.4 considering *only* the top 10 institutions. Notice that you can use the same propensity scores and re-do the steps in a reduced dataframe containing only top-institutions.\n",
    "2. **Discuss:** Is this evidence that arxiv breaks double-blind submissions?"
   ]
  },
  {
   "cell_type": "code",
   "execution_count": 350,
   "metadata": {
    "pycharm": {
     "name": "#%%\n"
    }
   },
   "outputs": [
    {
     "data": {
      "text/plain": [
       "{(2, 4),\n",
       " (18, 935),\n",
       " (121, 148),\n",
       " (224, 269),\n",
       " (458, 70),\n",
       " (507, 1591),\n",
       " (580, 101),\n",
       " (600, 1673),\n",
       " (673, 454),\n",
       " (1015, 1359),\n",
       " (1024, 682),\n",
       " (1033, 1961),\n",
       " (1049, 1021),\n",
       " (1500, 1583),\n",
       " (1617, 851),\n",
       " (1691, 1612),\n",
       " (1746, 661),\n",
       " (1916, 1253)}"
      ]
     },
     "execution_count": 350,
     "metadata": {},
     "output_type": "execute_result"
    }
   ],
   "source": [
    "# Separate the treatment and control groups\n",
    "treatment_df = paper2020_with_propensity.loc[(paper2020_with_propensity['arxiv']==True) \n",
    "                                             & (paper2020_with_propensity['has_top_institution'] == 1) ]\n",
    "control_df = paper2020_with_propensity.loc[(paper2020_with_propensity['arxiv']==False)\n",
    "                                           & ((paper2020_with_propensity['has_top_institution'] == 1) ) ]\n",
    "\n",
    "# Create an empty undirected graph\n",
    "G = nx.Graph()\n",
    "matched_control_id=[]\n",
    "matched_treatment_id=[]\n",
    "# Loop through all the pairs of instances control 1 prepare to link all the treatment \n",
    "for treatment_id, treatment_row in treatment_df.iterrows():\n",
    "    for control_id, control_row in control_df.iterrows():\n",
    "            estimator = get_estimation(treatment_row['propensity_score'],\n",
    "                                      control_row['propensity_score'])\n",
    "            if estimator < 0.05:\n",
    "                # Add an edge between the two instances weighted by the similarity between them\n",
    "                G.add_weighted_edges_from([(control_id, treatment_id, -estimator)])\n",
    "\n",
    "# Generate and return the maximum weight matching on the generated graph\n",
    "matching = nx.max_weight_matching(G)\n",
    "matching"
   ]
  },
  {
   "cell_type": "code",
   "execution_count": 351,
   "metadata": {},
   "outputs": [],
   "source": [
    "\n",
    "balanced_df_all_top10 = paper2020_with_propensity.iloc[[subj_id for t in matching for subj_id in t]]"
   ]
  },
  {
   "cell_type": "code",
   "execution_count": 352,
   "metadata": {},
   "outputs": [],
   "source": [
    "matching_df_treat = balanced_df_all_top10.loc[balanced_df_all_top10['arxiv']==True].reset_index(drop=True)\n",
    "matching_df_control = balanced_df_all_top10.loc[balanced_df_all_top10['arxiv']==False].reset_index(drop=True)\n",
    "matching_df_treat['y_treat_treat'] = matching_df_treat['decisions'].apply(lambda x : 1 if x == 'Accept' else 0)\n",
    "matching_df_control['y_treat_control'] = matching_df_control['decisions'].apply(lambda x : 1 if x == 'Accept' else 0)"
   ]
  },
  {
   "cell_type": "code",
   "execution_count": 353,
   "metadata": {},
   "outputs": [],
   "source": [
    "ATE = (matching_df_treat ['y_treat_treat'] - matching_df_control['y_treat_control']).sum(\n",
    "    axis=0)/ matching_df_control['y_treat_control'].shape[0]"
   ]
  },
  {
   "cell_type": "code",
   "execution_count": 354,
   "metadata": {},
   "outputs": [
    {
     "name": "stdout",
     "output_type": "stream",
     "text": [
      "Ate = 0.1111111111111111\n"
     ]
    }
   ],
   "source": [
    "print('Ate =', ATE)"
   ]
  },
  {
   "cell_type": "code",
   "execution_count": null,
   "metadata": {},
   "outputs": [],
   "source": []
  }
 ],
 "metadata": {
  "kernelspec": {
   "display_name": "Python 3",
   "language": "python",
   "name": "python3"
  },
  "language_info": {
   "codemirror_mode": {
    "name": "ipython",
    "version": 3
   },
   "file_extension": ".py",
   "mimetype": "text/x-python",
   "name": "python",
   "nbconvert_exporter": "python",
   "pygments_lexer": "ipython3",
   "version": "3.8.5"
  },
  "pycharm": {
   "stem_cell": {
    "cell_type": "raw",
    "metadata": {
     "collapsed": false
    },
    "source": []
   }
  }
 },
 "nbformat": 4,
 "nbformat_minor": 4
}
